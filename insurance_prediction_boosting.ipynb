{
 "cells": [
  {
   "attachments": {},
   "cell_type": "markdown",
   "metadata": {},
   "source": [
    "# Insurance Prediction Challenge"
   ]
  },
  {
   "attachments": {},
   "cell_type": "markdown",
   "metadata": {},
   "source": [
    "## Context"
   ]
  },
  {
   "attachments": {},
   "cell_type": "markdown",
   "metadata": {},
   "source": [
    "https://zindi.africa/competitions/insurance-prediction-challenge"
   ]
  },
  {
   "cell_type": "markdown",
   "metadata": {},
   "source": [
    "## 0. Préalable"
   ]
  },
  {
   "attachments": {},
   "cell_type": "markdown",
   "metadata": {},
   "source": [
    "### Importation des modules"
   ]
  },
  {
   "cell_type": "code",
   "execution_count": 16,
   "metadata": {},
   "outputs": [],
   "source": [
    "# numerical calculation\n",
    "import numpy as np\n",
    "# dataframe\n",
    "import pandas as pd\n",
    "# vizualisation\n",
    "import matplotlib.pyplot as plt\n",
    "import seaborn as sns\n",
    "# Advanced ML Models\n",
    "import optuna  # For hyperparameter optimization\n",
    "from xgboost import XGBClassifier\n",
    "from lightgbm import LGBMClassifier\n",
    "from catboost import CatBoostClassifier\n",
    "# splitting\n",
    "from sklearn.model_selection import train_test_split, StratifiedKFold\n",
    "# encoding\n",
    "from sklearn.preprocessing import OrdinalEncoder, LabelEncoder\n",
    "# metrics\n",
    "from sklearn.metrics import auc, roc_curve, classification_report, ConfusionMatrixDisplay\n",
    "# utils\n",
    "import random\n",
    "from datetime import datetime as dt\n",
    "# saving model\n",
    "import joblib\n",
    "\n",
    "# pd.options.display.max_rows = 10\n",
    "# pd.options.display.max_columns = None\n",
    "# pd.options.display.max_colwidth = None"
   ]
  },
  {
   "cell_type": "code",
   "execution_count": 2,
   "metadata": {},
   "outputs": [],
   "source": [
    "# Set seed for reproducability\n",
    "SEED = 42\n",
    "random.seed(SEED)\n",
    "np.random.seed(SEED)"
   ]
  },
  {
   "attachments": {},
   "cell_type": "markdown",
   "metadata": {},
   "source": [
    "### Chargement des jeux de données"
   ]
  },
  {
   "cell_type": "code",
   "execution_count": 4,
   "metadata": {},
   "outputs": [
    {
     "data": {
      "text/plain": [
       "'Train'"
      ]
     },
     "metadata": {},
     "output_type": "display_data"
    },
    {
     "data": {
      "text/html": [
       "<div>\n",
       "<style scoped>\n",
       "    .dataframe tbody tr th:only-of-type {\n",
       "        vertical-align: middle;\n",
       "    }\n",
       "\n",
       "    .dataframe tbody tr th {\n",
       "        vertical-align: top;\n",
       "    }\n",
       "\n",
       "    .dataframe thead th {\n",
       "        text-align: right;\n",
       "    }\n",
       "</style>\n",
       "<table border=\"1\" class=\"dataframe\">\n",
       "  <thead>\n",
       "    <tr style=\"text-align: right;\">\n",
       "      <th></th>\n",
       "      <th>Customer Id</th>\n",
       "      <th>YearOfObservation</th>\n",
       "      <th>Insured_Period</th>\n",
       "      <th>Residential</th>\n",
       "      <th>Building_Painted</th>\n",
       "      <th>Building_Fenced</th>\n",
       "      <th>Garden</th>\n",
       "      <th>Settlement</th>\n",
       "      <th>Building Dimension</th>\n",
       "      <th>Building_Type</th>\n",
       "      <th>Date_of_Occupancy</th>\n",
       "      <th>NumberOfWindows</th>\n",
       "      <th>Geo_Code</th>\n",
       "      <th>Claim</th>\n",
       "    </tr>\n",
       "  </thead>\n",
       "  <tbody>\n",
       "    <tr>\n",
       "      <th>0</th>\n",
       "      <td>H14663</td>\n",
       "      <td>2013</td>\n",
       "      <td>1.0</td>\n",
       "      <td>0</td>\n",
       "      <td>N</td>\n",
       "      <td>V</td>\n",
       "      <td>V</td>\n",
       "      <td>U</td>\n",
       "      <td>290.0</td>\n",
       "      <td>1</td>\n",
       "      <td>1960.0</td>\n",
       "      <td>.</td>\n",
       "      <td>1053</td>\n",
       "      <td>0</td>\n",
       "    </tr>\n",
       "    <tr>\n",
       "      <th>1</th>\n",
       "      <td>H2037</td>\n",
       "      <td>2015</td>\n",
       "      <td>1.0</td>\n",
       "      <td>0</td>\n",
       "      <td>V</td>\n",
       "      <td>N</td>\n",
       "      <td>O</td>\n",
       "      <td>R</td>\n",
       "      <td>490.0</td>\n",
       "      <td>1</td>\n",
       "      <td>1850.0</td>\n",
       "      <td>4</td>\n",
       "      <td>1053</td>\n",
       "      <td>0</td>\n",
       "    </tr>\n",
       "    <tr>\n",
       "      <th>2</th>\n",
       "      <td>H3802</td>\n",
       "      <td>2014</td>\n",
       "      <td>1.0</td>\n",
       "      <td>0</td>\n",
       "      <td>N</td>\n",
       "      <td>V</td>\n",
       "      <td>V</td>\n",
       "      <td>U</td>\n",
       "      <td>595.0</td>\n",
       "      <td>1</td>\n",
       "      <td>1960.0</td>\n",
       "      <td>.</td>\n",
       "      <td>1053</td>\n",
       "      <td>0</td>\n",
       "    </tr>\n",
       "    <tr>\n",
       "      <th>3</th>\n",
       "      <td>H3834</td>\n",
       "      <td>2013</td>\n",
       "      <td>1.0</td>\n",
       "      <td>0</td>\n",
       "      <td>V</td>\n",
       "      <td>V</td>\n",
       "      <td>V</td>\n",
       "      <td>U</td>\n",
       "      <td>2840.0</td>\n",
       "      <td>1</td>\n",
       "      <td>1960.0</td>\n",
       "      <td>.</td>\n",
       "      <td>1053</td>\n",
       "      <td>0</td>\n",
       "    </tr>\n",
       "    <tr>\n",
       "      <th>4</th>\n",
       "      <td>H5053</td>\n",
       "      <td>2014</td>\n",
       "      <td>1.0</td>\n",
       "      <td>0</td>\n",
       "      <td>V</td>\n",
       "      <td>N</td>\n",
       "      <td>O</td>\n",
       "      <td>R</td>\n",
       "      <td>680.0</td>\n",
       "      <td>1</td>\n",
       "      <td>1800.0</td>\n",
       "      <td>3</td>\n",
       "      <td>1053</td>\n",
       "      <td>0</td>\n",
       "    </tr>\n",
       "  </tbody>\n",
       "</table>\n",
       "</div>"
      ],
      "text/plain": [
       "  Customer Id  YearOfObservation  Insured_Period  Residential  \\\n",
       "0      H14663               2013             1.0            0   \n",
       "1       H2037               2015             1.0            0   \n",
       "2       H3802               2014             1.0            0   \n",
       "3       H3834               2013             1.0            0   \n",
       "4       H5053               2014             1.0            0   \n",
       "\n",
       "  Building_Painted Building_Fenced Garden Settlement  Building Dimension  \\\n",
       "0                N               V      V          U               290.0   \n",
       "1                V               N      O          R               490.0   \n",
       "2                N               V      V          U               595.0   \n",
       "3                V               V      V          U              2840.0   \n",
       "4                V               N      O          R               680.0   \n",
       "\n",
       "   Building_Type  Date_of_Occupancy NumberOfWindows Geo_Code  Claim  \n",
       "0              1             1960.0               .     1053      0  \n",
       "1              1             1850.0               4     1053      0  \n",
       "2              1             1960.0               .     1053      0  \n",
       "3              1             1960.0               .     1053      0  \n",
       "4              1             1800.0               3     1053      0  "
      ]
     },
     "metadata": {},
     "output_type": "display_data"
    },
    {
     "data": {
      "text/plain": [
       "(7160, 14)"
      ]
     },
     "metadata": {},
     "output_type": "display_data"
    },
    {
     "data": {
      "text/plain": [
       "'Test'"
      ]
     },
     "metadata": {},
     "output_type": "display_data"
    },
    {
     "data": {
      "text/html": [
       "<div>\n",
       "<style scoped>\n",
       "    .dataframe tbody tr th:only-of-type {\n",
       "        vertical-align: middle;\n",
       "    }\n",
       "\n",
       "    .dataframe tbody tr th {\n",
       "        vertical-align: top;\n",
       "    }\n",
       "\n",
       "    .dataframe thead th {\n",
       "        text-align: right;\n",
       "    }\n",
       "</style>\n",
       "<table border=\"1\" class=\"dataframe\">\n",
       "  <thead>\n",
       "    <tr style=\"text-align: right;\">\n",
       "      <th></th>\n",
       "      <th>Customer Id</th>\n",
       "      <th>YearOfObservation</th>\n",
       "      <th>Insured_Period</th>\n",
       "      <th>Residential</th>\n",
       "      <th>Building_Painted</th>\n",
       "      <th>Building_Fenced</th>\n",
       "      <th>Garden</th>\n",
       "      <th>Settlement</th>\n",
       "      <th>Building Dimension</th>\n",
       "      <th>Building_Type</th>\n",
       "      <th>Date_of_Occupancy</th>\n",
       "      <th>NumberOfWindows</th>\n",
       "      <th>Geo_Code</th>\n",
       "    </tr>\n",
       "  </thead>\n",
       "  <tbody>\n",
       "    <tr>\n",
       "      <th>0</th>\n",
       "      <td>H11920</td>\n",
       "      <td>2013</td>\n",
       "      <td>1.000000</td>\n",
       "      <td>0</td>\n",
       "      <td>V</td>\n",
       "      <td>N</td>\n",
       "      <td>O</td>\n",
       "      <td>R</td>\n",
       "      <td>300.0</td>\n",
       "      <td>1</td>\n",
       "      <td>1960.0</td>\n",
       "      <td>3</td>\n",
       "      <td>3310</td>\n",
       "    </tr>\n",
       "    <tr>\n",
       "      <th>1</th>\n",
       "      <td>H11921</td>\n",
       "      <td>2016</td>\n",
       "      <td>0.997268</td>\n",
       "      <td>0</td>\n",
       "      <td>V</td>\n",
       "      <td>N</td>\n",
       "      <td>O</td>\n",
       "      <td>R</td>\n",
       "      <td>300.0</td>\n",
       "      <td>1</td>\n",
       "      <td>1960.0</td>\n",
       "      <td>3</td>\n",
       "      <td>3310</td>\n",
       "    </tr>\n",
       "    <tr>\n",
       "      <th>2</th>\n",
       "      <td>H9805</td>\n",
       "      <td>2013</td>\n",
       "      <td>0.369863</td>\n",
       "      <td>0</td>\n",
       "      <td>V</td>\n",
       "      <td>V</td>\n",
       "      <td>V</td>\n",
       "      <td>U</td>\n",
       "      <td>790.0</td>\n",
       "      <td>1</td>\n",
       "      <td>1960.0</td>\n",
       "      <td>.</td>\n",
       "      <td>3310</td>\n",
       "    </tr>\n",
       "    <tr>\n",
       "      <th>3</th>\n",
       "      <td>H7493</td>\n",
       "      <td>2014</td>\n",
       "      <td>1.000000</td>\n",
       "      <td>0</td>\n",
       "      <td>V</td>\n",
       "      <td>N</td>\n",
       "      <td>O</td>\n",
       "      <td>R</td>\n",
       "      <td>1405.0</td>\n",
       "      <td>1</td>\n",
       "      <td>2004.0</td>\n",
       "      <td>3</td>\n",
       "      <td>3321</td>\n",
       "    </tr>\n",
       "    <tr>\n",
       "      <th>4</th>\n",
       "      <td>H7494</td>\n",
       "      <td>2016</td>\n",
       "      <td>1.000000</td>\n",
       "      <td>0</td>\n",
       "      <td>V</td>\n",
       "      <td>N</td>\n",
       "      <td>O</td>\n",
       "      <td>R</td>\n",
       "      <td>1405.0</td>\n",
       "      <td>1</td>\n",
       "      <td>2004.0</td>\n",
       "      <td>3</td>\n",
       "      <td>3321</td>\n",
       "    </tr>\n",
       "  </tbody>\n",
       "</table>\n",
       "</div>"
      ],
      "text/plain": [
       "  Customer Id  YearOfObservation  Insured_Period  Residential  \\\n",
       "0      H11920               2013        1.000000            0   \n",
       "1      H11921               2016        0.997268            0   \n",
       "2       H9805               2013        0.369863            0   \n",
       "3       H7493               2014        1.000000            0   \n",
       "4       H7494               2016        1.000000            0   \n",
       "\n",
       "  Building_Painted Building_Fenced Garden Settlement  Building Dimension  \\\n",
       "0                V               N      O          R               300.0   \n",
       "1                V               N      O          R               300.0   \n",
       "2                V               V      V          U               790.0   \n",
       "3                V               N      O          R              1405.0   \n",
       "4                V               N      O          R              1405.0   \n",
       "\n",
       "   Building_Type  Date_of_Occupancy NumberOfWindows Geo_Code  \n",
       "0              1             1960.0               3     3310  \n",
       "1              1             1960.0               3     3310  \n",
       "2              1             1960.0               .     3310  \n",
       "3              1             2004.0               3     3321  \n",
       "4              1             2004.0               3     3321  "
      ]
     },
     "metadata": {},
     "output_type": "display_data"
    },
    {
     "data": {
      "text/plain": [
       "(3069, 13)"
      ]
     },
     "metadata": {},
     "output_type": "display_data"
    }
   ],
   "source": [
    "DATA_PATH = 'data/'\n",
    "train = pd.read_csv(DATA_PATH + 'train_data.csv')\n",
    "test = pd.read_csv(DATA_PATH + 'test_data.csv')\n",
    "sample_submission = pd.read_csv(DATA_PATH + 'SampleSubmission.csv')\n",
    "variable_description = pd.read_csv(DATA_PATH + 'VariableDescription.csv')\n",
    "# Display the first few rows of the datasets and their shape\n",
    "display(\"Train\", train.head(), train.shape, \"Test\", test.head(), test.shape)"
   ]
  },
  {
   "cell_type": "markdown",
   "metadata": {},
   "source": [
    "Variables identifiant et objectif"
   ]
  },
  {
   "cell_type": "code",
   "execution_count": 5,
   "metadata": {},
   "outputs": [],
   "source": [
    "ID = 'Customer Id'\n",
    "TARGET = 'Claim'"
   ]
  },
  {
   "attachments": {},
   "cell_type": "markdown",
   "metadata": {},
   "source": [
    "## 1. Analyse exploratoire"
   ]
  },
  {
   "cell_type": "markdown",
   "metadata": {},
   "source": [
    "### 1.1. Analyse de la forme"
   ]
  },
  {
   "attachments": {},
   "cell_type": "markdown",
   "metadata": {},
   "source": [
    "Ratio entre train et test sets"
   ]
  },
  {
   "cell_type": "code",
   "execution_count": 7,
   "metadata": {},
   "outputs": [
    {
     "data": {
      "text/plain": [
       "30.00293283800958"
      ]
     },
     "execution_count": 7,
     "metadata": {},
     "output_type": "execute_result"
    }
   ],
   "source": [
    "# proportion de l'ensemble de test par rapport à l'ensemble d'apprentissage \n",
    "test.shape[0] * 100 / (train.shape[0] + test.shape[0])"
   ]
  },
  {
   "attachments": {},
   "cell_type": "markdown",
   "metadata": {},
   "source": [
    "Description du type des variables"
   ]
  },
  {
   "cell_type": "code",
   "execution_count": 8,
   "metadata": {},
   "outputs": [
    {
     "name": "stdout",
     "output_type": "stream",
     "text": [
      "<class 'pandas.core.frame.DataFrame'>\n",
      "RangeIndex: 7160 entries, 0 to 7159\n",
      "Data columns (total 14 columns):\n",
      " #   Column              Non-Null Count  Dtype  \n",
      "---  ------              --------------  -----  \n",
      " 0   Customer Id         7160 non-null   object \n",
      " 1   YearOfObservation   7160 non-null   int64  \n",
      " 2   Insured_Period      7160 non-null   float64\n",
      " 3   Residential         7160 non-null   int64  \n",
      " 4   Building_Painted    7160 non-null   object \n",
      " 5   Building_Fenced     7160 non-null   object \n",
      " 6   Garden              7153 non-null   object \n",
      " 7   Settlement          7160 non-null   object \n",
      " 8   Building Dimension  7054 non-null   float64\n",
      " 9   Building_Type       7160 non-null   int64  \n",
      " 10  Date_of_Occupancy   6652 non-null   float64\n",
      " 11  NumberOfWindows     7160 non-null   object \n",
      " 12  Geo_Code            7058 non-null   object \n",
      " 13  Claim               7160 non-null   int64  \n",
      "dtypes: float64(3), int64(4), object(7)\n",
      "memory usage: 783.3+ KB\n"
     ]
    }
   ],
   "source": [
    "train.info()"
   ]
  },
  {
   "cell_type": "code",
   "execution_count": 9,
   "metadata": {},
   "outputs": [
    {
     "name": "stdout",
     "output_type": "stream",
     "text": [
      "<class 'pandas.core.frame.DataFrame'>\n",
      "RangeIndex: 3069 entries, 0 to 3068\n",
      "Data columns (total 13 columns):\n",
      " #   Column              Non-Null Count  Dtype  \n",
      "---  ------              --------------  -----  \n",
      " 0   Customer Id         3069 non-null   object \n",
      " 1   YearOfObservation   3069 non-null   int64  \n",
      " 2   Insured_Period      3069 non-null   float64\n",
      " 3   Residential         3069 non-null   int64  \n",
      " 4   Building_Painted    3069 non-null   object \n",
      " 5   Building_Fenced     3069 non-null   object \n",
      " 6   Garden              3065 non-null   object \n",
      " 7   Settlement          3069 non-null   object \n",
      " 8   Building Dimension  3056 non-null   float64\n",
      " 9   Building_Type       3069 non-null   int64  \n",
      " 10  Date_of_Occupancy   2341 non-null   float64\n",
      " 11  NumberOfWindows     3069 non-null   object \n",
      " 12  Geo_Code            3056 non-null   object \n",
      "dtypes: float64(3), int64(3), object(7)\n",
      "memory usage: 311.8+ KB\n"
     ]
    }
   ],
   "source": [
    "test.info()"
   ]
  },
  {
   "cell_type": "markdown",
   "metadata": {},
   "source": [
    "Description des colonnes"
   ]
  },
  {
   "cell_type": "code",
   "execution_count": 11,
   "metadata": {},
   "outputs": [
    {
     "name": "stdout",
     "output_type": "stream",
     "text": [
      "Customer Id\n",
      "H14663    1\n",
      "H19182    1\n",
      "H1571     1\n",
      "H15027    1\n",
      "H15026    1\n",
      "         ..\n",
      "H5025     1\n",
      "H19098    1\n",
      "H16571    1\n",
      "H16570    1\n",
      "H7470     1\n",
      "Name: count, Length: 7160, dtype: int64 \n",
      "\n",
      "YearOfObservation\n",
      "2012    1858\n",
      "2013    1811\n",
      "2014    1373\n",
      "2015    1075\n",
      "2016    1043\n",
      "Name: count, dtype: int64 \n",
      "\n",
      "Insured_Period\n",
      "1.000000    5325\n",
      "0.997268     547\n",
      "0.000000     165\n",
      "0.747945      60\n",
      "0.495890      49\n",
      "            ... \n",
      "0.435616       1\n",
      "0.308743       1\n",
      "0.437158       1\n",
      "0.578082       1\n",
      "0.030137       1\n",
      "Name: count, Length: 401, dtype: int64 \n",
      "\n",
      "Residential\n",
      "0    4973\n",
      "1    2187\n",
      "Name: count, dtype: int64 \n",
      "\n",
      "Building_Painted\n",
      "V    5382\n",
      "N    1778\n",
      "Name: count, dtype: int64 \n",
      "\n",
      "Building_Fenced\n",
      "N    3608\n",
      "V    3552\n",
      "Name: count, dtype: int64 \n",
      "\n",
      "Garden\n",
      "O    3602\n",
      "V    3551\n",
      "Name: count, dtype: int64 \n",
      "\n",
      "Settlement\n",
      "R    3610\n",
      "U    3550\n",
      "Name: count, dtype: int64 \n",
      "\n",
      "Building Dimension\n",
      "400.0     150\n",
      "500.0     120\n",
      "300.0     118\n",
      "450.0     117\n",
      "600.0     114\n",
      "         ... \n",
      "1046.0      1\n",
      "763.0       1\n",
      "5464.0      1\n",
      "843.0       1\n",
      "1067.0      1\n",
      "Name: count, Length: 2043, dtype: int64 \n",
      "\n",
      "Building_Type\n",
      "2    3305\n",
      "1    1716\n",
      "3    1230\n",
      "4     909\n",
      "Name: count, dtype: int64 \n",
      "\n",
      "Date_of_Occupancy\n",
      "1960.0    1818\n",
      "1980.0    1155\n",
      "1988.0     530\n",
      "1900.0     371\n",
      "1970.0     285\n",
      "          ... \n",
      "1931.0       1\n",
      "1824.0       1\n",
      "1914.0       1\n",
      "1846.0       1\n",
      "1929.0       1\n",
      "Name: count, Length: 134, dtype: int64 \n",
      "\n",
      "NumberOfWindows\n",
      "   .    3551\n",
      "4        939\n",
      "3        844\n",
      "5        639\n",
      "2        363\n",
      "6        306\n",
      "7        211\n",
      "8        116\n",
      "1         75\n",
      ">=10      67\n",
      "9         49\n",
      "Name: count, dtype: int64 \n",
      "\n",
      "Geo_Code\n",
      "6088     143\n",
      "33063    137\n",
      "6083     113\n",
      "13206     98\n",
      "31555     87\n",
      "        ... \n",
      "59650      1\n",
      "59656      1\n",
      "60057      1\n",
      "60172      1\n",
      "2B353      1\n",
      "Name: count, Length: 1307, dtype: int64 \n",
      "\n",
      "Claim\n",
      "0    5526\n",
      "1    1634\n",
      "Name: count, dtype: int64 \n",
      "\n"
     ]
    }
   ],
   "source": [
    "def afficher_value_counts(df: pd.DataFrame) -> None:\n",
    "    for colonne in list(df.columns):\n",
    "        print(df[colonne].value_counts(), '\\n')\n",
    "\n",
    "afficher_value_counts(train)"
   ]
  },
  {
   "cell_type": "code",
   "execution_count": 12,
   "metadata": {},
   "outputs": [
    {
     "name": "stdout",
     "output_type": "stream",
     "text": [
      "Customer Id\n",
      "H11920    1\n",
      "H1186     1\n",
      "H9420     1\n",
      "H9411     1\n",
      "H9421     1\n",
      "         ..\n",
      "H11711    1\n",
      "H7932     1\n",
      "H8167     1\n",
      "H8168     1\n",
      "H9021     1\n",
      "Name: count, Length: 3069, dtype: int64 \n",
      "\n",
      "YearOfObservation\n",
      "2012    866\n",
      "2013    776\n",
      "2014    557\n",
      "2015    479\n",
      "2016    391\n",
      "Name: count, dtype: int64 \n",
      "\n",
      "Insured_Period\n",
      "1.000000    2389\n",
      "0.997268     197\n",
      "0.000000      33\n",
      "0.747945      21\n",
      "0.997260      18\n",
      "            ... \n",
      "0.527322       1\n",
      "0.177596       1\n",
      "0.926027       1\n",
      "0.032877       1\n",
      "0.339726       1\n",
      "Name: count, Length: 198, dtype: int64 \n",
      "\n",
      "Residential\n",
      "0    2381\n",
      "1     688\n",
      "Name: count, dtype: int64 \n",
      "\n",
      "Building_Painted\n",
      "V    1684\n",
      "N    1385\n",
      "Name: count, dtype: int64 \n",
      "\n",
      "Building_Fenced\n",
      "V    2240\n",
      "N     829\n",
      "Name: count, dtype: int64 \n",
      "\n",
      "Garden\n",
      "V    2240\n",
      "O     825\n",
      "Name: count, dtype: int64 \n",
      "\n",
      "Settlement\n",
      "U    2240\n",
      "R     829\n",
      "Name: count, dtype: int64 \n",
      "\n",
      "Building Dimension\n",
      "400.0     68\n",
      "450.0     67\n",
      "300.0     62\n",
      "350.0     61\n",
      "600.0     58\n",
      "          ..\n",
      "8306.0     1\n",
      "685.0      1\n",
      "796.0      1\n",
      "3465.0     1\n",
      "865.0      1\n",
      "Name: count, Length: 982, dtype: int64 \n",
      "\n",
      "Building_Type\n",
      "2    1426\n",
      "4     604\n",
      "1     572\n",
      "3     467\n",
      "Name: count, dtype: int64 \n",
      "\n",
      "Date_of_Occupancy\n",
      "1960.0    814\n",
      "1980.0    560\n",
      "1988.0    273\n",
      "1950.0     83\n",
      "1970.0     63\n",
      "         ... \n",
      "1928.0      1\n",
      "1820.0      1\n",
      "1875.0      1\n",
      "1983.0      1\n",
      "1905.0      1\n",
      "Name: count, Length: 89, dtype: int64 \n",
      "\n",
      "NumberOfWindows\n",
      "   .    2240\n",
      "3        227\n",
      "4        194\n",
      "5        151\n",
      "2         70\n",
      "6         70\n",
      "7         54\n",
      "8         26\n",
      "1         16\n",
      ">=10      11\n",
      "9         10\n",
      "Name: count, dtype: int64 \n",
      "\n",
      "Geo_Code\n",
      "6083     113\n",
      "6088      95\n",
      "2B033     74\n",
      "13206     68\n",
      "13204     61\n",
      "        ... \n",
      "68149      1\n",
      "29058      1\n",
      "68062      1\n",
      "68060      1\n",
      "74081      1\n",
      "Name: count, Length: 697, dtype: int64 \n",
      "\n"
     ]
    }
   ],
   "source": [
    "afficher_value_counts(test)"
   ]
  },
  {
   "attachments": {},
   "cell_type": "markdown",
   "metadata": {},
   "source": [
    "Analyse des variables qualitatives"
   ]
  },
  {
   "cell_type": "code",
   "execution_count": 13,
   "metadata": {},
   "outputs": [
    {
     "data": {
      "text/html": [
       "<div>\n",
       "<style scoped>\n",
       "    .dataframe tbody tr th:only-of-type {\n",
       "        vertical-align: middle;\n",
       "    }\n",
       "\n",
       "    .dataframe tbody tr th {\n",
       "        vertical-align: top;\n",
       "    }\n",
       "\n",
       "    .dataframe thead th {\n",
       "        text-align: right;\n",
       "    }\n",
       "</style>\n",
       "<table border=\"1\" class=\"dataframe\">\n",
       "  <thead>\n",
       "    <tr style=\"text-align: right;\">\n",
       "      <th></th>\n",
       "      <th>Customer Id</th>\n",
       "      <th>Building_Painted</th>\n",
       "      <th>Building_Fenced</th>\n",
       "      <th>Garden</th>\n",
       "      <th>Settlement</th>\n",
       "      <th>NumberOfWindows</th>\n",
       "      <th>Geo_Code</th>\n",
       "    </tr>\n",
       "  </thead>\n",
       "  <tbody>\n",
       "    <tr>\n",
       "      <th>count</th>\n",
       "      <td>7160</td>\n",
       "      <td>7160</td>\n",
       "      <td>7160</td>\n",
       "      <td>7153</td>\n",
       "      <td>7160</td>\n",
       "      <td>7160</td>\n",
       "      <td>7058</td>\n",
       "    </tr>\n",
       "    <tr>\n",
       "      <th>unique</th>\n",
       "      <td>7160</td>\n",
       "      <td>2</td>\n",
       "      <td>2</td>\n",
       "      <td>2</td>\n",
       "      <td>2</td>\n",
       "      <td>11</td>\n",
       "      <td>1307</td>\n",
       "    </tr>\n",
       "    <tr>\n",
       "      <th>top</th>\n",
       "      <td>H14663</td>\n",
       "      <td>V</td>\n",
       "      <td>N</td>\n",
       "      <td>O</td>\n",
       "      <td>R</td>\n",
       "      <td>.</td>\n",
       "      <td>6088</td>\n",
       "    </tr>\n",
       "    <tr>\n",
       "      <th>freq</th>\n",
       "      <td>1</td>\n",
       "      <td>5382</td>\n",
       "      <td>3608</td>\n",
       "      <td>3602</td>\n",
       "      <td>3610</td>\n",
       "      <td>3551</td>\n",
       "      <td>143</td>\n",
       "    </tr>\n",
       "  </tbody>\n",
       "</table>\n",
       "</div>"
      ],
      "text/plain": [
       "       Customer Id Building_Painted Building_Fenced Garden Settlement  \\\n",
       "count         7160             7160            7160   7153       7160   \n",
       "unique        7160                2               2      2          2   \n",
       "top         H14663                V               N      O          R   \n",
       "freq             1             5382            3608   3602       3610   \n",
       "\n",
       "       NumberOfWindows Geo_Code  \n",
       "count             7160     7058  \n",
       "unique              11     1307  \n",
       "top                  .     6088  \n",
       "freq              3551      143  "
      ]
     },
     "execution_count": 13,
     "metadata": {},
     "output_type": "execute_result"
    }
   ],
   "source": [
    "train.describe(include='object')"
   ]
  },
  {
   "attachments": {},
   "cell_type": "markdown",
   "metadata": {},
   "source": [
    "- La colonne `NumberOfWindows` contient des chiffres de 1 à 9 et deux valeurs spéciales : un point (.) et une description mathématique (>=10). Ce qui a fait de cette colonne une variable _object_. Pour un apprentissage correct, nous transformerons ces deux valeurs spéciales en chiffres, soit 0 et 10 respectivement. <br>\n",
    "- La colonne `Geo_Code` a l'air de ne contenir que des nombres mais il s'avère qu'elle est de type _object_."
   ]
  },
  {
   "attachments": {},
   "cell_type": "markdown",
   "metadata": {},
   "source": [
    "Analyse des variables quantitatives"
   ]
  },
  {
   "cell_type": "code",
   "execution_count": 14,
   "metadata": {},
   "outputs": [
    {
     "data": {
      "text/html": [
       "<div>\n",
       "<style scoped>\n",
       "    .dataframe tbody tr th:only-of-type {\n",
       "        vertical-align: middle;\n",
       "    }\n",
       "\n",
       "    .dataframe tbody tr th {\n",
       "        vertical-align: top;\n",
       "    }\n",
       "\n",
       "    .dataframe thead th {\n",
       "        text-align: right;\n",
       "    }\n",
       "</style>\n",
       "<table border=\"1\" class=\"dataframe\">\n",
       "  <thead>\n",
       "    <tr style=\"text-align: right;\">\n",
       "      <th></th>\n",
       "      <th>YearOfObservation</th>\n",
       "      <th>Insured_Period</th>\n",
       "      <th>Residential</th>\n",
       "      <th>Building Dimension</th>\n",
       "      <th>Building_Type</th>\n",
       "      <th>Date_of_Occupancy</th>\n",
       "      <th>Claim</th>\n",
       "    </tr>\n",
       "  </thead>\n",
       "  <tbody>\n",
       "    <tr>\n",
       "      <th>count</th>\n",
       "      <td>7160.00</td>\n",
       "      <td>7160.00</td>\n",
       "      <td>7160.00</td>\n",
       "      <td>7054.00</td>\n",
       "      <td>7160.00</td>\n",
       "      <td>6652.00</td>\n",
       "      <td>7160.00</td>\n",
       "    </tr>\n",
       "    <tr>\n",
       "      <th>mean</th>\n",
       "      <td>2013.67</td>\n",
       "      <td>0.91</td>\n",
       "      <td>0.31</td>\n",
       "      <td>1883.73</td>\n",
       "      <td>2.19</td>\n",
       "      <td>1964.46</td>\n",
       "      <td>0.23</td>\n",
       "    </tr>\n",
       "    <tr>\n",
       "      <th>std</th>\n",
       "      <td>1.38</td>\n",
       "      <td>0.24</td>\n",
       "      <td>0.46</td>\n",
       "      <td>2278.16</td>\n",
       "      <td>0.94</td>\n",
       "      <td>36.00</td>\n",
       "      <td>0.42</td>\n",
       "    </tr>\n",
       "    <tr>\n",
       "      <th>min</th>\n",
       "      <td>2012.00</td>\n",
       "      <td>0.00</td>\n",
       "      <td>0.00</td>\n",
       "      <td>1.00</td>\n",
       "      <td>1.00</td>\n",
       "      <td>1545.00</td>\n",
       "      <td>0.00</td>\n",
       "    </tr>\n",
       "    <tr>\n",
       "      <th>25%</th>\n",
       "      <td>2012.00</td>\n",
       "      <td>1.00</td>\n",
       "      <td>0.00</td>\n",
       "      <td>528.00</td>\n",
       "      <td>2.00</td>\n",
       "      <td>1960.00</td>\n",
       "      <td>0.00</td>\n",
       "    </tr>\n",
       "    <tr>\n",
       "      <th>50%</th>\n",
       "      <td>2013.00</td>\n",
       "      <td>1.00</td>\n",
       "      <td>0.00</td>\n",
       "      <td>1083.00</td>\n",
       "      <td>2.00</td>\n",
       "      <td>1970.00</td>\n",
       "      <td>0.00</td>\n",
       "    </tr>\n",
       "    <tr>\n",
       "      <th>75%</th>\n",
       "      <td>2015.00</td>\n",
       "      <td>1.00</td>\n",
       "      <td>1.00</td>\n",
       "      <td>2289.75</td>\n",
       "      <td>3.00</td>\n",
       "      <td>1980.00</td>\n",
       "      <td>0.00</td>\n",
       "    </tr>\n",
       "    <tr>\n",
       "      <th>max</th>\n",
       "      <td>2016.00</td>\n",
       "      <td>1.00</td>\n",
       "      <td>1.00</td>\n",
       "      <td>20940.00</td>\n",
       "      <td>4.00</td>\n",
       "      <td>2016.00</td>\n",
       "      <td>1.00</td>\n",
       "    </tr>\n",
       "  </tbody>\n",
       "</table>\n",
       "</div>"
      ],
      "text/plain": [
       "       YearOfObservation  Insured_Period  Residential  Building Dimension  \\\n",
       "count            7160.00         7160.00      7160.00             7054.00   \n",
       "mean             2013.67            0.91         0.31             1883.73   \n",
       "std                 1.38            0.24         0.46             2278.16   \n",
       "min              2012.00            0.00         0.00                1.00   \n",
       "25%              2012.00            1.00         0.00              528.00   \n",
       "50%              2013.00            1.00         0.00             1083.00   \n",
       "75%              2015.00            1.00         1.00             2289.75   \n",
       "max              2016.00            1.00         1.00            20940.00   \n",
       "\n",
       "       Building_Type  Date_of_Occupancy    Claim  \n",
       "count        7160.00            6652.00  7160.00  \n",
       "mean            2.19            1964.46     0.23  \n",
       "std             0.94              36.00     0.42  \n",
       "min             1.00            1545.00     0.00  \n",
       "25%             2.00            1960.00     0.00  \n",
       "50%             2.00            1970.00     0.00  \n",
       "75%             3.00            1980.00     0.00  \n",
       "max             4.00            2016.00     1.00  "
      ]
     },
     "execution_count": 14,
     "metadata": {},
     "output_type": "execute_result"
    }
   ],
   "source": [
    "train.describe(include='number').round(2)"
   ]
  },
  {
   "attachments": {},
   "cell_type": "markdown",
   "metadata": {},
   "source": [
    "Analyse des données manquantes"
   ]
  },
  {
   "cell_type": "code",
   "execution_count": 15,
   "metadata": {},
   "outputs": [
    {
     "data": {
      "text/plain": [
       "Customer Id           0.000000\n",
       "YearOfObservation     0.000000\n",
       "Insured_Period        0.000000\n",
       "Residential           0.000000\n",
       "Building_Painted      0.000000\n",
       "Building_Fenced       0.000000\n",
       "Garden                0.097765\n",
       "Settlement            0.000000\n",
       "Building Dimension    1.480447\n",
       "Building_Type         0.000000\n",
       "Date_of_Occupancy     7.094972\n",
       "NumberOfWindows       0.000000\n",
       "Geo_Code              1.424581\n",
       "Claim                 0.000000\n",
       "dtype: float64"
      ]
     },
     "execution_count": 15,
     "metadata": {},
     "output_type": "execute_result"
    }
   ],
   "source": [
    "train.isnull().sum() / train.shape[0] * 100"
   ]
  },
  {
   "cell_type": "markdown",
   "metadata": {},
   "source": [
    "### 1.2. Analyse du fond"
   ]
  },
  {
   "attachments": {},
   "cell_type": "markdown",
   "metadata": {},
   "source": [
    "Analyse et visualisation de la target"
   ]
  },
  {
   "cell_type": "code",
   "execution_count": 15,
   "metadata": {},
   "outputs": [
    {
     "data": {
      "image/png": "[encoded data removed]",
      "text/plain": [
       "<Figure size 511.111x500 with 1 Axes>"
      ]
     },
     "metadata": {},
     "output_type": "display_data"
    }
   ],
   "source": [
    "# explorons la distribution de la target\n",
    "sns.catplot(data=train, x=TARGET, kind='count')\n",
    "plt.show()"
   ]
  },
  {
   "cell_type": "markdown",
   "metadata": {},
   "source": [
    "Visualisation d'autres variables"
   ]
  },
  {
   "cell_type": "code",
   "execution_count": 16,
   "metadata": {},
   "outputs": [
    {
     "data": {
      "image/png": "[encoded data removed]",
      "text/plain": [
       "<Figure size 640x480 with 1 Axes>"
      ]
     },
     "metadata": {},
     "output_type": "display_data"
    }
   ],
   "source": [
    "# Checking distribution to help decide the imputation method to use for the continous variables\n",
    "sns.boxplot(x=train['Building Dimension'])\n",
    "plt.show()"
   ]
  },
  {
   "cell_type": "code",
   "execution_count": 17,
   "metadata": {},
   "outputs": [
    {
     "data": {
      "image/png": "[encoded data removed]",
      "text/plain": [
       "<Figure size 640x480 with 1 Axes>"
      ]
     },
     "metadata": {},
     "output_type": "display_data"
    }
   ],
   "source": [
    "sns.boxplot(x=train['Date_of_Occupancy'])\n",
    "plt.show()"
   ]
  },
  {
   "attachments": {},
   "cell_type": "markdown",
   "metadata": {},
   "source": [
    "Matrice de corrélation entre les variables"
   ]
  },
  {
   "cell_type": "code",
   "execution_count": 20,
   "metadata": {},
   "outputs": [
    {
     "data": {
      "image/png": "[encoded data removed]",
      "text/plain": [
       "<Figure size 640x480 with 2 Axes>"
      ]
     },
     "metadata": {},
     "output_type": "display_data"
    }
   ],
   "source": [
    "plt.title('Matrice de corrélation')\n",
    "sns.heatmap(train.corr(numeric_only=True), linewidths=0.05, annot=True)\n",
    "plt.show()"
   ]
  },
  {
   "attachments": {},
   "cell_type": "markdown",
   "metadata": {},
   "source": [
    "> 00 corrélation entre les variables du dataset"
   ]
  },
  {
   "attachments": {},
   "cell_type": "markdown",
   "metadata": {},
   "source": [
    "### Deleting missing values "
   ]
  },
  {
   "cell_type": "code",
   "execution_count": 21,
   "metadata": {},
   "outputs": [],
   "source": [
    "train1 = train.copy()\n",
    "test1 = test.copy()"
   ]
  },
  {
   "cell_type": "code",
   "execution_count": 22,
   "metadata": {},
   "outputs": [
    {
     "data": {
      "text/plain": [
       "Customer Id             0\n",
       "YearOfObservation       0\n",
       "Insured_Period          0\n",
       "Residential             0\n",
       "Building_Painted        0\n",
       "Building_Fenced         0\n",
       "Settlement              0\n",
       "Building_Type           0\n",
       "NumberOfWindows         0\n",
       "Claim                   0\n",
       "Garden                  7\n",
       "Geo_Code              102\n",
       "Building Dimension    106\n",
       "Date_of_Occupancy     508\n",
       "dtype: int64"
      ]
     },
     "execution_count": 22,
     "metadata": {},
     "output_type": "execute_result"
    }
   ],
   "source": [
    "train1.isnull().sum().sort_values()"
   ]
  },
  {
   "cell_type": "code",
   "execution_count": 23,
   "metadata": {},
   "outputs": [
    {
     "data": {
      "text/plain": [
       "Customer Id             0\n",
       "YearOfObservation       0\n",
       "Insured_Period          0\n",
       "Residential             0\n",
       "Building_Painted        0\n",
       "Building_Fenced         0\n",
       "Settlement              0\n",
       "Building_Type           0\n",
       "NumberOfWindows         0\n",
       "Garden                  4\n",
       "Building Dimension     13\n",
       "Geo_Code               13\n",
       "Date_of_Occupancy     728\n",
       "dtype: int64"
      ]
     },
     "execution_count": 23,
     "metadata": {},
     "output_type": "execute_result"
    }
   ],
   "source": [
    "test1.isnull().sum().sort_values()"
   ]
  },
  {
   "attachments": {},
   "cell_type": "markdown",
   "metadata": {},
   "source": [
    "## 2. Preprocessing"
   ]
  },
  {
   "cell_type": "code",
   "execution_count": 38,
   "metadata": {},
   "outputs": [],
   "source": [
    "def preprocess_data(df1: pd.DataFrame, ordinal_encoder=None, id_col='Customer Id', target_col='Claim'):\n",
    "    # Copie des données\n",
    "    df = df1.copy()\n",
    "\n",
    "    # Traitement spécifique des colonnes\n",
    "    if 'NumberOfWindows' in df.columns:\n",
    "        df['NumberOfWindows'] = (\n",
    "            df['NumberOfWindows']\n",
    "            .str.strip()  # Supprime les espaces\n",
    "            .replace({'.': 0, '>=10': 10})  # Remplace les valeurs spécifiques\n",
    "            .astype(float)  # Convertit en float\n",
    "        )\n",
    "\n",
    "    if 'Date_of_Occupancy' in df.columns:\n",
    "        current_year = 2024\n",
    "        df['Building_Age'] = current_year - df['Date_of_Occupancy']\n",
    "\n",
    "    # Convertir les colonnes en type `object`\n",
    "    for col in ['YearOfObservation', 'NumberOfWindows', 'Date_of_Occupancy']:\n",
    "        df[col] = df[col].astype('object')\n",
    "\n",
    "    # Identification des colonnes catégoriques\n",
    "    categorical_cols = df.select_dtypes(include=['object', 'category']).columns\n",
    "\n",
    "    # Encoder les colonnes catégoriques\n",
    "    if ordinal_encoder is None:\n",
    "        ordinal_encoder = OrdinalEncoder(\n",
    "            handle_unknown='use_encoded_value', unknown_value=-1)\n",
    "        df[categorical_cols] = ordinal_encoder.fit_transform(\n",
    "            df[categorical_cols])\n",
    "    else:\n",
    "        df[categorical_cols] = ordinal_encoder.transform(df[categorical_cols])\n",
    "\n",
    "    return df"
   ]
  },
  {
   "cell_type": "code",
   "execution_count": 19,
   "metadata": {},
   "outputs": [
    {
     "name": "stdout",
     "output_type": "stream",
     "text": [
      "The shape of train_df is: (7160, 15)\n",
      "The shape of test_df is: (3069, 15)\n",
      "The shape of train is: (7160, 14)\n",
      "The shape of test is: (3069, 13)\n",
      "The features for modelling are:\n",
      "['YearOfObservation', 'Insured_Period', 'Residential', 'Building_Painted', 'Building_Fenced', 'Garden', 'Settlement', 'Building Dimension', 'Building_Type', 'Date_of_Occupancy', 'NumberOfWindows', 'Geo_Code', 'occupancy_observation']\n"
     ]
    },
    {
     "data": {
      "text/html": [
       "<div>\n",
       "<style scoped>\n",
       "    .dataframe tbody tr th:only-of-type {\n",
       "        vertical-align: middle;\n",
       "    }\n",
       "\n",
       "    .dataframe tbody tr th {\n",
       "        vertical-align: top;\n",
       "    }\n",
       "\n",
       "    .dataframe thead th {\n",
       "        text-align: right;\n",
       "    }\n",
       "</style>\n",
       "<table border=\"1\" class=\"dataframe\">\n",
       "  <thead>\n",
       "    <tr style=\"text-align: right;\">\n",
       "      <th></th>\n",
       "      <th>Customer Id</th>\n",
       "      <th>YearOfObservation</th>\n",
       "      <th>Insured_Period</th>\n",
       "      <th>Residential</th>\n",
       "      <th>Building_Painted</th>\n",
       "      <th>Building_Fenced</th>\n",
       "      <th>Garden</th>\n",
       "      <th>Settlement</th>\n",
       "      <th>Building Dimension</th>\n",
       "      <th>Building_Type</th>\n",
       "      <th>Date_of_Occupancy</th>\n",
       "      <th>NumberOfWindows</th>\n",
       "      <th>Geo_Code</th>\n",
       "      <th>Claim</th>\n",
       "      <th>occupancy_observation</th>\n",
       "    </tr>\n",
       "  </thead>\n",
       "  <tbody>\n",
       "    <tr>\n",
       "      <th>0</th>\n",
       "      <td>H14663</td>\n",
       "      <td>2013</td>\n",
       "      <td>1.0</td>\n",
       "      <td>0</td>\n",
       "      <td>0</td>\n",
       "      <td>1</td>\n",
       "      <td>1</td>\n",
       "      <td>1</td>\n",
       "      <td>290.0</td>\n",
       "      <td>1</td>\n",
       "      <td>1960.0</td>\n",
       "      <td>0</td>\n",
       "      <td>7</td>\n",
       "      <td>0.0</td>\n",
       "      <td>53.0</td>\n",
       "    </tr>\n",
       "    <tr>\n",
       "      <th>1</th>\n",
       "      <td>H2037</td>\n",
       "      <td>2015</td>\n",
       "      <td>1.0</td>\n",
       "      <td>0</td>\n",
       "      <td>1</td>\n",
       "      <td>0</td>\n",
       "      <td>0</td>\n",
       "      <td>0</td>\n",
       "      <td>490.0</td>\n",
       "      <td>1</td>\n",
       "      <td>1850.0</td>\n",
       "      <td>4</td>\n",
       "      <td>7</td>\n",
       "      <td>0.0</td>\n",
       "      <td>165.0</td>\n",
       "    </tr>\n",
       "    <tr>\n",
       "      <th>2</th>\n",
       "      <td>H3802</td>\n",
       "      <td>2014</td>\n",
       "      <td>1.0</td>\n",
       "      <td>0</td>\n",
       "      <td>0</td>\n",
       "      <td>1</td>\n",
       "      <td>1</td>\n",
       "      <td>1</td>\n",
       "      <td>595.0</td>\n",
       "      <td>1</td>\n",
       "      <td>1960.0</td>\n",
       "      <td>0</td>\n",
       "      <td>7</td>\n",
       "      <td>0.0</td>\n",
       "      <td>54.0</td>\n",
       "    </tr>\n",
       "    <tr>\n",
       "      <th>3</th>\n",
       "      <td>H3834</td>\n",
       "      <td>2013</td>\n",
       "      <td>1.0</td>\n",
       "      <td>0</td>\n",
       "      <td>1</td>\n",
       "      <td>1</td>\n",
       "      <td>1</td>\n",
       "      <td>1</td>\n",
       "      <td>2840.0</td>\n",
       "      <td>1</td>\n",
       "      <td>1960.0</td>\n",
       "      <td>0</td>\n",
       "      <td>7</td>\n",
       "      <td>0.0</td>\n",
       "      <td>53.0</td>\n",
       "    </tr>\n",
       "    <tr>\n",
       "      <th>4</th>\n",
       "      <td>H5053</td>\n",
       "      <td>2014</td>\n",
       "      <td>1.0</td>\n",
       "      <td>0</td>\n",
       "      <td>1</td>\n",
       "      <td>0</td>\n",
       "      <td>0</td>\n",
       "      <td>0</td>\n",
       "      <td>680.0</td>\n",
       "      <td>1</td>\n",
       "      <td>1800.0</td>\n",
       "      <td>3</td>\n",
       "      <td>7</td>\n",
       "      <td>0.0</td>\n",
       "      <td>214.0</td>\n",
       "    </tr>\n",
       "  </tbody>\n",
       "</table>\n",
       "</div>"
      ],
      "text/plain": [
       "  Customer Id  YearOfObservation  Insured_Period  Residential  \\\n",
       "0      H14663               2013             1.0            0   \n",
       "1       H2037               2015             1.0            0   \n",
       "2       H3802               2014             1.0            0   \n",
       "3       H3834               2013             1.0            0   \n",
       "4       H5053               2014             1.0            0   \n",
       "\n",
       "   Building_Painted  Building_Fenced  Garden  Settlement  Building Dimension  \\\n",
       "0                 0                1       1           1               290.0   \n",
       "1                 1                0       0           0               490.0   \n",
       "2                 0                1       1           1               595.0   \n",
       "3                 1                1       1           1              2840.0   \n",
       "4                 1                0       0           0               680.0   \n",
       "\n",
       "   Building_Type  Date_of_Occupancy  NumberOfWindows  Geo_Code  Claim  \\\n",
       "0              1             1960.0                0         7    0.0   \n",
       "1              1             1850.0                4         7    0.0   \n",
       "2              1             1960.0                0         7    0.0   \n",
       "3              1             1960.0                0         7    0.0   \n",
       "4              1             1800.0                3         7    0.0   \n",
       "\n",
       "   occupancy_observation  \n",
       "0                   53.0  \n",
       "1                  165.0  \n",
       "2                   54.0  \n",
       "3                   53.0  \n",
       "4                  214.0  "
      ]
     },
     "execution_count": 19,
     "metadata": {},
     "output_type": "execute_result"
    }
   ],
   "source": [
    "# Combine datasets for consistent feature engineering\n",
    "data = pd.concat([train, test]).reset_index(drop=True)\n",
    "\n",
    "# Create financial ratios and transformations\n",
    "# data['occupancy_observation'] = data['YearOfObservation'] - data['Date_Of_Occupancy']\n",
    "data['occupancy_observation'] = data.apply(\n",
    "\tlambda row: row['YearOfObservation'] - row['Date_of_Occupancy'] if pd.notnull(row['YearOfObservation']) and pd.notnull(row['Date_of_Occupancy']) else np.nan,\n",
    "\taxis=1\n",
    ")\n",
    "\n",
    "# Convertir les colonnes en type `object`\n",
    "# for col in ['loan_duration_category']:\n",
    "# \tdata[col] = data[col].astype('object')\n",
    "\n",
    "# Handle categorical variables\n",
    "cat_cols = data.select_dtypes(include='object').columns\n",
    "\n",
    "# Label encoding for other categorical columns\n",
    "le = LabelEncoder()\n",
    "for col in [col for col in cat_cols if col not in [ID]]:\n",
    "    data[col] = le.fit_transform(data[col])\n",
    "\n",
    "# Split back into train and test\n",
    "train_df = data[data[ID].isin(train[ID].unique())]\n",
    "test_df = data[data[ID].isin(test[ID].unique())]\n",
    "\n",
    "# Define features for modeling\n",
    "features_for_modelling = [col for col in train_df.columns if col not in [ID, TARGET]]\n",
    "\n",
    "print(f\"The shape of train_df is: {train_df.shape}\")\n",
    "print(f\"The shape of test_df is: {test_df.shape}\")\n",
    "print(f\"The shape of train is: {train.shape}\")\n",
    "print(f\"The shape of test is: {test.shape}\")\n",
    "print(f\"The features for modelling are:\\n{features_for_modelling}\")\n",
    "train_df.head()"
   ]
  },
  {
   "cell_type": "markdown",
   "metadata": {},
   "source": [
    "## 3. Modelling"
   ]
  },
  {
   "cell_type": "code",
   "execution_count": 20,
   "metadata": {},
   "outputs": [
    {
     "name": "stdout",
     "output_type": "stream",
     "text": [
      "(5370, 13) (1790, 13) (5370,) (1790,)\n"
     ]
    }
   ],
   "source": [
    "# Create stratified train-validation split\n",
    "X_train, X_valid, y_train, y_valid = train_test_split(\n",
    "    train_df[features_for_modelling], \n",
    "    train[TARGET], \n",
    "    stratify=train[TARGET], \n",
    "    shuffle=True,\n",
    "\t# test_size=0.3,\n",
    "    random_state=SEED\n",
    ")\n",
    "print(X_train.shape, X_valid.shape, y_train.shape, y_valid.shape)"
   ]
  },
  {
   "cell_type": "code",
   "execution_count": null,
   "metadata": {},
   "outputs": [],
   "source": [
    "skf = StratifiedKFold(n_splits=5, random_state=SEED, shuffle=True)\n",
    "for train_index, test_index in skf.split(X, y):\n",
    "    X_train, X_valid = X.iloc[train_index], X.iloc[test_index]\n",
    "    y_train, y_valid = y.iloc[train_index], y.iloc[test_index]"
   ]
  },
  {
   "cell_type": "code",
   "execution_count": 23,
   "metadata": {},
   "outputs": [],
   "source": [
    "def calcul_auc(y_true, y_pred):\n",
    "    fpr, tpr, thresholds = roc_curve(y_true, y_pred, pos_label=1)\n",
    "    return auc(fpr, tpr)"
   ]
  },
  {
   "cell_type": "code",
   "execution_count": 31,
   "metadata": {},
   "outputs": [
    {
     "name": "stderr",
     "output_type": "stream",
     "text": [
      "[I 2025-01-05 18:22:00,109] A new study created in memory with name: no-name-075051b9-b5a8-462e-a896-d9c837c5ba5f\n",
      "c:\\Users\\Juste Kouassi\\AppData\\Local\\Programs\\Python\\Python312\\Lib\\site-packages\\optuna\\distributions.py:708: UserWarning: The distribution is specified by [100, 3000] and step=150, but the range is not divisible by `step`. It will be replaced by [100, 2950].\n",
      "  warnings.warn(\n"
     ]
    },
    {
     "name": "stdout",
     "output_type": "stream",
     "text": [
      "0:\ttotal: 188ms\tremaining: 3m 35s\n",
      "300:\ttotal: 2.1s\tremaining: 5.91s\n",
      "600:\ttotal: 3.74s\tremaining: 3.42s\n",
      "900:\ttotal: 5.52s\tremaining: 1.52s\n"
     ]
    },
    {
     "name": "stderr",
     "output_type": "stream",
     "text": [
      "[I 2025-01-05 18:22:07,773] Trial 0 finished with value: 0.6301325161034023 and parameters: {'booster': 'catboost', 'iterations': 1150, 'depth': 4, 'learning_rate': 0.06235420026850098, 'l2_leaf_reg': 5.454244278347485, 'bagging_temperature': 0.229102416091631, 'rsm': 0.6477655686535466}. Best is trial 0 with value: 0.6301325161034023.\n"
     ]
    },
    {
     "name": "stdout",
     "output_type": "stream",
     "text": [
      "1149:\ttotal: 7.12s\tremaining: 0us\n",
      "0:\ttotal: 6.63ms\tremaining: 11.6s\n"
     ]
    },
    {
     "name": "stderr",
     "output_type": "stream",
     "text": [
      "c:\\Users\\Juste Kouassi\\AppData\\Local\\Programs\\Python\\Python312\\Lib\\site-packages\\optuna\\distributions.py:708: UserWarning: The distribution is specified by [100, 3000] and step=150, but the range is not divisible by `step`. It will be replaced by [100, 2950].\n",
      "  warnings.warn(\n"
     ]
    },
    {
     "name": "stdout",
     "output_type": "stream",
     "text": [
      "300:\ttotal: 1.9s\tremaining: 9.12s\n",
      "600:\ttotal: 3.68s\tremaining: 7.03s\n",
      "900:\ttotal: 5.45s\tremaining: 5.13s\n",
      "1200:\ttotal: 7.21s\tremaining: 3.29s\n",
      "1500:\ttotal: 9.03s\tremaining: 1.5s\n"
     ]
    },
    {
     "name": "stderr",
     "output_type": "stream",
     "text": [
      "[I 2025-01-05 18:22:18,656] Trial 1 finished with value: 0.6232335915552907 and parameters: {'booster': 'catboost', 'iterations': 1750, 'depth': 4, 'learning_rate': 0.09351119185769298, 'l2_leaf_reg': 5.488218887757987, 'bagging_temperature': 0.7942593334730035, 'rsm': 0.38159393370560724}. Best is trial 0 with value: 0.6301325161034023.\n"
     ]
    },
    {
     "name": "stdout",
     "output_type": "stream",
     "text": [
      "1749:\ttotal: 10.3s\tremaining: 0us\n"
     ]
    },
    {
     "name": "stderr",
     "output_type": "stream",
     "text": [
      "c:\\Users\\Juste Kouassi\\AppData\\Local\\Programs\\Python\\Python312\\Lib\\site-packages\\optuna\\distributions.py:708: UserWarning: The distribution is specified by [100, 3000] and step=200, but the range is not divisible by `step`. It will be replaced by [100, 2900].\n",
      "  warnings.warn(\n",
      "[I 2025-01-05 18:22:21,371] Trial 2 finished with value: 0.5884959989784626 and parameters: {'booster': 'xgboost', 'n_estimators': 900, 'max_depth': 12, 'learning_rate': 0.07727547482954676, 'subsample': 0.8903733471185586, 'colsample_bytree': 0.755140384015724, 'gamma': 0.48325940365705683, 'min_child_weight': 3}. Best is trial 0 with value: 0.6301325161034023.\n",
      "c:\\Users\\Juste Kouassi\\AppData\\Local\\Programs\\Python\\Python312\\Lib\\site-packages\\optuna\\distributions.py:708: UserWarning: The distribution is specified by [100, 3000] and step=200, but the range is not divisible by `step`. It will be replaced by [100, 2900].\n",
      "  warnings.warn(\n",
      "[I 2025-01-05 18:22:28,358] Trial 3 finished with value: 0.580396413268636 and parameters: {'booster': 'xgboost', 'n_estimators': 2700, 'max_depth': 6, 'learning_rate': 0.07973830834752282, 'subsample': 0.8528982745589962, 'colsample_bytree': 0.7202103983139699, 'gamma': 0.4202292052816479, 'min_child_weight': 3}. Best is trial 0 with value: 0.6301325161034023.\n",
      "c:\\Users\\Juste Kouassi\\AppData\\Local\\Programs\\Python\\Python312\\Lib\\site-packages\\optuna\\distributions.py:708: UserWarning: The distribution is specified by [100, 3000] and step=150, but the range is not divisible by `step`. It will be replaced by [100, 2950].\n",
      "  warnings.warn(\n"
     ]
    },
    {
     "name": "stdout",
     "output_type": "stream",
     "text": [
      "0:\ttotal: 50.7ms\tremaining: 1m 5s\n",
      "300:\ttotal: 14.8s\tremaining: 49.3s\n",
      "600:\ttotal: 31s\tremaining: 36s\n",
      "900:\ttotal: 47.4s\tremaining: 21s\n",
      "1200:\ttotal: 1m 4s\tremaining: 5.34s\n",
      "1299:\ttotal: 1m 10s\tremaining: 0us\n"
     ]
    },
    {
     "name": "stderr",
     "output_type": "stream",
     "text": [
      "[I 2025-01-05 18:23:41,963] Trial 4 finished with value: 0.5633441871683551 and parameters: {'booster': 'catboost', 'iterations': 1300, 'depth': 12, 'learning_rate': 0.07281147466029704, 'l2_leaf_reg': 5.34522076226728, 'bagging_temperature': 0.3814225659376791, 'rsm': 0.507998353808031}. Best is trial 0 with value: 0.6301325161034023.\n",
      "c:\\Users\\Juste Kouassi\\AppData\\Local\\Programs\\Python\\Python312\\Lib\\site-packages\\optuna\\distributions.py:708: UserWarning: The distribution is specified by [100, 3000] and step=200, but the range is not divisible by `step`. It will be replaced by [100, 2900].\n",
      "  warnings.warn(\n",
      "[I 2025-01-05 18:23:52,967] Trial 5 finished with value: 0.5711990295394569 and parameters: {'booster': 'xgboost', 'n_estimators': 2700, 'max_depth': 7, 'learning_rate': 0.08964293947618424, 'subsample': 0.7383838895342669, 'colsample_bytree': 0.9051491449059531, 'gamma': 0.23480761074036804, 'min_child_weight': 5}. Best is trial 0 with value: 0.6301325161034023.\n",
      "c:\\Users\\Juste Kouassi\\AppData\\Local\\Programs\\Python\\Python312\\Lib\\site-packages\\optuna\\distributions.py:708: UserWarning: The distribution is specified by [100, 3000] and step=200, but the range is not divisible by `step`. It will be replaced by [100, 2900].\n",
      "  warnings.warn(\n",
      "c:\\Users\\Juste Kouassi\\AppData\\Local\\Programs\\Python\\Python312\\Lib\\site-packages\\optuna\\distributions.py:708: UserWarning: The distribution is specified by [2, 20] and step=10, but the range is not divisible by `step`. It will be replaced by [2, 12].\n",
      "  warnings.warn(\n"
     ]
    },
    {
     "name": "stdout",
     "output_type": "stream",
     "text": [
      "[LightGBM] [Warning] feature_fraction is set=0.6297826547584728, colsample_bytree=1.0 will be ignored. Current value: feature_fraction=0.6297826547584728\n",
      "[LightGBM] [Warning] lambda_l1 is set=0.14324541331446317, reg_alpha=0.0 will be ignored. Current value: lambda_l1=0.14324541331446317\n",
      "[LightGBM] [Warning] lambda_l2 is set=0.7492012436242728, reg_lambda=0.0 will be ignored. Current value: lambda_l2=0.7492012436242728\n",
      "[LightGBM] [Warning] bagging_fraction is set=0.8948186236016826, subsample=1.0 will be ignored. Current value: bagging_fraction=0.8948186236016826\n",
      "[LightGBM] [Warning] Found whitespace in feature_names, replace with underlines\n",
      "[LightGBM] [Warning] feature_fraction is set=0.6297826547584728, colsample_bytree=1.0 will be ignored. Current value: feature_fraction=0.6297826547584728\n",
      "[LightGBM] [Warning] lambda_l1 is set=0.14324541331446317, reg_alpha=0.0 will be ignored. Current value: lambda_l1=0.14324541331446317\n",
      "[LightGBM] [Warning] lambda_l2 is set=0.7492012436242728, reg_lambda=0.0 will be ignored. Current value: lambda_l2=0.7492012436242728\n",
      "[LightGBM] [Warning] bagging_fraction is set=0.8948186236016826, subsample=1.0 will be ignored. Current value: bagging_fraction=0.8948186236016826\n",
      "[LightGBM] [Info] Number of positive: 1226, number of negative: 4144\n",
      "[LightGBM] [Info] Total Bins 969\n",
      "[LightGBM] [Info] Number of data points in the train set: 5370, number of used features: 13\n",
      "[LightGBM] [Info] [binary:BoostFromScore]: pavg=0.228305 -> initscore=-1.217905\n",
      "[LightGBM] [Info] Start training from score -1.217905\n"
     ]
    },
    {
     "name": "stderr",
     "output_type": "stream",
     "text": [
      "[I 2025-01-05 18:23:55,000] Trial 6 finished with value: 0.5857736727107631 and parameters: {'booster': 'lightgbm', 'n_estimators': 2100, 'max_depth': 7, 'learning_rate': 0.013325055792908647, 'num_leaves': 12, 'feature_fraction': 0.6297826547584728, 'bagging_fraction': 0.8948186236016826, 'lambda_l1': 0.14324541331446317, 'lambda_l2': 0.7492012436242728}. Best is trial 0 with value: 0.6301325161034023.\n"
     ]
    },
    {
     "name": "stdout",
     "output_type": "stream",
     "text": [
      "[LightGBM] [Warning] feature_fraction is set=0.6297826547584728, colsample_bytree=1.0 will be ignored. Current value: feature_fraction=0.6297826547584728\n",
      "[LightGBM] [Warning] lambda_l1 is set=0.14324541331446317, reg_alpha=0.0 will be ignored. Current value: lambda_l1=0.14324541331446317\n",
      "[LightGBM] [Warning] lambda_l2 is set=0.7492012436242728, reg_lambda=0.0 will be ignored. Current value: lambda_l2=0.7492012436242728\n",
      "[LightGBM] [Warning] bagging_fraction is set=0.8948186236016826, subsample=1.0 will be ignored. Current value: bagging_fraction=0.8948186236016826\n",
      "[LightGBM] [Warning] feature_fraction is set=0.8737154187546925, colsample_bytree=1.0 will be ignored. Current value: feature_fraction=0.8737154187546925\n",
      "[LightGBM] [Warning] lambda_l1 is set=0.5713355999874612, reg_alpha=0.0 will be ignored. Current value: lambda_l1=0.5713355999874612\n",
      "[LightGBM] [Warning] lambda_l2 is set=0.7374226778659618, reg_lambda=0.0 will be ignored. Current value: lambda_l2=0.7374226778659618\n",
      "[LightGBM] [Warning] bagging_fraction is set=0.9243024347508545, subsample=1.0 will be ignored. Current value: bagging_fraction=0.9243024347508545\n",
      "[LightGBM] [Warning] Found whitespace in feature_names, replace with underlines\n",
      "[LightGBM] [Warning] feature_fraction is set=0.8737154187546925, colsample_bytree=1.0 will be ignored. Current value: feature_fraction=0.8737154187546925\n",
      "[LightGBM] [Warning] lambda_l1 is set=0.5713355999874612, reg_alpha=0.0 will be ignored. Current value: lambda_l1=0.5713355999874612\n",
      "[LightGBM] [Warning] lambda_l2 is set=0.7374226778659618, reg_lambda=0.0 will be ignored. Current value: lambda_l2=0.7374226778659618\n",
      "[LightGBM] [Warning] bagging_fraction is set=0.9243024347508545, subsample=1.0 will be ignored. Current value: bagging_fraction=0.9243024347508545\n",
      "[LightGBM] [Info] Number of positive: 1226, number of negative: 4144\n",
      "[LightGBM] [Info] Total Bins 969\n",
      "[LightGBM] [Info] Number of data points in the train set: 5370, number of used features: 13\n",
      "[LightGBM] [Info] [binary:BoostFromScore]: pavg=0.228305 -> initscore=-1.217905\n",
      "[LightGBM] [Info] Start training from score -1.217905\n"
     ]
    },
    {
     "name": "stderr",
     "output_type": "stream",
     "text": [
      "c:\\Users\\Juste Kouassi\\AppData\\Local\\Programs\\Python\\Python312\\Lib\\site-packages\\optuna\\distributions.py:708: UserWarning: The distribution is specified by [100, 3000] and step=200, but the range is not divisible by `step`. It will be replaced by [100, 2900].\n",
      "  warnings.warn(\n",
      "c:\\Users\\Juste Kouassi\\AppData\\Local\\Programs\\Python\\Python312\\Lib\\site-packages\\optuna\\distributions.py:708: UserWarning: The distribution is specified by [2, 20] and step=10, but the range is not divisible by `step`. It will be replaced by [2, 12].\n",
      "  warnings.warn(\n",
      "[I 2025-01-05 18:23:57,314] Trial 7 finished with value: 0.5834166879486962 and parameters: {'booster': 'lightgbm', 'n_estimators': 2300, 'max_depth': 8, 'learning_rate': 0.026896116823252048, 'num_leaves': 12, 'feature_fraction': 0.8737154187546925, 'bagging_fraction': 0.9243024347508545, 'lambda_l1': 0.5713355999874612, 'lambda_l2': 0.7374226778659618}. Best is trial 0 with value: 0.6301325161034023.\n"
     ]
    },
    {
     "name": "stdout",
     "output_type": "stream",
     "text": [
      "[LightGBM] [Warning] feature_fraction is set=0.8737154187546925, colsample_bytree=1.0 will be ignored. Current value: feature_fraction=0.8737154187546925\n",
      "[LightGBM] [Warning] lambda_l1 is set=0.5713355999874612, reg_alpha=0.0 will be ignored. Current value: lambda_l1=0.5713355999874612\n",
      "[LightGBM] [Warning] lambda_l2 is set=0.7374226778659618, reg_lambda=0.0 will be ignored. Current value: lambda_l2=0.7374226778659618\n",
      "[LightGBM] [Warning] bagging_fraction is set=0.9243024347508545, subsample=1.0 will be ignored. Current value: bagging_fraction=0.9243024347508545\n"
     ]
    },
    {
     "name": "stderr",
     "output_type": "stream",
     "text": [
      "c:\\Users\\Juste Kouassi\\AppData\\Local\\Programs\\Python\\Python312\\Lib\\site-packages\\optuna\\distributions.py:708: UserWarning: The distribution is specified by [100, 3000] and step=150, but the range is not divisible by `step`. It will be replaced by [100, 2950].\n",
      "  warnings.warn(\n"
     ]
    },
    {
     "name": "stdout",
     "output_type": "stream",
     "text": [
      "0:\ttotal: 12.8ms\tremaining: 16.6s\n",
      "300:\ttotal: 4.17s\tremaining: 13.8s\n",
      "600:\ttotal: 8.22s\tremaining: 9.56s\n",
      "900:\ttotal: 12.4s\tremaining: 5.49s\n",
      "1200:\ttotal: 17.2s\tremaining: 1.42s\n",
      "1299:\ttotal: 18.6s\tremaining: 0us\n"
     ]
    },
    {
     "name": "stderr",
     "output_type": "stream",
     "text": [
      "[I 2025-01-05 18:24:16,706] Trial 8 finished with value: 0.5836295082432394 and parameters: {'booster': 'catboost', 'iterations': 1300, 'depth': 9, 'learning_rate': 0.0977158298908314, 'l2_leaf_reg': 9.468186492733096, 'bagging_temperature': 0.2510530761651148, 'rsm': 0.3256453556500875}. Best is trial 0 with value: 0.6301325161034023.\n",
      "c:\\Users\\Juste Kouassi\\AppData\\Local\\Programs\\Python\\Python312\\Lib\\site-packages\\optuna\\distributions.py:708: UserWarning: The distribution is specified by [100, 3000] and step=150, but the range is not divisible by `step`. It will be replaced by [100, 2950].\n",
      "  warnings.warn(\n"
     ]
    },
    {
     "name": "stdout",
     "output_type": "stream",
     "text": [
      "0:\ttotal: 56ms\tremaining: 2m 36s\n",
      "300:\ttotal: 14.3s\tremaining: 1m 58s\n",
      "600:\ttotal: 30s\tremaining: 1m 49s\n",
      "900:\ttotal: 46.3s\tremaining: 1m 37s\n",
      "1200:\ttotal: 1m 2s\tremaining: 1m 23s\n",
      "1500:\ttotal: 1m 19s\tremaining: 1m 9s\n",
      "1800:\ttotal: 1m 36s\tremaining: 53.4s\n",
      "2100:\ttotal: 1m 53s\tremaining: 37.8s\n",
      "2400:\ttotal: 2m 12s\tremaining: 22.1s\n",
      "2700:\ttotal: 2m 30s\tremaining: 5.5s\n",
      "2799:\ttotal: 2m 35s\tremaining: 0us\n"
     ]
    },
    {
     "name": "stderr",
     "output_type": "stream",
     "text": [
      "[I 2025-01-05 18:27:00,039] Trial 9 finished with value: 0.5599709854998438 and parameters: {'booster': 'catboost', 'iterations': 2800, 'depth': 12, 'learning_rate': 0.06963265559742751, 'l2_leaf_reg': 6.67897393227067, 'bagging_temperature': 0.1607758282719367, 'rsm': 0.41892684896225574}. Best is trial 0 with value: 0.6301325161034023.\n",
      "c:\\Users\\Juste Kouassi\\AppData\\Local\\Programs\\Python\\Python312\\Lib\\site-packages\\optuna\\distributions.py:708: UserWarning: The distribution is specified by [100, 3000] and step=150, but the range is not divisible by `step`. It will be replaced by [100, 2950].\n",
      "  warnings.warn(\n"
     ]
    },
    {
     "name": "stdout",
     "output_type": "stream",
     "text": [
      "0:\ttotal: 81.6ms\tremaining: 20.3s\n"
     ]
    },
    {
     "name": "stderr",
     "output_type": "stream",
     "text": [
      "[I 2025-01-05 18:27:02,337] Trial 10 finished with value: 0.6388297721404047 and parameters: {'booster': 'catboost', 'iterations': 250, 'depth': 3, 'learning_rate': 0.04767894489334537, 'l2_leaf_reg': 1.5848112685485223, 'bagging_temperature': 0.6729309176584872, 'rsm': 0.8021947496048368}. Best is trial 10 with value: 0.6388297721404047.\n"
     ]
    },
    {
     "name": "stdout",
     "output_type": "stream",
     "text": [
      "249:\ttotal: 1.98s\tremaining: 0us\n",
      "0:\ttotal: 2.92ms\tremaining: 289ms\n"
     ]
    },
    {
     "name": "stderr",
     "output_type": "stream",
     "text": [
      "c:\\Users\\Juste Kouassi\\AppData\\Local\\Programs\\Python\\Python312\\Lib\\site-packages\\optuna\\distributions.py:708: UserWarning: The distribution is specified by [100, 3000] and step=150, but the range is not divisible by `step`. It will be replaced by [100, 2950].\n",
      "  warnings.warn(\n",
      "[I 2025-01-05 18:27:02,934] Trial 11 finished with value: 0.6328193723220112 and parameters: {'booster': 'catboost', 'iterations': 100, 'depth': 3, 'learning_rate': 0.045157905260298024, 'l2_leaf_reg': 1.2033560976127298, 'bagging_temperature': 0.7048400107285474, 'rsm': 0.795493081135822}. Best is trial 10 with value: 0.6388297721404047.\n"
     ]
    },
    {
     "name": "stdout",
     "output_type": "stream",
     "text": [
      "99:\ttotal: 361ms\tremaining: 0us\n",
      "0:\ttotal: 2.83ms\tremaining: 281ms\n"
     ]
    },
    {
     "name": "stderr",
     "output_type": "stream",
     "text": [
      "c:\\Users\\Juste Kouassi\\AppData\\Local\\Programs\\Python\\Python312\\Lib\\site-packages\\optuna\\distributions.py:708: UserWarning: The distribution is specified by [100, 3000] and step=150, but the range is not divisible by `step`. It will be replaced by [100, 2950].\n",
      "  warnings.warn(\n",
      "[I 2025-01-05 18:27:03,454] Trial 12 finished with value: 0.6293415340086831 and parameters: {'booster': 'catboost', 'iterations': 100, 'depth': 3, 'learning_rate': 0.04592526961977241, 'l2_leaf_reg': 1.5861083775135576, 'bagging_temperature': 0.7413617605133624, 'rsm': 0.8746823127103894}. Best is trial 10 with value: 0.6388297721404047.\n"
     ]
    },
    {
     "name": "stdout",
     "output_type": "stream",
     "text": [
      "99:\ttotal: 295ms\tremaining: 0us\n",
      "0:\ttotal: 5.46ms\tremaining: 541ms\n"
     ]
    },
    {
     "name": "stderr",
     "output_type": "stream",
     "text": [
      "c:\\Users\\Juste Kouassi\\AppData\\Local\\Programs\\Python\\Python312\\Lib\\site-packages\\optuna\\distributions.py:708: UserWarning: The distribution is specified by [100, 3000] and step=150, but the range is not divisible by `step`. It will be replaced by [100, 2950].\n",
      "  warnings.warn(\n",
      "[I 2025-01-05 18:27:04,312] Trial 13 finished with value: 0.6312551431571181 and parameters: {'booster': 'catboost', 'iterations': 100, 'depth': 6, 'learning_rate': 0.043660475564681944, 'l2_leaf_reg': 1.1920995488632453, 'bagging_temperature': 0.6017941497419563, 'rsm': 0.8151295390374111}. Best is trial 10 with value: 0.6388297721404047.\n"
     ]
    },
    {
     "name": "stdout",
     "output_type": "stream",
     "text": [
      "99:\ttotal: 623ms\tremaining: 0us\n"
     ]
    },
    {
     "name": "stderr",
     "output_type": "stream",
     "text": [
      "c:\\Users\\Juste Kouassi\\AppData\\Local\\Programs\\Python\\Python312\\Lib\\site-packages\\optuna\\distributions.py:708: UserWarning: The distribution is specified by [100, 3000] and step=150, but the range is not divisible by `step`. It will be replaced by [100, 2950].\n",
      "  warnings.warn(\n"
     ]
    },
    {
     "name": "stdout",
     "output_type": "stream",
     "text": [
      "0:\ttotal: 12.3ms\tremaining: 6.75s\n",
      "300:\ttotal: 2.98s\tremaining: 2.46s\n"
     ]
    },
    {
     "name": "stderr",
     "output_type": "stream",
     "text": [
      "[I 2025-01-05 18:27:10,324] Trial 14 finished with value: 0.629304290457138 and parameters: {'booster': 'catboost', 'iterations': 550, 'depth': 6, 'learning_rate': 0.03301248029848205, 'l2_leaf_reg': 2.963536070540479, 'bagging_temperature': 0.992998552816229, 'rsm': 0.7271602689650539}. Best is trial 10 with value: 0.6388297721404047.\n"
     ]
    },
    {
     "name": "stdout",
     "output_type": "stream",
     "text": [
      "549:\ttotal: 5.49s\tremaining: 0us\n",
      "[LightGBM] [Warning] feature_fraction is set=0.9949438109381377, colsample_bytree=1.0 will be ignored. Current value: feature_fraction=0.9949438109381377\n",
      "[LightGBM] [Warning] lambda_l1 is set=0.9652287819229988, reg_alpha=0.0 will be ignored. Current value: lambda_l1=0.9652287819229988\n",
      "[LightGBM] [Warning] lambda_l2 is set=0.045154379088513164, reg_lambda=0.0 will be ignored. Current value: lambda_l2=0.045154379088513164\n",
      "[LightGBM] [Warning] bagging_fraction is set=0.6397939278670998, subsample=1.0 will be ignored. Current value: bagging_fraction=0.6397939278670998\n",
      "[LightGBM] [Warning] Found whitespace in feature_names, replace with underlines\n",
      "[LightGBM] [Warning] feature_fraction is set=0.9949438109381377, colsample_bytree=1.0 will be ignored. Current value: feature_fraction=0.9949438109381377\n",
      "[LightGBM] [Warning] lambda_l1 is set=0.9652287819229988, reg_alpha=0.0 will be ignored. Current value: lambda_l1=0.9652287819229988\n",
      "[LightGBM] [Warning] lambda_l2 is set=0.045154379088513164, reg_lambda=0.0 will be ignored. Current value: lambda_l2=0.045154379088513164\n",
      "[LightGBM] [Warning] bagging_fraction is set=0.6397939278670998, subsample=1.0 will be ignored. Current value: bagging_fraction=0.6397939278670998\n",
      "[LightGBM] [Info] Number of positive: 1226, number of negative: 4144\n",
      "[LightGBM] [Info] Total Bins 969\n",
      "[LightGBM] [Info] Number of data points in the train set: 5370, number of used features: 13\n",
      "[LightGBM] [Info] [binary:BoostFromScore]: pavg=0.228305 -> initscore=-1.217905\n",
      "[LightGBM] [Info] Start training from score -1.217905\n"
     ]
    },
    {
     "name": "stderr",
     "output_type": "stream",
     "text": [
      "c:\\Users\\Juste Kouassi\\AppData\\Local\\Programs\\Python\\Python312\\Lib\\site-packages\\optuna\\distributions.py:708: UserWarning: The distribution is specified by [100, 3000] and step=200, but the range is not divisible by `step`. It will be replaced by [100, 2900].\n",
      "  warnings.warn(\n",
      "c:\\Users\\Juste Kouassi\\AppData\\Local\\Programs\\Python\\Python312\\Lib\\site-packages\\optuna\\distributions.py:708: UserWarning: The distribution is specified by [2, 20] and step=10, but the range is not divisible by `step`. It will be replaced by [2, 12].\n",
      "  warnings.warn(\n",
      "[I 2025-01-05 18:27:10,502] Trial 15 finished with value: 0.5409785477143101 and parameters: {'booster': 'lightgbm', 'n_estimators': 100, 'max_depth': 3, 'learning_rate': 0.050929591134091, 'num_leaves': 2, 'feature_fraction': 0.9949438109381377, 'bagging_fraction': 0.6397939278670998, 'lambda_l1': 0.9652287819229988, 'lambda_l2': 0.045154379088513164}. Best is trial 10 with value: 0.6388297721404047.\n"
     ]
    },
    {
     "name": "stdout",
     "output_type": "stream",
     "text": [
      "[LightGBM] [Warning] feature_fraction is set=0.9949438109381377, colsample_bytree=1.0 will be ignored. Current value: feature_fraction=0.9949438109381377\n",
      "[LightGBM] [Warning] lambda_l1 is set=0.9652287819229988, reg_alpha=0.0 will be ignored. Current value: lambda_l1=0.9652287819229988\n",
      "[LightGBM] [Warning] lambda_l2 is set=0.045154379088513164, reg_lambda=0.0 will be ignored. Current value: lambda_l2=0.045154379088513164\n",
      "[LightGBM] [Warning] bagging_fraction is set=0.6397939278670998, subsample=1.0 will be ignored. Current value: bagging_fraction=0.6397939278670998\n",
      "0:\ttotal: 7.39ms\tremaining: 5.17s\n"
     ]
    },
    {
     "name": "stderr",
     "output_type": "stream",
     "text": [
      "c:\\Users\\Juste Kouassi\\AppData\\Local\\Programs\\Python\\Python312\\Lib\\site-packages\\optuna\\distributions.py:708: UserWarning: The distribution is specified by [100, 3000] and step=150, but the range is not divisible by `step`. It will be replaced by [100, 2950].\n",
      "  warnings.warn(\n"
     ]
    },
    {
     "name": "stdout",
     "output_type": "stream",
     "text": [
      "300:\ttotal: 2.14s\tremaining: 2.83s\n",
      "600:\ttotal: 4.3s\tremaining: 708ms\n"
     ]
    },
    {
     "name": "stderr",
     "output_type": "stream",
     "text": [
      "[I 2025-01-05 18:27:15,751] Trial 16 finished with value: 0.638269345364774 and parameters: {'booster': 'catboost', 'iterations': 700, 'depth': 3, 'learning_rate': 0.03139914555281368, 'l2_leaf_reg': 2.976055996978915, 'bagging_temperature': 0.5902073003686519, 'rsm': 0.7397442231794421}. Best is trial 10 with value: 0.6388297721404047.\n"
     ]
    },
    {
     "name": "stdout",
     "output_type": "stream",
     "text": [
      "699:\ttotal: 4.88s\tremaining: 0us\n"
     ]
    },
    {
     "name": "stderr",
     "output_type": "stream",
     "text": [
      "c:\\Users\\Juste Kouassi\\AppData\\Local\\Programs\\Python\\Python312\\Lib\\site-packages\\optuna\\distributions.py:708: UserWarning: The distribution is specified by [100, 3000] and step=150, but the range is not divisible by `step`. It will be replaced by [100, 2950].\n",
      "  warnings.warn(\n"
     ]
    },
    {
     "name": "stdout",
     "output_type": "stream",
     "text": [
      "0:\ttotal: 19.9ms\tremaining: 13.9s\n",
      "300:\ttotal: 2.44s\tremaining: 3.24s\n",
      "600:\ttotal: 5.03s\tremaining: 829ms\n"
     ]
    },
    {
     "name": "stderr",
     "output_type": "stream",
     "text": [
      "[I 2025-01-05 18:27:22,031] Trial 17 finished with value: 0.6377443886382339 and parameters: {'booster': 'catboost', 'iterations': 700, 'depth': 6, 'learning_rate': 0.006287404944114162, 'l2_leaf_reg': 3.711227699838873, 'bagging_temperature': 0.4487666759832527, 'rsm': 0.6594378207508853}. Best is trial 10 with value: 0.6388297721404047.\n"
     ]
    },
    {
     "name": "stdout",
     "output_type": "stream",
     "text": [
      "699:\ttotal: 5.75s\tremaining: 0us\n"
     ]
    },
    {
     "name": "stderr",
     "output_type": "stream",
     "text": [
      "c:\\Users\\Juste Kouassi\\AppData\\Local\\Programs\\Python\\Python312\\Lib\\site-packages\\optuna\\distributions.py:708: UserWarning: The distribution is specified by [100, 3000] and step=200, but the range is not divisible by `step`. It will be replaced by [100, 2900].\n",
      "  warnings.warn(\n",
      "[I 2025-01-05 18:27:32,424] Trial 18 finished with value: 0.5746183422717857 and parameters: {'booster': 'xgboost', 'n_estimators': 1100, 'max_depth': 12, 'learning_rate': 0.029001271453748746, 'subsample': 0.6300339118134012, 'colsample_bytree': 0.989962954391434, 'gamma': 0.016422336010360417, 'min_child_weight': 1}. Best is trial 10 with value: 0.6388297721404047.\n",
      "c:\\Users\\Juste Kouassi\\AppData\\Local\\Programs\\Python\\Python312\\Lib\\site-packages\\optuna\\distributions.py:708: UserWarning: The distribution is specified by [100, 3000] and step=200, but the range is not divisible by `step`. It will be replaced by [100, 2900].\n",
      "  warnings.warn(\n",
      "c:\\Users\\Juste Kouassi\\AppData\\Local\\Programs\\Python\\Python312\\Lib\\site-packages\\optuna\\distributions.py:708: UserWarning: The distribution is specified by [2, 20] and step=10, but the range is not divisible by `step`. It will be replaced by [2, 12].\n",
      "  warnings.warn(\n"
     ]
    },
    {
     "name": "stdout",
     "output_type": "stream",
     "text": [
      "[LightGBM] [Warning] feature_fraction is set=0.6024001008121345, colsample_bytree=1.0 will be ignored. Current value: feature_fraction=0.6024001008121345\n",
      "[LightGBM] [Warning] lambda_l1 is set=0.0033630636335638675, reg_alpha=0.0 will be ignored. Current value: lambda_l1=0.0033630636335638675\n",
      "[LightGBM] [Warning] lambda_l2 is set=0.10531777414233345, reg_lambda=0.0 will be ignored. Current value: lambda_l2=0.10531777414233345\n",
      "[LightGBM] [Warning] bagging_fraction is set=0.6232866353974427, subsample=1.0 will be ignored. Current value: bagging_fraction=0.6232866353974427\n",
      "[LightGBM] [Warning] Found whitespace in feature_names, replace with underlines\n",
      "[LightGBM] [Warning] feature_fraction is set=0.6024001008121345, colsample_bytree=1.0 will be ignored. Current value: feature_fraction=0.6024001008121345\n",
      "[LightGBM] [Warning] lambda_l1 is set=0.0033630636335638675, reg_alpha=0.0 will be ignored. Current value: lambda_l1=0.0033630636335638675\n",
      "[LightGBM] [Warning] lambda_l2 is set=0.10531777414233345, reg_lambda=0.0 will be ignored. Current value: lambda_l2=0.10531777414233345\n",
      "[LightGBM] [Warning] bagging_fraction is set=0.6232866353974427, subsample=1.0 will be ignored. Current value: bagging_fraction=0.6232866353974427\n",
      "[LightGBM] [Info] Number of positive: 1226, number of negative: 4144\n",
      "[LightGBM] [Info] Total Bins 969\n",
      "[LightGBM] [Info] Number of data points in the train set: 5370, number of used features: 13\n",
      "[LightGBM] [Info] [binary:BoostFromScore]: pavg=0.228305 -> initscore=-1.217905\n",
      "[LightGBM] [Info] Start training from score -1.217905\n"
     ]
    },
    {
     "name": "stderr",
     "output_type": "stream",
     "text": [
      "[I 2025-01-05 18:27:32,800] Trial 19 finished with value: 0.5653251894100623 and parameters: {'booster': 'lightgbm', 'n_estimators': 300, 'max_depth': 3, 'learning_rate': 0.0588066833426035, 'num_leaves': 2, 'feature_fraction': 0.6024001008121345, 'bagging_fraction': 0.6232866353974427, 'lambda_l1': 0.0033630636335638675, 'lambda_l2': 0.10531777414233345}. Best is trial 10 with value: 0.6388297721404047.\n"
     ]
    },
    {
     "name": "stdout",
     "output_type": "stream",
     "text": [
      "[LightGBM] [Warning] feature_fraction is set=0.6024001008121345, colsample_bytree=1.0 will be ignored. Current value: feature_fraction=0.6024001008121345\n",
      "[LightGBM] [Warning] lambda_l1 is set=0.0033630636335638675, reg_alpha=0.0 will be ignored. Current value: lambda_l1=0.0033630636335638675\n",
      "[LightGBM] [Warning] lambda_l2 is set=0.10531777414233345, reg_lambda=0.0 will be ignored. Current value: lambda_l2=0.10531777414233345\n",
      "[LightGBM] [Warning] bagging_fraction is set=0.6232866353974427, subsample=1.0 will be ignored. Current value: bagging_fraction=0.6232866353974427\n",
      "Best Hyperparameters: {'booster': 'catboost', 'iterations': 250, 'depth': 3, 'learning_rate': 0.04767894489334537, 'l2_leaf_reg': 1.5848112685485223, 'bagging_temperature': 0.6729309176584872, 'rsm': 0.8021947496048368}\n",
      "0:\tlearn: 0.6737407\ttotal: 8.22ms\tremaining: 2.05s\n",
      "249:\tlearn: 0.4548863\ttotal: 1.51s\tremaining: 0us\n",
      "F1 Score: 0.5753\n",
      "\n",
      "Classification Report:\n",
      "               precision    recall  f1-score   support\n",
      "\n",
      "           0       0.80      0.97      0.88      1382\n",
      "           1       0.62      0.18      0.28       408\n",
      "\n",
      "    accuracy                           0.79      1790\n",
      "   macro avg       0.71      0.58      0.58      1790\n",
      "weighted avg       0.76      0.79      0.74      1790\n",
      "\n"
     ]
    },
    {
     "data": {
      "image/png": "[encoded data removed]",
      "text/plain": [
       "<Figure size 640x480 with 2 Axes>"
      ]
     },
     "metadata": {},
     "output_type": "display_data"
    }
   ],
   "source": [
    "# Fonction objective pour Optuna\n",
    "def objective(trial):\n",
    "    \"\"\"\n",
    "    Optuna objective function for hyperparameter optimization.\n",
    "    Tries different boosting algorithms with various hyperparameters.\n",
    "    \"\"\"\n",
    "    # Sélectionner le booster (modèle)\n",
    "    booster = trial.suggest_categorical(\"booster\", [\"xgboost\", \"lightgbm\", \"catboost\"])\n",
    "    # booster = trial.suggest_categorical(\"booster\", [\"xgboost\", \"lightgbm\"])\n",
    "    # seed = trial.suggest_int(\"random_state\", 0, 45)\n",
    "    seed = SEED\n",
    "\n",
    "    if booster == \"xgboost\":\n",
    "        params = {\n",
    "            \"n_estimators\": trial.suggest_int(\"n_estimators\", 100, 3000, step=100),\n",
    "            \"max_depth\": trial.suggest_int(\"max_depth\", 2, 12),\n",
    "            \"learning_rate\": trial.suggest_float(\"learning_rate\", 0.005, 0.1),\n",
    "            \"subsample\": trial.suggest_float(\"subsample\", 0.6, 1.0),\n",
    "            \"colsample_bytree\": trial.suggest_float(\"colsample_bytree\", 0.6, 1.0),\n",
    "            \"gamma\": trial.suggest_float(\"gamma\", 0, 0.5),\n",
    "            \"min_child_weight\": trial.suggest_int(\"min_child_weight\", 1, 5),\n",
    "            \"random_state\": seed,\n",
    "            \"scale_pos_weight\": len(y_train[y_train == 0]) / len(y_train[y_train == 1]),\n",
    "        }\n",
    "        model = XGBClassifier(**params, eval_metric=\"logloss\")\n",
    "\n",
    "    elif booster == \"lightgbm\":\n",
    "        params = {\n",
    "            \"n_estimators\": trial.suggest_int(\"n_estimators\", 100, 3000, step=100),\n",
    "            \"max_depth\": trial.suggest_int(\"max_depth\", 3, 12),\n",
    "            \"learning_rate\": trial.suggest_float(\"learning_rate\", 0.005, 0.1),\n",
    "            \"num_leaves\": trial.suggest_int(\"num_leaves\", 2, 20, step=10),\n",
    "            \"feature_fraction\": trial.suggest_float(\"feature_fraction\", 0.6, 1.0),\n",
    "            \"bagging_fraction\": trial.suggest_float(\"bagging_fraction\", 0.6, 1.0),\n",
    "            \"lambda_l1\": trial.suggest_float(\"lambda_l1\", 0, 1),\n",
    "            \"lambda_l2\": trial.suggest_float(\"lambda_l2\", 0, 1),\n",
    "            \"random_state\": seed,\n",
    "            \"force_row_wise\": True\n",
    "        }\n",
    "        model = LGBMClassifier(**params)\n",
    "\n",
    "    elif booster == \"catboost\":\n",
    "        params = {\n",
    "            \"iterations\": trial.suggest_int(\"iterations\", 100, 3000, step=100),\n",
    "            \"depth\": trial.suggest_int(\"depth\", 3, 12),\n",
    "            \"learning_rate\": trial.suggest_float(\"learning_rate\", 0.005, 0.1),\n",
    "            \"l2_leaf_reg\": trial.suggest_float(\"l2_leaf_reg\", 1, 10),\n",
    "            \"bagging_temperature\": trial.suggest_float(\"bagging_temperature\", 0.1, 1.0),\n",
    "            \"rsm\": trial.suggest_float(\"rsm\", 0.3, 0.9),\n",
    "            \"random_state\": seed,\n",
    "            \"border_count\": 128,\n",
    "            \"objective\": \"Logloss\",\n",
    "            'eval_metric': 'AUC',\n",
    "            'class_weights': [1, 5],\n",
    "            \"early_stopping_rounds\": 100,\n",
    "            \"verbose\": 300\n",
    "        }\n",
    "        model = CatBoostClassifier(**params)\n",
    "\n",
    "    model.fit(X_train, y_train)\n",
    "    y_pred = model.predict(X_valid)\n",
    "    return calcul_auc(y_valid, y_pred)\n",
    "\n",
    "\n",
    "# Optimize hyperparameters using Optuna\n",
    "study = optuna.create_study(direction=\"maximize\")\n",
    "study.optimize(objective, n_trials=20)\n",
    "\n",
    "print(\"Best Hyperparameters:\", study.best_params)\n",
    "\n",
    "# Train final model with best parameters\n",
    "best_params = study.best_params\n",
    "if best_params[\"booster\"] == \"xgboost\":\n",
    "    del best_params[\"booster\"]\n",
    "    final_model = XGBClassifier(**best_params, eval_metric=\"logloss\")\n",
    "elif best_params[\"booster\"] == \"lightgbm\":\n",
    "    final_model = LGBMClassifier(**best_params)\n",
    "elif best_params[\"booster\"] == \"catboost\":\n",
    "    del best_params[\"booster\"]\n",
    "    final_model = CatBoostClassifier(**best_params, verbose=300)\n",
    "\n",
    "# Train and evaluate final model\n",
    "final_model.fit(X_train, y_train)\n",
    "y_pred = final_model.predict(X_valid)\n",
    "\n",
    "# Print model performance metrics\n",
    "f1 = calcul_auc(y_valid, y_pred)\n",
    "print(f\"\\nSocre AUC : {f1:.4f}\")\n",
    "\n",
    "# Plot confusion matrix\n",
    "ConfusionMatrixDisplay.from_predictions(\n",
    "    y_valid,\n",
    "    y_pred,\n",
    "    display_labels=final_model.classes_,\n",
    ")\n",
    "plt.title(\"Confusion Matrix\")\n",
    "plt.show()"
   ]
  },
  {
   "attachments": {},
   "cell_type": "markdown",
   "metadata": {},
   "source": [
    "### Entrainement du modèle avec CatBoost"
   ]
  },
  {
   "cell_type": "code",
   "execution_count": null,
   "metadata": {},
   "outputs": [
    {
     "name": "stdout",
     "output_type": "stream",
     "text": [
      "0:\ttotal: 9.06ms\tremaining: 18.1s\n",
      "100:\ttotal: 809ms\tremaining: 15.2s\n",
      "200:\ttotal: 1.54s\tremaining: 13.7s\n",
      "300:\ttotal: 2.4s\tremaining: 13.6s\n",
      "400:\ttotal: 3.3s\tremaining: 13.2s\n",
      "500:\ttotal: 4.13s\tremaining: 12.3s\n",
      "600:\ttotal: 4.92s\tremaining: 11.4s\n",
      "700:\ttotal: 5.64s\tremaining: 10.5s\n",
      "800:\ttotal: 6.46s\tremaining: 9.66s\n",
      "900:\ttotal: 7.42s\tremaining: 9.06s\n",
      "1000:\ttotal: 8.29s\tremaining: 8.27s\n",
      "1100:\ttotal: 9.06s\tremaining: 7.4s\n",
      "1200:\ttotal: 9.8s\tremaining: 6.52s\n",
      "1300:\ttotal: 10.7s\tremaining: 5.75s\n",
      "1400:\ttotal: 11.8s\tremaining: 5.03s\n",
      "1500:\ttotal: 12.7s\tremaining: 4.21s\n",
      "1600:\ttotal: 13.6s\tremaining: 3.39s\n",
      "1700:\ttotal: 14.6s\tremaining: 2.56s\n",
      "1800:\ttotal: 15.5s\tremaining: 1.72s\n",
      "1900:\ttotal: 16.6s\tremaining: 862ms\n",
      "1999:\ttotal: 17.5s\tremaining: 0us\n",
      "Taux d'erreur du <catboost.core.CatBoostClassifier object at 0x0000015F0BB11BB0> : 0.6744281571014245\n"
     ]
    }
   ],
   "source": [
    "# Selection des variables independantes et de la variable cible\n",
    "X = train_pp.drop([ID, TARGET], axis=1)\n",
    "y = train_pp[TARGET]\n",
    "\n",
    "# Le decoupage des données entre l'ensemble pour l'apprentissage et le test\n",
    "# X_train, X_test, y_train, y_test = train_test_split(X, y, test_size=0.25, random_state=SEED)\n",
    "\n",
    "skf = StratifiedKFold(n_splits=5, random_state=SEED, shuffle=True)\n",
    "for train_index, test_index in skf.split(X, y):\n",
    "    X_train, X_test = X.iloc[train_index], X.iloc[test_index]\n",
    "    y_train, y_test = y.iloc[train_index], y.iloc[test_index]\n",
    "\n",
    "params = {\n",
    "    'n_estimators': 2000,\n",
    "    'learning_rate': 0.01,\n",
    "    'objective': 'Logloss',\n",
    "    'eval_metric': 'AUC',\n",
    "    'rsm': 0.6,\n",
    "    'depth': 6,\n",
    "    'l2_leaf_reg': 5,\n",
    "    'bagging_temperature': 1.0,\n",
    "    'random_seed': SEED,\n",
    "    'early_stopping_rounds': 200,\n",
    "    # 'use_best_model': True,\n",
    "    'class_weights': [1, 5],  # Exemples de poids pour classes déséquilibrées\n",
    "}\n",
    "\n",
    "clf = CatBoostClassifier(**params)\n",
    "clf.fit(X_train, y_train, verbose=100)\n",
    "\n",
    "# Predictions des valeurs cibles pour l'ensemble des variables du test\n",
    "y_pred = clf.predict(X_test)\n",
    "\n",
    "metrique = calcul_auc(y_test, y_pred)\n",
    "\n",
    "print(f\"Taux d'erreur du {str(clf)} : {metrique}\")"
   ]
  },
  {
   "cell_type": "markdown",
   "metadata": {},
   "source": [
    "0.6744281571014245"
   ]
  },
  {
   "cell_type": "code",
   "execution_count": 27,
   "metadata": {},
   "outputs": [
    {
     "data": {
      "image/png": "[encoded data removed]",
      "text/plain": [
       "<Figure size 1000x800 with 1 Axes>"
      ]
     },
     "metadata": {},
     "output_type": "display_data"
    }
   ],
   "source": [
    "feature_importances = final_model.feature_importances_\n",
    "importance_df = pd.DataFrame({\n",
    "    'Feature': features_for_modelling,\n",
    "    'Importance': feature_importances\n",
    "})\n",
    "importance_df = importance_df.sort_values(by='Importance', ascending=False).head(50)\n",
    "\n",
    "plt.figure(figsize=(10, 8))\n",
    "plt.barh(importance_df['Feature'], importance_df['Importance'], color='skyblue')\n",
    "plt.gca().invert_yaxis()\n",
    "plt.xlabel('Feature Importance')\n",
    "plt.title('Top 20 Feature Importances')\n",
    "plt.show()"
   ]
  },
  {
   "attachments": {},
   "cell_type": "markdown",
   "metadata": {},
   "source": [
    "## Submission"
   ]
  },
  {
   "attachments": {},
   "cell_type": "markdown",
   "metadata": {},
   "source": [
    "Visualisation du fichier d'exemple de soumission"
   ]
  },
  {
   "cell_type": "code",
   "execution_count": 52,
   "metadata": {},
   "outputs": [
    {
     "data": {
      "text/html": [
       "<div>\n",
       "<style scoped>\n",
       "    .dataframe tbody tr th:only-of-type {\n",
       "        vertical-align: middle;\n",
       "    }\n",
       "\n",
       "    .dataframe tbody tr th {\n",
       "        vertical-align: top;\n",
       "    }\n",
       "\n",
       "    .dataframe thead th {\n",
       "        text-align: right;\n",
       "    }\n",
       "</style>\n",
       "<table border=\"1\" class=\"dataframe\">\n",
       "  <thead>\n",
       "    <tr style=\"text-align: right;\">\n",
       "      <th></th>\n",
       "      <th>Customer Id</th>\n",
       "      <th>Claim</th>\n",
       "    </tr>\n",
       "  </thead>\n",
       "  <tbody>\n",
       "    <tr>\n",
       "      <th>0</th>\n",
       "      <td>H0</td>\n",
       "      <td>1</td>\n",
       "    </tr>\n",
       "    <tr>\n",
       "      <th>1</th>\n",
       "      <td>H10000</td>\n",
       "      <td>1</td>\n",
       "    </tr>\n",
       "    <tr>\n",
       "      <th>2</th>\n",
       "      <td>H10001</td>\n",
       "      <td>1</td>\n",
       "    </tr>\n",
       "    <tr>\n",
       "      <th>3</th>\n",
       "      <td>H10002</td>\n",
       "      <td>1</td>\n",
       "    </tr>\n",
       "    <tr>\n",
       "      <th>4</th>\n",
       "      <td>H10003</td>\n",
       "      <td>1</td>\n",
       "    </tr>\n",
       "  </tbody>\n",
       "</table>\n",
       "</div>"
      ],
      "text/plain": [
       "  Customer Id  Claim\n",
       "0          H0      1\n",
       "1      H10000      1\n",
       "2      H10001      1\n",
       "3      H10002      1\n",
       "4      H10003      1"
      ]
     },
     "execution_count": 52,
     "metadata": {},
     "output_type": "execute_result"
    }
   ],
   "source": [
    "sample_submission.head()"
   ]
  },
  {
   "attachments": {},
   "cell_type": "markdown",
   "metadata": {},
   "source": [
    "Création de notre fichier de soumission"
   ]
  },
  {
   "cell_type": "code",
   "execution_count": 29,
   "metadata": {},
   "outputs": [
    {
     "name": "stdout",
     "output_type": "stream",
     "text": [
      "[LightGBM] [Warning] Unknown parameter: booster\n",
      "[LightGBM] [Warning] feature_fraction is set=0.9482065485287381, colsample_bytree=1.0 will be ignored. Current value: feature_fraction=0.9482065485287381\n",
      "[LightGBM] [Warning] lambda_l1 is set=0.37445004179135033, reg_alpha=0.0 will be ignored. Current value: lambda_l1=0.37445004179135033\n",
      "[LightGBM] [Warning] lambda_l2 is set=0.565838925504179, reg_lambda=0.0 will be ignored. Current value: lambda_l2=0.565838925504179\n",
      "[LightGBM] [Warning] bagging_fraction is set=0.7553057156621784, subsample=1.0 will be ignored. Current value: bagging_fraction=0.7553057156621784\n"
     ]
    },
    {
     "name": "stderr",
     "output_type": "stream",
     "text": [
      "C:\\Users\\Juste Kouassi\\AppData\\Local\\Temp\\ipykernel_13356\\71994349.py:5: SettingWithCopyWarning: \n",
      "A value is trying to be set on a copy of a slice from a DataFrame.\n",
      "Try using .loc[row_indexer,col_indexer] = value instead\n",
      "\n",
      "See the caveats in the documentation: https://pandas.pydata.org/pandas-docs/stable/user_guide/indexing.html#returning-a-view-versus-a-copy\n",
      "  test_df[TARGET] = test_predictions\n"
     ]
    },
    {
     "data": {
      "text/html": [
       "<div>\n",
       "<style scoped>\n",
       "    .dataframe tbody tr th:only-of-type {\n",
       "        vertical-align: middle;\n",
       "    }\n",
       "\n",
       "    .dataframe tbody tr th {\n",
       "        vertical-align: top;\n",
       "    }\n",
       "\n",
       "    .dataframe thead th {\n",
       "        text-align: right;\n",
       "    }\n",
       "</style>\n",
       "<table border=\"1\" class=\"dataframe\">\n",
       "  <thead>\n",
       "    <tr style=\"text-align: right;\">\n",
       "      <th></th>\n",
       "      <th>Customer Id</th>\n",
       "      <th>Claim</th>\n",
       "    </tr>\n",
       "  </thead>\n",
       "  <tbody>\n",
       "    <tr>\n",
       "      <th>7160</th>\n",
       "      <td>H11920</td>\n",
       "      <td>0</td>\n",
       "    </tr>\n",
       "    <tr>\n",
       "      <th>7161</th>\n",
       "      <td>H11921</td>\n",
       "      <td>0</td>\n",
       "    </tr>\n",
       "    <tr>\n",
       "      <th>7162</th>\n",
       "      <td>H9805</td>\n",
       "      <td>0</td>\n",
       "    </tr>\n",
       "    <tr>\n",
       "      <th>7163</th>\n",
       "      <td>H7493</td>\n",
       "      <td>0</td>\n",
       "    </tr>\n",
       "    <tr>\n",
       "      <th>7164</th>\n",
       "      <td>H7494</td>\n",
       "      <td>0</td>\n",
       "    </tr>\n",
       "  </tbody>\n",
       "</table>\n",
       "</div>"
      ],
      "text/plain": [
       "     Customer Id  Claim\n",
       "7160      H11920      0\n",
       "7161      H11921      0\n",
       "7162       H9805      0\n",
       "7163       H7493      0\n",
       "7164       H7494      0"
      ]
     },
     "execution_count": 29,
     "metadata": {},
     "output_type": "execute_result"
    }
   ],
   "source": [
    "# Generate predictions for test set\n",
    "test_predictions = final_model.predict(test_df[features_for_modelling])\n",
    "\n",
    "# Create submission dataframe\n",
    "test_df[TARGET] = test_predictions\n",
    "sub = test_df[[ID, TARGET]]\n",
    "sub.head()"
   ]
  },
  {
   "cell_type": "code",
   "execution_count": 30,
   "metadata": {},
   "outputs": [],
   "source": [
    "# Save predictions to CSV file\n",
    "today = dt.now().strftime(format=\"%Y-%m-%d_%Hh%M\")\n",
    "# sub.to_csv(f'submissions/submission_{today}.csv', index=False)\n",
    "sub.to_csv(f'submissions/submission_{today}.csv', index=False)"
   ]
  },
  {
   "cell_type": "code",
   "execution_count": 26,
   "metadata": {},
   "outputs": [
    {
     "ename": "NameError",
     "evalue": "name 'test_pp' is not defined",
     "output_type": "error",
     "traceback": [
      "\u001b[1;31m---------------------------------------------------------------------------\u001b[0m",
      "\u001b[1;31mNameError\u001b[0m                                 Traceback (most recent call last)",
      "Cell \u001b[1;32mIn[26], line 2\u001b[0m\n\u001b[0;32m      1\u001b[0m \u001b[38;5;66;03m# Faire des prédictions sur l'ensemble de données pour le test\u001b[39;00m\n\u001b[1;32m----> 2\u001b[0m test_df \u001b[38;5;241m=\u001b[39m \u001b[43mtest_pp\u001b[49m\u001b[38;5;241m.\u001b[39mdrop([ID], axis \u001b[38;5;241m=\u001b[39m \u001b[38;5;241m1\u001b[39m)\n\u001b[0;32m      3\u001b[0m predictions \u001b[38;5;241m=\u001b[39m final_model\u001b[38;5;241m.\u001b[39mpredict(test_df)\n\u001b[0;32m      5\u001b[0m \u001b[38;5;66;03m# Génerer un dataframe pour la soumission\u001b[39;00m\n",
      "\u001b[1;31mNameError\u001b[0m: name 'test_pp' is not defined"
     ]
    }
   ],
   "source": [
    "# Faire des prédictions sur l'ensemble de données pour le test\n",
    "test_df = test_pp.drop([ID], axis = 1)\n",
    "predictions = final_model.predict(test_df)\n",
    "\n",
    "# Génerer un dataframe pour la soumission\n",
    "sub_file = pd.DataFrame({ID: test[ID], TARGET: predictions})\n",
    "\n",
    "# Create file\n",
    "today = dt.now().strftime(format=\"%Y-%m-%d_%Hh%M\")\n",
    "sub_file.to_csv(f'submissions/submission_{today}.csv', index=False)\n",
    "\n",
    "sub_file.sample(5)"
   ]
  },
  {
   "attachments": {},
   "cell_type": "markdown",
   "metadata": {},
   "source": [
    "## Model saving"
   ]
  },
  {
   "cell_type": "code",
   "execution_count": null,
   "metadata": {},
   "outputs": [
    {
     "data": {
      "text/plain": [
       "['models/catboost_gpt.pkl']"
      ]
     },
     "execution_count": 129,
     "metadata": {},
     "output_type": "execute_result"
    }
   ],
   "source": [
    "# Save the model as a pickle in a file\n",
    "file_name = 'catboost_gpt'\n",
    "joblib.dump(clf, f'models/{file_name}.pkl')"
   ]
  }
 ],
 "metadata": {
  "kernelspec": {
   "display_name": "Python 3",
   "language": "python",
   "name": "python3"
  },
  "language_info": {
   "codemirror_mode": {
    "name": "ipython",
    "version": 3
   },
   "file_extension": ".py",
   "mimetype": "text/x-python",
   "name": "python",
   "nbconvert_exporter": "python",
   "pygments_lexer": "ipython3",
   "version": "3.12.9"
  },
  "orig_nbformat": 4
 },
 "nbformat": 4,
 "nbformat_minor": 2
}
