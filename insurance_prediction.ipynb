{
 "cells": [
  {
   "attachments": {},
   "cell_type": "markdown",
   "metadata": {},
   "source": [
    "# Insurance Prediction Challenge"
   ]
  },
  {
   "attachments": {},
   "cell_type": "markdown",
   "metadata": {},
   "source": [
    "## Context"
   ]
  },
  {
   "attachments": {},
   "cell_type": "markdown",
   "metadata": {},
   "source": [
    "https://zindi.africa/competitions/insurance-prediction-challenge"
   ]
  },
  {
   "attachments": {},
   "cell_type": "markdown",
   "metadata": {},
   "source": [
    "## Importation des modules"
   ]
  },
  {
   "cell_type": "code",
   "execution_count": 1,
   "metadata": {},
   "outputs": [],
   "source": [
    "import numpy as np\n",
    "import pandas as pd\n",
    "import matplotlib.pyplot as plt\n",
    "import seaborn as sns\n",
    "# models\n",
    "from sklearn.ensemble import GradientBoostingClassifier\n",
    "from xgboost import XGBClassifier\n",
    "from lightgbm import LGBMClassifier\n",
    "from catboost import CatBoostClassifier\n",
    "# tuning\n",
    "from sklearn.model_selection import train_test_split\n",
    "from sklearn.model_selection import GridSearchCV\n",
    "from sklearn.model_selection import StratifiedKFold, KFold\n",
    "# encoding\n",
    "from sklearn.preprocessing import LabelEncoder, OrdinalEncoder\n",
    "# scaling\n",
    "from sklearn.preprocessing import MinMaxScaler, StandardScaler, RobustScaler, MaxAbsScaler\n",
    "# metrics\n",
    "from sklearn.metrics import accuracy_score\n",
    "from sklearn.metrics import log_loss\n",
    "from sklearn.metrics import ConfusionMatrixDisplay\n",
    "\n",
    "import random\n",
    "from datetime import datetime as dt\n",
    "\n",
    "from joblib import Parallel, delayed\n",
    "import joblib"
   ]
  },
  {
   "cell_type": "code",
   "execution_count": 2,
   "metadata": {},
   "outputs": [],
   "source": [
    "# Set seed for reproducability\n",
    "SEED = 12\n",
    "random.seed(SEED)\n",
    "np.random.seed(SEED)"
   ]
  },
  {
   "attachments": {},
   "cell_type": "markdown",
   "metadata": {},
   "source": [
    "## Chargement des jeux de données"
   ]
  },
  {
   "cell_type": "code",
   "execution_count": 3,
   "metadata": {},
   "outputs": [],
   "source": [
    "DATA_PATH = 'data/'\n",
    "train = pd.read_csv(DATA_PATH + 'train_data.csv')\n",
    "test = pd.read_csv(DATA_PATH + 'test_data.csv')\n",
    "sample_submission = pd.read_csv(DATA_PATH + 'SampleSubmission.csv')\n",
    "variable_description = pd.read_csv(DATA_PATH + 'VariableDescription.csv')"
   ]
  },
  {
   "cell_type": "code",
   "execution_count": 4,
   "metadata": {},
   "outputs": [
    {
     "data": {
      "text/html": [
       "<div>\n",
       "<style scoped>\n",
       "    .dataframe tbody tr th:only-of-type {\n",
       "        vertical-align: middle;\n",
       "    }\n",
       "\n",
       "    .dataframe tbody tr th {\n",
       "        vertical-align: top;\n",
       "    }\n",
       "\n",
       "    .dataframe thead th {\n",
       "        text-align: right;\n",
       "    }\n",
       "</style>\n",
       "<table border=\"1\" class=\"dataframe\">\n",
       "  <thead>\n",
       "    <tr style=\"text-align: right;\">\n",
       "      <th></th>\n",
       "      <th>Customer Id</th>\n",
       "      <th>YearOfObservation</th>\n",
       "      <th>Insured_Period</th>\n",
       "      <th>Residential</th>\n",
       "      <th>Building_Painted</th>\n",
       "      <th>Building_Fenced</th>\n",
       "      <th>Garden</th>\n",
       "      <th>Settlement</th>\n",
       "      <th>Building Dimension</th>\n",
       "      <th>Building_Type</th>\n",
       "      <th>Date_of_Occupancy</th>\n",
       "      <th>NumberOfWindows</th>\n",
       "      <th>Geo_Code</th>\n",
       "      <th>Claim</th>\n",
       "    </tr>\n",
       "  </thead>\n",
       "  <tbody>\n",
       "    <tr>\n",
       "      <th>0</th>\n",
       "      <td>H14663</td>\n",
       "      <td>2013</td>\n",
       "      <td>1.0</td>\n",
       "      <td>0</td>\n",
       "      <td>N</td>\n",
       "      <td>V</td>\n",
       "      <td>V</td>\n",
       "      <td>U</td>\n",
       "      <td>290.0</td>\n",
       "      <td>1</td>\n",
       "      <td>1960.0</td>\n",
       "      <td>.</td>\n",
       "      <td>1053</td>\n",
       "      <td>0</td>\n",
       "    </tr>\n",
       "    <tr>\n",
       "      <th>1</th>\n",
       "      <td>H2037</td>\n",
       "      <td>2015</td>\n",
       "      <td>1.0</td>\n",
       "      <td>0</td>\n",
       "      <td>V</td>\n",
       "      <td>N</td>\n",
       "      <td>O</td>\n",
       "      <td>R</td>\n",
       "      <td>490.0</td>\n",
       "      <td>1</td>\n",
       "      <td>1850.0</td>\n",
       "      <td>4</td>\n",
       "      <td>1053</td>\n",
       "      <td>0</td>\n",
       "    </tr>\n",
       "    <tr>\n",
       "      <th>2</th>\n",
       "      <td>H3802</td>\n",
       "      <td>2014</td>\n",
       "      <td>1.0</td>\n",
       "      <td>0</td>\n",
       "      <td>N</td>\n",
       "      <td>V</td>\n",
       "      <td>V</td>\n",
       "      <td>U</td>\n",
       "      <td>595.0</td>\n",
       "      <td>1</td>\n",
       "      <td>1960.0</td>\n",
       "      <td>.</td>\n",
       "      <td>1053</td>\n",
       "      <td>0</td>\n",
       "    </tr>\n",
       "  </tbody>\n",
       "</table>\n",
       "</div>"
      ],
      "text/plain": [
       "  Customer Id  YearOfObservation  Insured_Period  Residential  \\\n",
       "0      H14663               2013             1.0            0   \n",
       "1       H2037               2015             1.0            0   \n",
       "2       H3802               2014             1.0            0   \n",
       "\n",
       "  Building_Painted Building_Fenced Garden Settlement  Building Dimension  \\\n",
       "0                N               V      V          U               290.0   \n",
       "1                V               N      O          R               490.0   \n",
       "2                N               V      V          U               595.0   \n",
       "\n",
       "   Building_Type  Date_of_Occupancy NumberOfWindows Geo_Code  Claim  \n",
       "0              1             1960.0               .     1053      0  \n",
       "1              1             1850.0               4     1053      0  \n",
       "2              1             1960.0               .     1053      0  "
      ]
     },
     "execution_count": 4,
     "metadata": {},
     "output_type": "execute_result"
    }
   ],
   "source": [
    "train.head(3)"
   ]
  },
  {
   "cell_type": "code",
   "execution_count": 5,
   "metadata": {},
   "outputs": [
    {
     "data": {
      "text/html": [
       "<div>\n",
       "<style scoped>\n",
       "    .dataframe tbody tr th:only-of-type {\n",
       "        vertical-align: middle;\n",
       "    }\n",
       "\n",
       "    .dataframe tbody tr th {\n",
       "        vertical-align: top;\n",
       "    }\n",
       "\n",
       "    .dataframe thead th {\n",
       "        text-align: right;\n",
       "    }\n",
       "</style>\n",
       "<table border=\"1\" class=\"dataframe\">\n",
       "  <thead>\n",
       "    <tr style=\"text-align: right;\">\n",
       "      <th></th>\n",
       "      <th>Customer Id</th>\n",
       "      <th>YearOfObservation</th>\n",
       "      <th>Insured_Period</th>\n",
       "      <th>Residential</th>\n",
       "      <th>Building_Painted</th>\n",
       "      <th>Building_Fenced</th>\n",
       "      <th>Garden</th>\n",
       "      <th>Settlement</th>\n",
       "      <th>Building Dimension</th>\n",
       "      <th>Building_Type</th>\n",
       "      <th>Date_of_Occupancy</th>\n",
       "      <th>NumberOfWindows</th>\n",
       "      <th>Geo_Code</th>\n",
       "    </tr>\n",
       "  </thead>\n",
       "  <tbody>\n",
       "    <tr>\n",
       "      <th>0</th>\n",
       "      <td>H11920</td>\n",
       "      <td>2013</td>\n",
       "      <td>1.000000</td>\n",
       "      <td>0</td>\n",
       "      <td>V</td>\n",
       "      <td>N</td>\n",
       "      <td>O</td>\n",
       "      <td>R</td>\n",
       "      <td>300.0</td>\n",
       "      <td>1</td>\n",
       "      <td>1960.0</td>\n",
       "      <td>3</td>\n",
       "      <td>3310</td>\n",
       "    </tr>\n",
       "    <tr>\n",
       "      <th>1</th>\n",
       "      <td>H11921</td>\n",
       "      <td>2016</td>\n",
       "      <td>0.997268</td>\n",
       "      <td>0</td>\n",
       "      <td>V</td>\n",
       "      <td>N</td>\n",
       "      <td>O</td>\n",
       "      <td>R</td>\n",
       "      <td>300.0</td>\n",
       "      <td>1</td>\n",
       "      <td>1960.0</td>\n",
       "      <td>3</td>\n",
       "      <td>3310</td>\n",
       "    </tr>\n",
       "    <tr>\n",
       "      <th>2</th>\n",
       "      <td>H9805</td>\n",
       "      <td>2013</td>\n",
       "      <td>0.369863</td>\n",
       "      <td>0</td>\n",
       "      <td>V</td>\n",
       "      <td>V</td>\n",
       "      <td>V</td>\n",
       "      <td>U</td>\n",
       "      <td>790.0</td>\n",
       "      <td>1</td>\n",
       "      <td>1960.0</td>\n",
       "      <td>.</td>\n",
       "      <td>3310</td>\n",
       "    </tr>\n",
       "  </tbody>\n",
       "</table>\n",
       "</div>"
      ],
      "text/plain": [
       "  Customer Id  YearOfObservation  Insured_Period  Residential  \\\n",
       "0      H11920               2013        1.000000            0   \n",
       "1      H11921               2016        0.997268            0   \n",
       "2       H9805               2013        0.369863            0   \n",
       "\n",
       "  Building_Painted Building_Fenced Garden Settlement  Building Dimension  \\\n",
       "0                V               N      O          R               300.0   \n",
       "1                V               N      O          R               300.0   \n",
       "2                V               V      V          U               790.0   \n",
       "\n",
       "   Building_Type  Date_of_Occupancy NumberOfWindows Geo_Code  \n",
       "0              1             1960.0               3     3310  \n",
       "1              1             1960.0               3     3310  \n",
       "2              1             1960.0               .     3310  "
      ]
     },
     "execution_count": 5,
     "metadata": {},
     "output_type": "execute_result"
    }
   ],
   "source": [
    "test.head(3)"
   ]
  },
  {
   "attachments": {},
   "cell_type": "markdown",
   "metadata": {},
   "source": [
    "## EDA"
   ]
  },
  {
   "attachments": {},
   "cell_type": "markdown",
   "metadata": {},
   "source": [
    "Train and test set ratio"
   ]
  },
  {
   "cell_type": "code",
   "execution_count": 13,
   "metadata": {},
   "outputs": [
    {
     "data": {
      "text/plain": [
       "30.00293283800958"
      ]
     },
     "execution_count": 13,
     "metadata": {},
     "output_type": "execute_result"
    }
   ],
   "source": [
    "# proportion de l'ensemble de test par rapport à l'ensemble d'apprentissage \n",
    "test.shape[0] * 100 / (train.shape[0] + test.shape[0])"
   ]
  },
  {
   "attachments": {},
   "cell_type": "markdown",
   "metadata": {},
   "source": [
    "Features description"
   ]
  },
  {
   "cell_type": "code",
   "execution_count": 6,
   "metadata": {},
   "outputs": [
    {
     "name": "stdout",
     "output_type": "stream",
     "text": [
      "<class 'pandas.core.frame.DataFrame'>\n",
      "RangeIndex: 7160 entries, 0 to 7159\n",
      "Data columns (total 14 columns):\n",
      " #   Column              Non-Null Count  Dtype  \n",
      "---  ------              --------------  -----  \n",
      " 0   Customer Id         7160 non-null   object \n",
      " 1   YearOfObservation   7160 non-null   int64  \n",
      " 2   Insured_Period      7160 non-null   float64\n",
      " 3   Residential         7160 non-null   int64  \n",
      " 4   Building_Painted    7160 non-null   object \n",
      " 5   Building_Fenced     7160 non-null   object \n",
      " 6   Garden              7153 non-null   object \n",
      " 7   Settlement          7160 non-null   object \n",
      " 8   Building Dimension  7054 non-null   float64\n",
      " 9   Building_Type       7160 non-null   int64  \n",
      " 10  Date_of_Occupancy   6652 non-null   float64\n",
      " 11  NumberOfWindows     7160 non-null   object \n",
      " 12  Geo_Code            7058 non-null   object \n",
      " 13  Claim               7160 non-null   int64  \n",
      "dtypes: float64(3), int64(4), object(7)\n",
      "memory usage: 783.2+ KB\n"
     ]
    }
   ],
   "source": [
    "train.info()"
   ]
  },
  {
   "cell_type": "code",
   "execution_count": 7,
   "metadata": {},
   "outputs": [
    {
     "name": "stdout",
     "output_type": "stream",
     "text": [
      "<class 'pandas.core.frame.DataFrame'>\n",
      "RangeIndex: 3069 entries, 0 to 3068\n",
      "Data columns (total 13 columns):\n",
      " #   Column              Non-Null Count  Dtype  \n",
      "---  ------              --------------  -----  \n",
      " 0   Customer Id         3069 non-null   object \n",
      " 1   YearOfObservation   3069 non-null   int64  \n",
      " 2   Insured_Period      3069 non-null   float64\n",
      " 3   Residential         3069 non-null   int64  \n",
      " 4   Building_Painted    3069 non-null   object \n",
      " 5   Building_Fenced     3069 non-null   object \n",
      " 6   Garden              3065 non-null   object \n",
      " 7   Settlement          3069 non-null   object \n",
      " 8   Building Dimension  3056 non-null   float64\n",
      " 9   Building_Type       3069 non-null   int64  \n",
      " 10  Date_of_Occupancy   2341 non-null   float64\n",
      " 11  NumberOfWindows     3069 non-null   object \n",
      " 12  Geo_Code            3056 non-null   object \n",
      "dtypes: float64(3), int64(3), object(7)\n",
      "memory usage: 311.8+ KB\n"
     ]
    }
   ],
   "source": [
    "test.info()"
   ]
  },
  {
   "cell_type": "code",
   "execution_count": 19,
   "metadata": {},
   "outputs": [],
   "source": [
    "target = 'Claim'\n",
    "users_id = 'Customer Id'"
   ]
  },
  {
   "cell_type": "code",
   "execution_count": 20,
   "metadata": {},
   "outputs": [
    {
     "name": "stdout",
     "output_type": "stream",
     "text": [
      "Customer Id\n",
      "H14663    1\n",
      "H19182    1\n",
      "H1571     1\n",
      "H15027    1\n",
      "H15026    1\n",
      "         ..\n",
      "H5025     1\n",
      "H19098    1\n",
      "H16571    1\n",
      "H16570    1\n",
      "H7470     1\n",
      "Name: Customer Id, Length: 7160, dtype: int64 \n",
      "\n",
      "YearOfObservation\n",
      "2012    1858\n",
      "2013    1811\n",
      "2014    1373\n",
      "2015    1075\n",
      "2016    1043\n",
      "Name: YearOfObservation, dtype: int64 \n",
      "\n",
      "Insured_Period\n",
      "1.000000    5325\n",
      "0.997268     547\n",
      "0.000000     165\n",
      "0.747945      60\n",
      "0.495890      49\n",
      "            ... \n",
      "0.435616       1\n",
      "0.308743       1\n",
      "0.437158       1\n",
      "0.578082       1\n",
      "0.030137       1\n",
      "Name: Insured_Period, Length: 401, dtype: int64 \n",
      "\n",
      "Residential\n",
      "0    4973\n",
      "1    2187\n",
      "Name: Residential, dtype: int64 \n",
      "\n",
      "Building_Painted\n",
      "V    5382\n",
      "N    1778\n",
      "Name: Building_Painted, dtype: int64 \n",
      "\n",
      "Building_Fenced\n",
      "N    3608\n",
      "V    3552\n",
      "Name: Building_Fenced, dtype: int64 \n",
      "\n",
      "Garden\n",
      "O    3602\n",
      "V    3551\n",
      "Name: Garden, dtype: int64 \n",
      "\n",
      "Settlement\n",
      "R    3610\n",
      "U    3550\n",
      "Name: Settlement, dtype: int64 \n",
      "\n",
      "Building Dimension\n",
      "400.0     150\n",
      "500.0     120\n",
      "300.0     118\n",
      "450.0     117\n",
      "600.0     114\n",
      "         ... \n",
      "1046.0      1\n",
      "763.0       1\n",
      "5464.0      1\n",
      "843.0       1\n",
      "1067.0      1\n",
      "Name: Building Dimension, Length: 2043, dtype: int64 \n",
      "\n",
      "Building_Type\n",
      "2    3305\n",
      "1    1716\n",
      "3    1230\n",
      "4     909\n",
      "Name: Building_Type, dtype: int64 \n",
      "\n",
      "Date_of_Occupancy\n",
      "1960.0    1818\n",
      "1980.0    1155\n",
      "1988.0     530\n",
      "1900.0     371\n",
      "1970.0     285\n",
      "          ... \n",
      "1931.0       1\n",
      "1824.0       1\n",
      "1914.0       1\n",
      "1846.0       1\n",
      "1929.0       1\n",
      "Name: Date_of_Occupancy, Length: 134, dtype: int64 \n",
      "\n",
      "NumberOfWindows\n",
      "   .    3551\n",
      "4        939\n",
      "3        844\n",
      "5        639\n",
      "2        363\n",
      "6        306\n",
      "7        211\n",
      "8        116\n",
      "1         75\n",
      ">=10      67\n",
      "9         49\n",
      "Name: NumberOfWindows, dtype: int64 \n",
      "\n",
      "Geo_Code\n",
      "6088     143\n",
      "33063    137\n",
      "6083     113\n",
      "13206     98\n",
      "31555     87\n",
      "        ... \n",
      "59650      1\n",
      "59656      1\n",
      "60057      1\n",
      "60172      1\n",
      "2B353      1\n",
      "Name: Geo_Code, Length: 1307, dtype: int64 \n",
      "\n",
      "Claim\n",
      "0    5526\n",
      "1    1634\n",
      "Name: Claim, dtype: int64 \n",
      "\n"
     ]
    }
   ],
   "source": [
    "for colonne in list(train.columns):\n",
    "    print(colonne)\n",
    "    print(train[colonne].value_counts(), '\\n')"
   ]
  },
  {
   "attachments": {},
   "cell_type": "markdown",
   "metadata": {},
   "source": [
    "Analyse des variables qualitatives"
   ]
  },
  {
   "cell_type": "code",
   "execution_count": 14,
   "metadata": {},
   "outputs": [
    {
     "data": {
      "text/html": [
       "<div>\n",
       "<style scoped>\n",
       "    .dataframe tbody tr th:only-of-type {\n",
       "        vertical-align: middle;\n",
       "    }\n",
       "\n",
       "    .dataframe tbody tr th {\n",
       "        vertical-align: top;\n",
       "    }\n",
       "\n",
       "    .dataframe thead th {\n",
       "        text-align: right;\n",
       "    }\n",
       "</style>\n",
       "<table border=\"1\" class=\"dataframe\">\n",
       "  <thead>\n",
       "    <tr style=\"text-align: right;\">\n",
       "      <th></th>\n",
       "      <th>Customer Id</th>\n",
       "      <th>Building_Painted</th>\n",
       "      <th>Building_Fenced</th>\n",
       "      <th>Garden</th>\n",
       "      <th>Settlement</th>\n",
       "      <th>NumberOfWindows</th>\n",
       "      <th>Geo_Code</th>\n",
       "    </tr>\n",
       "  </thead>\n",
       "  <tbody>\n",
       "    <tr>\n",
       "      <th>count</th>\n",
       "      <td>7160</td>\n",
       "      <td>7160</td>\n",
       "      <td>7160</td>\n",
       "      <td>7153</td>\n",
       "      <td>7160</td>\n",
       "      <td>7160</td>\n",
       "      <td>7058</td>\n",
       "    </tr>\n",
       "    <tr>\n",
       "      <th>unique</th>\n",
       "      <td>7160</td>\n",
       "      <td>2</td>\n",
       "      <td>2</td>\n",
       "      <td>2</td>\n",
       "      <td>2</td>\n",
       "      <td>11</td>\n",
       "      <td>1307</td>\n",
       "    </tr>\n",
       "    <tr>\n",
       "      <th>top</th>\n",
       "      <td>H14663</td>\n",
       "      <td>V</td>\n",
       "      <td>N</td>\n",
       "      <td>O</td>\n",
       "      <td>R</td>\n",
       "      <td>.</td>\n",
       "      <td>6088</td>\n",
       "    </tr>\n",
       "    <tr>\n",
       "      <th>freq</th>\n",
       "      <td>1</td>\n",
       "      <td>5382</td>\n",
       "      <td>3608</td>\n",
       "      <td>3602</td>\n",
       "      <td>3610</td>\n",
       "      <td>3551</td>\n",
       "      <td>143</td>\n",
       "    </tr>\n",
       "  </tbody>\n",
       "</table>\n",
       "</div>"
      ],
      "text/plain": [
       "       Customer Id Building_Painted Building_Fenced Garden Settlement  \\\n",
       "count         7160             7160            7160   7153       7160   \n",
       "unique        7160                2               2      2          2   \n",
       "top         H14663                V               N      O          R   \n",
       "freq             1             5382            3608   3602       3610   \n",
       "\n",
       "       NumberOfWindows Geo_Code  \n",
       "count             7160     7058  \n",
       "unique              11     1307  \n",
       "top                  .     6088  \n",
       "freq              3551      143  "
      ]
     },
     "execution_count": 14,
     "metadata": {},
     "output_type": "execute_result"
    }
   ],
   "source": [
    "train.select_dtypes(include='object').describe()"
   ]
  },
  {
   "attachments": {},
   "cell_type": "markdown",
   "metadata": {},
   "source": [
    "Analyse des variables quantitatives"
   ]
  },
  {
   "cell_type": "code",
   "execution_count": 40,
   "metadata": {},
   "outputs": [
    {
     "data": {
      "text/html": [
       "<div>\n",
       "<style scoped>\n",
       "    .dataframe tbody tr th:only-of-type {\n",
       "        vertical-align: middle;\n",
       "    }\n",
       "\n",
       "    .dataframe tbody tr th {\n",
       "        vertical-align: top;\n",
       "    }\n",
       "\n",
       "    .dataframe thead th {\n",
       "        text-align: right;\n",
       "    }\n",
       "</style>\n",
       "<table border=\"1\" class=\"dataframe\">\n",
       "  <thead>\n",
       "    <tr style=\"text-align: right;\">\n",
       "      <th></th>\n",
       "      <th>YearOfObservation</th>\n",
       "      <th>Insured_Period</th>\n",
       "      <th>Residential</th>\n",
       "      <th>Building Dimension</th>\n",
       "      <th>Building_Type</th>\n",
       "      <th>Date_of_Occupancy</th>\n",
       "      <th>Claim</th>\n",
       "    </tr>\n",
       "  </thead>\n",
       "  <tbody>\n",
       "    <tr>\n",
       "      <th>count</th>\n",
       "      <td>7160.000000</td>\n",
       "      <td>7160.000000</td>\n",
       "      <td>7160.000000</td>\n",
       "      <td>7054.000000</td>\n",
       "      <td>7160.000000</td>\n",
       "      <td>6652.000000</td>\n",
       "      <td>7160.000000</td>\n",
       "    </tr>\n",
       "    <tr>\n",
       "      <th>mean</th>\n",
       "      <td>2013.669553</td>\n",
       "      <td>0.909758</td>\n",
       "      <td>0.305447</td>\n",
       "      <td>1883.727530</td>\n",
       "      <td>2.186034</td>\n",
       "      <td>1964.456404</td>\n",
       "      <td>0.228212</td>\n",
       "    </tr>\n",
       "    <tr>\n",
       "      <th>std</th>\n",
       "      <td>1.383769</td>\n",
       "      <td>0.239756</td>\n",
       "      <td>0.460629</td>\n",
       "      <td>2278.157745</td>\n",
       "      <td>0.940632</td>\n",
       "      <td>36.002014</td>\n",
       "      <td>0.419709</td>\n",
       "    </tr>\n",
       "    <tr>\n",
       "      <th>min</th>\n",
       "      <td>2012.000000</td>\n",
       "      <td>0.000000</td>\n",
       "      <td>0.000000</td>\n",
       "      <td>1.000000</td>\n",
       "      <td>1.000000</td>\n",
       "      <td>1545.000000</td>\n",
       "      <td>0.000000</td>\n",
       "    </tr>\n",
       "    <tr>\n",
       "      <th>25%</th>\n",
       "      <td>2012.000000</td>\n",
       "      <td>0.997268</td>\n",
       "      <td>0.000000</td>\n",
       "      <td>528.000000</td>\n",
       "      <td>2.000000</td>\n",
       "      <td>1960.000000</td>\n",
       "      <td>0.000000</td>\n",
       "    </tr>\n",
       "    <tr>\n",
       "      <th>50%</th>\n",
       "      <td>2013.000000</td>\n",
       "      <td>1.000000</td>\n",
       "      <td>0.000000</td>\n",
       "      <td>1083.000000</td>\n",
       "      <td>2.000000</td>\n",
       "      <td>1970.000000</td>\n",
       "      <td>0.000000</td>\n",
       "    </tr>\n",
       "    <tr>\n",
       "      <th>75%</th>\n",
       "      <td>2015.000000</td>\n",
       "      <td>1.000000</td>\n",
       "      <td>1.000000</td>\n",
       "      <td>2289.750000</td>\n",
       "      <td>3.000000</td>\n",
       "      <td>1980.000000</td>\n",
       "      <td>0.000000</td>\n",
       "    </tr>\n",
       "    <tr>\n",
       "      <th>max</th>\n",
       "      <td>2016.000000</td>\n",
       "      <td>1.000000</td>\n",
       "      <td>1.000000</td>\n",
       "      <td>20940.000000</td>\n",
       "      <td>4.000000</td>\n",
       "      <td>2016.000000</td>\n",
       "      <td>1.000000</td>\n",
       "    </tr>\n",
       "  </tbody>\n",
       "</table>\n",
       "</div>"
      ],
      "text/plain": [
       "       YearOfObservation  Insured_Period  Residential  Building Dimension  \\\n",
       "count        7160.000000     7160.000000  7160.000000         7054.000000   \n",
       "mean         2013.669553        0.909758     0.305447         1883.727530   \n",
       "std             1.383769        0.239756     0.460629         2278.157745   \n",
       "min          2012.000000        0.000000     0.000000            1.000000   \n",
       "25%          2012.000000        0.997268     0.000000          528.000000   \n",
       "50%          2013.000000        1.000000     0.000000         1083.000000   \n",
       "75%          2015.000000        1.000000     1.000000         2289.750000   \n",
       "max          2016.000000        1.000000     1.000000        20940.000000   \n",
       "\n",
       "       Building_Type  Date_of_Occupancy        Claim  \n",
       "count    7160.000000        6652.000000  7160.000000  \n",
       "mean        2.186034        1964.456404     0.228212  \n",
       "std         0.940632          36.002014     0.419709  \n",
       "min         1.000000        1545.000000     0.000000  \n",
       "25%         2.000000        1960.000000     0.000000  \n",
       "50%         2.000000        1970.000000     0.000000  \n",
       "75%         3.000000        1980.000000     0.000000  \n",
       "max         4.000000        2016.000000     1.000000  "
      ]
     },
     "execution_count": 40,
     "metadata": {},
     "output_type": "execute_result"
    }
   ],
   "source": [
    "train.select_dtypes(include='number').describe()"
   ]
  },
  {
   "attachments": {},
   "cell_type": "markdown",
   "metadata": {},
   "source": [
    "> - La colonne `Customer Id` ne contient que des éléments uniques. Elle ne sera pas utile à notre apprentissage. <br>\n",
    "> - La colonne `NumberOfWindows` contient des chiffres de 1 à 9 et deux valeurs spéciales : un point (.) et une description mathématique (>=10). Ce qui a fait de cette colonne une variable _object_. Pour un apprentissage correct, nous transformerons ces deux valeurs spéciales en chiffres, soit 0 et 10 respectivement. <br>\n",
    "> - La colonne `Geo_Code` a l'air de ne contenir que des nombres mais il s'avère qu'elle est de type _object_."
   ]
  },
  {
   "attachments": {},
   "cell_type": "markdown",
   "metadata": {},
   "source": [
    "Analyse des données manquantes"
   ]
  },
  {
   "cell_type": "code",
   "execution_count": 21,
   "metadata": {},
   "outputs": [
    {
     "data": {
      "text/plain": [
       "Customer Id           0.000000\n",
       "YearOfObservation     0.000000\n",
       "Insured_Period        0.000000\n",
       "Residential           0.000000\n",
       "Building_Painted      0.000000\n",
       "Building_Fenced       0.000000\n",
       "Garden                0.097765\n",
       "Settlement            0.000000\n",
       "Building Dimension    1.480447\n",
       "Building_Type         0.000000\n",
       "Date_of_Occupancy     7.094972\n",
       "NumberOfWindows       0.000000\n",
       "Geo_Code              1.424581\n",
       "Claim                 0.000000\n",
       "dtype: float64"
      ]
     },
     "execution_count": 21,
     "metadata": {},
     "output_type": "execute_result"
    }
   ],
   "source": [
    "train.isnull().sum() / train.shape[0] * 100"
   ]
  },
  {
   "attachments": {},
   "cell_type": "markdown",
   "metadata": {},
   "source": [
    "Analyse et visualisation de la target"
   ]
  },
  {
   "cell_type": "code",
   "execution_count": 21,
   "metadata": {},
   "outputs": [
    {
     "data": {
      "image/png": "[encoded data removed]",
      "text/plain": [
       "<Figure size 500x500 with 1 Axes>"
      ]
     },
     "metadata": {},
     "output_type": "display_data"
    }
   ],
   "source": [
    "# explorons la distribution de la target\n",
    "sns.catplot(data=train, x=target, kind='count')\n",
    "plt.show()"
   ]
  },
  {
   "attachments": {},
   "cell_type": "markdown",
   "metadata": {},
   "source": [
    "### Compréhension des variables"
   ]
  },
  {
   "cell_type": "code",
   "execution_count": 5,
   "metadata": {},
   "outputs": [
    {
     "data": {
      "text/html": [
       "<div>\n",
       "<style scoped>\n",
       "    .dataframe tbody tr th:only-of-type {\n",
       "        vertical-align: middle;\n",
       "    }\n",
       "\n",
       "    .dataframe tbody tr th {\n",
       "        vertical-align: top;\n",
       "    }\n",
       "\n",
       "    .dataframe thead th {\n",
       "        text-align: right;\n",
       "    }\n",
       "</style>\n",
       "<table border=\"1\" class=\"dataframe\">\n",
       "  <thead>\n",
       "    <tr style=\"text-align: right;\">\n",
       "      <th></th>\n",
       "      <th>Variable</th>\n",
       "      <th>Description</th>\n",
       "    </tr>\n",
       "  </thead>\n",
       "  <tbody>\n",
       "    <tr>\n",
       "      <th>0</th>\n",
       "      <td>Customer Id</td>\n",
       "      <td>Identification number for the Policy holder</td>\n",
       "    </tr>\n",
       "    <tr>\n",
       "      <th>1</th>\n",
       "      <td>YearOfObservation</td>\n",
       "      <td>year of observation for the insured policy</td>\n",
       "    </tr>\n",
       "    <tr>\n",
       "      <th>2</th>\n",
       "      <td>Insured_Period</td>\n",
       "      <td>duration of insurance policy in Olusola Insura...</td>\n",
       "    </tr>\n",
       "    <tr>\n",
       "      <th>3</th>\n",
       "      <td>Residential</td>\n",
       "      <td>is the building a residential building or not</td>\n",
       "    </tr>\n",
       "    <tr>\n",
       "      <th>4</th>\n",
       "      <td>Building_Painted</td>\n",
       "      <td>is the building painted or not (N-Painted, V-N...</td>\n",
       "    </tr>\n",
       "    <tr>\n",
       "      <th>5</th>\n",
       "      <td>Building_Fenced</td>\n",
       "      <td>is the building fence or not (N-Fenced, V-Not ...</td>\n",
       "    </tr>\n",
       "    <tr>\n",
       "      <th>6</th>\n",
       "      <td>Garden</td>\n",
       "      <td>building has garden or not (V-has garden; O-no...</td>\n",
       "    </tr>\n",
       "    <tr>\n",
       "      <th>7</th>\n",
       "      <td>Settlement</td>\n",
       "      <td>Area where the building is located. (R- rural ...</td>\n",
       "    </tr>\n",
       "    <tr>\n",
       "      <th>8</th>\n",
       "      <td>Building Dimension</td>\n",
       "      <td>Size of the insured building in m2</td>\n",
       "    </tr>\n",
       "    <tr>\n",
       "      <th>9</th>\n",
       "      <td>Building_Type</td>\n",
       "      <td>The type of building (Type 1, 2, 3, 4)</td>\n",
       "    </tr>\n",
       "    <tr>\n",
       "      <th>10</th>\n",
       "      <td>Date_of_Occupancy</td>\n",
       "      <td>date building was first occupied</td>\n",
       "    </tr>\n",
       "    <tr>\n",
       "      <th>11</th>\n",
       "      <td>NumberOfWindows</td>\n",
       "      <td>number of windows in the building</td>\n",
       "    </tr>\n",
       "    <tr>\n",
       "      <th>12</th>\n",
       "      <td>Geo Code</td>\n",
       "      <td>Geographical Code of the Insured building</td>\n",
       "    </tr>\n",
       "    <tr>\n",
       "      <th>13</th>\n",
       "      <td>Claim</td>\n",
       "      <td>target variable. (0: no claim, 1: at least one...</td>\n",
       "    </tr>\n",
       "  </tbody>\n",
       "</table>\n",
       "</div>"
      ],
      "text/plain": [
       "              Variable                                        Description\n",
       "0          Customer Id        Identification number for the Policy holder\n",
       "1    YearOfObservation         year of observation for the insured policy\n",
       "2       Insured_Period  duration of insurance policy in Olusola Insura...\n",
       "3          Residential      is the building a residential building or not\n",
       "4     Building_Painted  is the building painted or not (N-Painted, V-N...\n",
       "5      Building_Fenced  is the building fence or not (N-Fenced, V-Not ...\n",
       "6               Garden  building has garden or not (V-has garden; O-no...\n",
       "7           Settlement  Area where the building is located. (R- rural ...\n",
       "8   Building Dimension                 Size of the insured building in m2\n",
       "9        Building_Type             The type of building (Type 1, 2, 3, 4)\n",
       "10   Date_of_Occupancy                   date building was first occupied\n",
       "11     NumberOfWindows                  number of windows in the building\n",
       "12            Geo Code          Geographical Code of the Insured building\n",
       "13               Claim  target variable. (0: no claim, 1: at least one..."
      ]
     },
     "execution_count": 5,
     "metadata": {},
     "output_type": "execute_result"
    }
   ],
   "source": [
    "variable_description"
   ]
  },
  {
   "attachments": {},
   "cell_type": "markdown",
   "metadata": {},
   "source": [
    "Matrice de corrélation entre les variables"
   ]
  },
  {
   "cell_type": "code",
   "execution_count": 15,
   "metadata": {},
   "outputs": [
    {
     "data": {
      "text/plain": [
       "<Axes: title={'center': 'Corrélation des features'}>"
      ]
     },
     "execution_count": 15,
     "metadata": {},
     "output_type": "execute_result"
    },
    {
     "data": {
      "image/png": "[encoded data removed]",
      "text/plain": [
       "<Figure size 640x480 with 2 Axes>"
      ]
     },
     "metadata": {},
     "output_type": "display_data"
    }
   ],
   "source": [
    "plt.title('Corrélation des features')\n",
    "sns.heatmap(train.corr(numeric_only=True), linewidths=0.05, annot=True)"
   ]
  },
  {
   "attachments": {},
   "cell_type": "markdown",
   "metadata": {},
   "source": [
    "> 00 corrélation entre les variables du dataset"
   ]
  },
  {
   "attachments": {},
   "cell_type": "markdown",
   "metadata": {},
   "source": [
    "## Preprocessing"
   ]
  },
  {
   "cell_type": "code",
   "execution_count": 46,
   "metadata": {},
   "outputs": [],
   "source": [
    "def preprocessing_data_1(data: pd.DataFrame, scaler) -> pd.DataFrame:\n",
    "    ''' arrange un dataset\n",
    "    '''\n",
    "    # copie du dataset\n",
    "    data1 = data.copy()\n",
    "    # arrangement de la colonne du nombre de fenêtres\n",
    "    data1['NumberOfWindows'] = data1['NumberOfWindows'].map(\n",
    "        {'   .': 0, '>=10': 10}).fillna(data1['NumberOfWindows'])\n",
    "    data1['NumberOfWindows'] = data1['NumberOfWindows'].astype(int)\n",
    "    # suppression de la variable d'identifiants uniques\n",
    "    data1.drop(users_id, axis=1, inplace=True)\n",
    "    # la liste des colonnes discrètes\n",
    "    object_columns = list(data1.select_dtypes(include='object').columns)\n",
    "    # encodage des variables discrètes\n",
    "    encoder = OrdinalEncoder()\n",
    "    data1[object_columns] = encoder.fit_transform(data1[object_columns])\n",
    "    # normalisation\n",
    "    data1[data1.columns] = scaler.fit_transform(data1)\n",
    "    return data1\n",
    "\n",
    "\n",
    "def preprocessing_data_2(data: pd.DataFrame, scaler) -> pd.DataFrame:\n",
    "    ''' Réalise la phase de pré-traitement d'un dataset à savoir l'encodage \n",
    "    des variables discrètes et la normalisation de toutes les variables \n",
    "    '''\n",
    "    return data\n"
   ]
  },
  {
   "attachments": {},
   "cell_type": "markdown",
   "metadata": {},
   "source": [
    "Instantiating the scalers"
   ]
  },
  {
   "cell_type": "code",
   "execution_count": 47,
   "metadata": {},
   "outputs": [],
   "source": [
    "# Instantiating the scalers\n",
    "MMS = MinMaxScaler()\n",
    "MAS = MaxAbsScaler()\n",
    "SS = StandardScaler()\n",
    "RS = RobustScaler()"
   ]
  },
  {
   "cell_type": "code",
   "execution_count": 49,
   "metadata": {},
   "outputs": [
    {
     "data": {
      "text/html": [
       "<div>\n",
       "<style scoped>\n",
       "    .dataframe tbody tr th:only-of-type {\n",
       "        vertical-align: middle;\n",
       "    }\n",
       "\n",
       "    .dataframe tbody tr th {\n",
       "        vertical-align: top;\n",
       "    }\n",
       "\n",
       "    .dataframe thead th {\n",
       "        text-align: right;\n",
       "    }\n",
       "</style>\n",
       "<table border=\"1\" class=\"dataframe\">\n",
       "  <thead>\n",
       "    <tr style=\"text-align: right;\">\n",
       "      <th></th>\n",
       "      <th>YearOfObservation</th>\n",
       "      <th>Insured_Period</th>\n",
       "      <th>Residential</th>\n",
       "      <th>Building_Painted</th>\n",
       "      <th>Building_Fenced</th>\n",
       "      <th>Garden</th>\n",
       "      <th>Settlement</th>\n",
       "      <th>Building Dimension</th>\n",
       "      <th>Building_Type</th>\n",
       "      <th>Date_of_Occupancy</th>\n",
       "      <th>NumberOfWindows</th>\n",
       "      <th>Geo_Code</th>\n",
       "      <th>Claim</th>\n",
       "    </tr>\n",
       "  </thead>\n",
       "  <tbody>\n",
       "    <tr>\n",
       "      <th>0</th>\n",
       "      <td>0.25</td>\n",
       "      <td>1.0</td>\n",
       "      <td>0.0</td>\n",
       "      <td>0.0</td>\n",
       "      <td>1.0</td>\n",
       "      <td>1.0</td>\n",
       "      <td>1.0</td>\n",
       "      <td>0.013802</td>\n",
       "      <td>0.0</td>\n",
       "      <td>0.881104</td>\n",
       "      <td>0.0</td>\n",
       "      <td>0.00536</td>\n",
       "      <td>0.0</td>\n",
       "    </tr>\n",
       "    <tr>\n",
       "      <th>1</th>\n",
       "      <td>0.75</td>\n",
       "      <td>1.0</td>\n",
       "      <td>0.0</td>\n",
       "      <td>1.0</td>\n",
       "      <td>0.0</td>\n",
       "      <td>0.0</td>\n",
       "      <td>0.0</td>\n",
       "      <td>0.023354</td>\n",
       "      <td>0.0</td>\n",
       "      <td>0.647558</td>\n",
       "      <td>0.4</td>\n",
       "      <td>0.00536</td>\n",
       "      <td>0.0</td>\n",
       "    </tr>\n",
       "    <tr>\n",
       "      <th>2</th>\n",
       "      <td>0.50</td>\n",
       "      <td>1.0</td>\n",
       "      <td>0.0</td>\n",
       "      <td>0.0</td>\n",
       "      <td>1.0</td>\n",
       "      <td>1.0</td>\n",
       "      <td>1.0</td>\n",
       "      <td>0.028368</td>\n",
       "      <td>0.0</td>\n",
       "      <td>0.881104</td>\n",
       "      <td>0.0</td>\n",
       "      <td>0.00536</td>\n",
       "      <td>0.0</td>\n",
       "    </tr>\n",
       "  </tbody>\n",
       "</table>\n",
       "</div>"
      ],
      "text/plain": [
       "   YearOfObservation  Insured_Period  Residential  Building_Painted  \\\n",
       "0               0.25             1.0          0.0               0.0   \n",
       "1               0.75             1.0          0.0               1.0   \n",
       "2               0.50             1.0          0.0               0.0   \n",
       "\n",
       "   Building_Fenced  Garden  Settlement  Building Dimension  Building_Type  \\\n",
       "0              1.0     1.0         1.0            0.013802            0.0   \n",
       "1              0.0     0.0         0.0            0.023354            0.0   \n",
       "2              1.0     1.0         1.0            0.028368            0.0   \n",
       "\n",
       "   Date_of_Occupancy  NumberOfWindows  Geo_Code  Claim  \n",
       "0           0.881104              0.0   0.00536    0.0  \n",
       "1           0.647558              0.4   0.00536    0.0  \n",
       "2           0.881104              0.0   0.00536    0.0  "
      ]
     },
     "execution_count": 49,
     "metadata": {},
     "output_type": "execute_result"
    }
   ],
   "source": [
    "scaler = MMS\n",
    "train_pp = preprocessing_data_1(train, scaler)\n",
    "test_pp = preprocessing_data_1(test, scaler)\n",
    "train_pp.head(3)"
   ]
  },
  {
   "attachments": {},
   "cell_type": "markdown",
   "metadata": {},
   "source": [
    "## Modelling"
   ]
  },
  {
   "attachments": {},
   "cell_type": "markdown",
   "metadata": {},
   "source": [
    "### Splitting"
   ]
  },
  {
   "cell_type": "code",
   "execution_count": 50,
   "metadata": {},
   "outputs": [
    {
     "data": {
      "text/html": [
       "<div>\n",
       "<style scoped>\n",
       "    .dataframe tbody tr th:only-of-type {\n",
       "        vertical-align: middle;\n",
       "    }\n",
       "\n",
       "    .dataframe tbody tr th {\n",
       "        vertical-align: top;\n",
       "    }\n",
       "\n",
       "    .dataframe thead th {\n",
       "        text-align: right;\n",
       "    }\n",
       "</style>\n",
       "<table border=\"1\" class=\"dataframe\">\n",
       "  <thead>\n",
       "    <tr style=\"text-align: right;\">\n",
       "      <th></th>\n",
       "      <th>YearOfObservation</th>\n",
       "      <th>Insured_Period</th>\n",
       "      <th>Residential</th>\n",
       "      <th>Building_Painted</th>\n",
       "      <th>Building_Fenced</th>\n",
       "      <th>Garden</th>\n",
       "      <th>Settlement</th>\n",
       "      <th>Building Dimension</th>\n",
       "      <th>Building_Type</th>\n",
       "      <th>Date_of_Occupancy</th>\n",
       "      <th>NumberOfWindows</th>\n",
       "      <th>Geo_Code</th>\n",
       "    </tr>\n",
       "  </thead>\n",
       "  <tbody>\n",
       "    <tr>\n",
       "      <th>0</th>\n",
       "      <td>0.25</td>\n",
       "      <td>1.0</td>\n",
       "      <td>0.0</td>\n",
       "      <td>0.0</td>\n",
       "      <td>1.0</td>\n",
       "      <td>1.0</td>\n",
       "      <td>1.0</td>\n",
       "      <td>0.013802</td>\n",
       "      <td>0.0</td>\n",
       "      <td>0.881104</td>\n",
       "      <td>0.0</td>\n",
       "      <td>0.00536</td>\n",
       "    </tr>\n",
       "    <tr>\n",
       "      <th>1</th>\n",
       "      <td>0.75</td>\n",
       "      <td>1.0</td>\n",
       "      <td>0.0</td>\n",
       "      <td>1.0</td>\n",
       "      <td>0.0</td>\n",
       "      <td>0.0</td>\n",
       "      <td>0.0</td>\n",
       "      <td>0.023354</td>\n",
       "      <td>0.0</td>\n",
       "      <td>0.647558</td>\n",
       "      <td>0.4</td>\n",
       "      <td>0.00536</td>\n",
       "    </tr>\n",
       "    <tr>\n",
       "      <th>2</th>\n",
       "      <td>0.50</td>\n",
       "      <td>1.0</td>\n",
       "      <td>0.0</td>\n",
       "      <td>0.0</td>\n",
       "      <td>1.0</td>\n",
       "      <td>1.0</td>\n",
       "      <td>1.0</td>\n",
       "      <td>0.028368</td>\n",
       "      <td>0.0</td>\n",
       "      <td>0.881104</td>\n",
       "      <td>0.0</td>\n",
       "      <td>0.00536</td>\n",
       "    </tr>\n",
       "    <tr>\n",
       "      <th>3</th>\n",
       "      <td>0.25</td>\n",
       "      <td>1.0</td>\n",
       "      <td>0.0</td>\n",
       "      <td>1.0</td>\n",
       "      <td>1.0</td>\n",
       "      <td>1.0</td>\n",
       "      <td>1.0</td>\n",
       "      <td>0.135584</td>\n",
       "      <td>0.0</td>\n",
       "      <td>0.881104</td>\n",
       "      <td>0.0</td>\n",
       "      <td>0.00536</td>\n",
       "    </tr>\n",
       "    <tr>\n",
       "      <th>4</th>\n",
       "      <td>0.50</td>\n",
       "      <td>1.0</td>\n",
       "      <td>0.0</td>\n",
       "      <td>1.0</td>\n",
       "      <td>0.0</td>\n",
       "      <td>0.0</td>\n",
       "      <td>0.0</td>\n",
       "      <td>0.032428</td>\n",
       "      <td>0.0</td>\n",
       "      <td>0.541401</td>\n",
       "      <td>0.3</td>\n",
       "      <td>0.00536</td>\n",
       "    </tr>\n",
       "  </tbody>\n",
       "</table>\n",
       "</div>"
      ],
      "text/plain": [
       "   YearOfObservation  Insured_Period  Residential  Building_Painted  \\\n",
       "0               0.25             1.0          0.0               0.0   \n",
       "1               0.75             1.0          0.0               1.0   \n",
       "2               0.50             1.0          0.0               0.0   \n",
       "3               0.25             1.0          0.0               1.0   \n",
       "4               0.50             1.0          0.0               1.0   \n",
       "\n",
       "   Building_Fenced  Garden  Settlement  Building Dimension  Building_Type  \\\n",
       "0              1.0     1.0         1.0            0.013802            0.0   \n",
       "1              0.0     0.0         0.0            0.023354            0.0   \n",
       "2              1.0     1.0         1.0            0.028368            0.0   \n",
       "3              1.0     1.0         1.0            0.135584            0.0   \n",
       "4              0.0     0.0         0.0            0.032428            0.0   \n",
       "\n",
       "   Date_of_Occupancy  NumberOfWindows  Geo_Code  \n",
       "0           0.881104              0.0   0.00536  \n",
       "1           0.647558              0.4   0.00536  \n",
       "2           0.881104              0.0   0.00536  \n",
       "3           0.881104              0.0   0.00536  \n",
       "4           0.541401              0.3   0.00536  "
      ]
     },
     "execution_count": 50,
     "metadata": {},
     "output_type": "execute_result"
    }
   ],
   "source": [
    "X_train_pp = train_pp.drop([target], axis=1)\n",
    "y_train_pp = train_pp[target]\n",
    "X_train_pp.head()"
   ]
  },
  {
   "cell_type": "code",
   "execution_count": 51,
   "metadata": {},
   "outputs": [],
   "source": [
    "X_Train, X_Val, y_Train, y_Val = train_test_split(X_train_pp, y_train_pp, test_size = 0.1, random_state=SEED)"
   ]
  },
  {
   "attachments": {},
   "cell_type": "markdown",
   "metadata": {},
   "source": [
    "### Entrainement du modèle avec CatBoost"
   ]
  },
  {
   "cell_type": "code",
   "execution_count": 52,
   "metadata": {},
   "outputs": [],
   "source": [
    "params = {\n",
    "    'n_estimators': 3000,\n",
    "    'learning_rate': 0.1,\n",
    "    'objective': 'Logloss',\n",
    "    'rsm': 0.7,\n",
    "    'random_seed': SEED,\n",
    "    'early_stopping_rounds': 200,\n",
    "    'use_best_model': True,\n",
    "}"
   ]
  },
  {
   "cell_type": "code",
   "execution_count": 53,
   "metadata": {},
   "outputs": [
    {
     "name": "stdout",
     "output_type": "stream",
     "text": [
      "0:\tlearn: 0.6525171\ttest: 0.6499065\tbest: 0.6499065 (0)\ttotal: 209ms\tremaining: 10m 27s\n",
      "50:\tlearn: 0.4572586\ttest: 0.4485607\tbest: 0.4485607 (50)\ttotal: 875ms\tremaining: 50.6s\n",
      "100:\tlearn: 0.4349066\ttest: 0.4501763\tbest: 0.4474635 (70)\ttotal: 1.36s\tremaining: 39.1s\n",
      "150:\tlearn: 0.4113206\ttest: 0.4551351\tbest: 0.4474635 (70)\ttotal: 1.74s\tremaining: 32.9s\n",
      "200:\tlearn: 0.3900822\ttest: 0.4580301\tbest: 0.4474635 (70)\ttotal: 2.3s\tremaining: 32s\n",
      "250:\tlearn: 0.3740065\ttest: 0.4611796\tbest: 0.4474635 (70)\ttotal: 2.68s\tremaining: 29.3s\n",
      "Stopped by overfitting detector  (200 iterations wait)\n",
      "\n",
      "bestTest = 0.4474635189\n",
      "bestIteration = 70\n",
      "\n",
      "Shrink model to first 71 iterations.\n",
      "Taux d'erreur du <catboost.core.CatBoostClassifier object at 0x000001D0784A14B0> : 0.19692737430167595\n"
     ]
    }
   ],
   "source": [
    "model_cb = CatBoostClassifier(**params)\n",
    "model_cb.fit(X_Train, y_Train, eval_set=[(X_Val, y_Val)], verbose=50)\n",
    "\n",
    "y_model_cb = model_cb.predict(X_Val)\n",
    "metrique = 1 - accuracy_score(y_Val, y_model_cb)\n",
    "print(f\"Taux d'erreur du {str(model_cb)} : {metrique}\")"
   ]
  },
  {
   "attachments": {},
   "cell_type": "markdown",
   "metadata": {},
   "source": [
    "Algorithme de recherche du meilleur SEED"
   ]
  },
  {
   "cell_type": "code",
   "execution_count": null,
   "metadata": {},
   "outputs": [],
   "source": [
    "def best_seed_search(model):\n",
    "\t''' recherche le meilleur seed\n",
    "\t'''\n",
    "\tscores_models = []\n",
    "\tfor i in range(51):\n",
    "\t\tX_Train, X_Val, y_Train, y_Val = train_test_split(X_train_pp, y_train_pp, stratify = y_train_pp, test_size = 0.1, random_state=i)\n",
    "\t\tmodel.fit(X_Train, y_Train)\n",
    "\t\ty_model = model.predict(X_Val)\n",
    "\t\tmetrique = 1 - accuracy_score(y_Val, y_model)\n",
    "\t\tscores_models.append(metrique)\n",
    "\t\tprint(i, ' - ', metrique)\n",
    "\n",
    "best_seed_search(model)"
   ]
  },
  {
   "attachments": {},
   "cell_type": "markdown",
   "metadata": {},
   "source": [
    "Nouveau seed après recherche du meilleur"
   ]
  },
  {
   "cell_type": "code",
   "execution_count": null,
   "metadata": {},
   "outputs": [],
   "source": [
    "# Set seed for reproducability\n",
    "SEED = 12\n",
    "random.seed(SEED)\n",
    "np.random.seed(SEED)"
   ]
  },
  {
   "attachments": {},
   "cell_type": "markdown",
   "metadata": {},
   "source": [
    "Matrice de confusion"
   ]
  },
  {
   "cell_type": "code",
   "execution_count": 54,
   "metadata": {},
   "outputs": [
    {
     "data": {
      "image/png": "[encoded data removed]",
      "text/plain": [
       "<Figure size 640x480 with 2 Axes>"
      ]
     },
     "metadata": {},
     "output_type": "display_data"
    }
   ],
   "source": [
    "# traçons la matrice de confusion pour le modèle\n",
    "ConfusionMatrixDisplay.from_estimator(model_cb, X_Val, y_Val, normalize='true')\n",
    "plt.show()"
   ]
  },
  {
   "attachments": {},
   "cell_type": "markdown",
   "metadata": {},
   "source": [
    "## Prediction"
   ]
  },
  {
   "cell_type": "code",
   "execution_count": 55,
   "metadata": {},
   "outputs": [],
   "source": [
    "model = model_cb"
   ]
  },
  {
   "cell_type": "code",
   "execution_count": 56,
   "metadata": {},
   "outputs": [
    {
     "data": {
      "text/html": [
       "<div>\n",
       "<style scoped>\n",
       "    .dataframe tbody tr th:only-of-type {\n",
       "        vertical-align: middle;\n",
       "    }\n",
       "\n",
       "    .dataframe tbody tr th {\n",
       "        vertical-align: top;\n",
       "    }\n",
       "\n",
       "    .dataframe thead th {\n",
       "        text-align: right;\n",
       "    }\n",
       "</style>\n",
       "<table border=\"1\" class=\"dataframe\">\n",
       "  <thead>\n",
       "    <tr style=\"text-align: right;\">\n",
       "      <th></th>\n",
       "      <th>Customer Id</th>\n",
       "      <th>YearOfObservation</th>\n",
       "      <th>Insured_Period</th>\n",
       "      <th>Residential</th>\n",
       "      <th>Building_Painted</th>\n",
       "      <th>Building_Fenced</th>\n",
       "      <th>Garden</th>\n",
       "      <th>Settlement</th>\n",
       "      <th>Building Dimension</th>\n",
       "      <th>Building_Type</th>\n",
       "      <th>Date_of_Occupancy</th>\n",
       "      <th>NumberOfWindows</th>\n",
       "      <th>Geo_Code</th>\n",
       "      <th>Claim</th>\n",
       "    </tr>\n",
       "  </thead>\n",
       "  <tbody>\n",
       "    <tr>\n",
       "      <th>0</th>\n",
       "      <td>H11920</td>\n",
       "      <td>2013</td>\n",
       "      <td>1.000000</td>\n",
       "      <td>0</td>\n",
       "      <td>V</td>\n",
       "      <td>N</td>\n",
       "      <td>O</td>\n",
       "      <td>R</td>\n",
       "      <td>300.0</td>\n",
       "      <td>1</td>\n",
       "      <td>1960.0</td>\n",
       "      <td>3</td>\n",
       "      <td>3310</td>\n",
       "      <td>0.0</td>\n",
       "    </tr>\n",
       "    <tr>\n",
       "      <th>1</th>\n",
       "      <td>H11921</td>\n",
       "      <td>2016</td>\n",
       "      <td>0.997268</td>\n",
       "      <td>0</td>\n",
       "      <td>V</td>\n",
       "      <td>N</td>\n",
       "      <td>O</td>\n",
       "      <td>R</td>\n",
       "      <td>300.0</td>\n",
       "      <td>1</td>\n",
       "      <td>1960.0</td>\n",
       "      <td>3</td>\n",
       "      <td>3310</td>\n",
       "      <td>0.0</td>\n",
       "    </tr>\n",
       "    <tr>\n",
       "      <th>2</th>\n",
       "      <td>H9805</td>\n",
       "      <td>2013</td>\n",
       "      <td>0.369863</td>\n",
       "      <td>0</td>\n",
       "      <td>V</td>\n",
       "      <td>V</td>\n",
       "      <td>V</td>\n",
       "      <td>U</td>\n",
       "      <td>790.0</td>\n",
       "      <td>1</td>\n",
       "      <td>1960.0</td>\n",
       "      <td>.</td>\n",
       "      <td>3310</td>\n",
       "      <td>0.0</td>\n",
       "    </tr>\n",
       "    <tr>\n",
       "      <th>3</th>\n",
       "      <td>H7493</td>\n",
       "      <td>2014</td>\n",
       "      <td>1.000000</td>\n",
       "      <td>0</td>\n",
       "      <td>V</td>\n",
       "      <td>N</td>\n",
       "      <td>O</td>\n",
       "      <td>R</td>\n",
       "      <td>1405.0</td>\n",
       "      <td>1</td>\n",
       "      <td>2004.0</td>\n",
       "      <td>3</td>\n",
       "      <td>3321</td>\n",
       "      <td>0.0</td>\n",
       "    </tr>\n",
       "    <tr>\n",
       "      <th>4</th>\n",
       "      <td>H7494</td>\n",
       "      <td>2016</td>\n",
       "      <td>1.000000</td>\n",
       "      <td>0</td>\n",
       "      <td>V</td>\n",
       "      <td>N</td>\n",
       "      <td>O</td>\n",
       "      <td>R</td>\n",
       "      <td>1405.0</td>\n",
       "      <td>1</td>\n",
       "      <td>2004.0</td>\n",
       "      <td>3</td>\n",
       "      <td>3321</td>\n",
       "      <td>0.0</td>\n",
       "    </tr>\n",
       "  </tbody>\n",
       "</table>\n",
       "</div>"
      ],
      "text/plain": [
       "  Customer Id  YearOfObservation  Insured_Period  Residential  \\\n",
       "0      H11920               2013        1.000000            0   \n",
       "1      H11921               2016        0.997268            0   \n",
       "2       H9805               2013        0.369863            0   \n",
       "3       H7493               2014        1.000000            0   \n",
       "4       H7494               2016        1.000000            0   \n",
       "\n",
       "  Building_Painted Building_Fenced Garden Settlement  Building Dimension  \\\n",
       "0                V               N      O          R               300.0   \n",
       "1                V               N      O          R               300.0   \n",
       "2                V               V      V          U               790.0   \n",
       "3                V               N      O          R              1405.0   \n",
       "4                V               N      O          R              1405.0   \n",
       "\n",
       "   Building_Type  Date_of_Occupancy NumberOfWindows Geo_Code  Claim  \n",
       "0              1             1960.0               3     3310    0.0  \n",
       "1              1             1960.0               3     3310    0.0  \n",
       "2              1             1960.0               .     3310    0.0  \n",
       "3              1             2004.0               3     3321    0.0  \n",
       "4              1             2004.0               3     3321    0.0  "
      ]
     },
     "execution_count": 56,
     "metadata": {},
     "output_type": "execute_result"
    }
   ],
   "source": [
    "test[target] = model.predict(test_pp)\n",
    "test.head(5)"
   ]
  },
  {
   "attachments": {},
   "cell_type": "markdown",
   "metadata": {},
   "source": [
    "## Submission"
   ]
  },
  {
   "attachments": {},
   "cell_type": "markdown",
   "metadata": {},
   "source": [
    "Visualisation du fichier d'exemple de soumission"
   ]
  },
  {
   "cell_type": "code",
   "execution_count": 31,
   "metadata": {},
   "outputs": [
    {
     "data": {
      "text/html": [
       "<div>\n",
       "<style scoped>\n",
       "    .dataframe tbody tr th:only-of-type {\n",
       "        vertical-align: middle;\n",
       "    }\n",
       "\n",
       "    .dataframe tbody tr th {\n",
       "        vertical-align: top;\n",
       "    }\n",
       "\n",
       "    .dataframe thead th {\n",
       "        text-align: right;\n",
       "    }\n",
       "</style>\n",
       "<table border=\"1\" class=\"dataframe\">\n",
       "  <thead>\n",
       "    <tr style=\"text-align: right;\">\n",
       "      <th></th>\n",
       "      <th>Customer Id</th>\n",
       "      <th>Claim</th>\n",
       "    </tr>\n",
       "  </thead>\n",
       "  <tbody>\n",
       "    <tr>\n",
       "      <th>0</th>\n",
       "      <td>H0</td>\n",
       "      <td>1</td>\n",
       "    </tr>\n",
       "    <tr>\n",
       "      <th>1</th>\n",
       "      <td>H10000</td>\n",
       "      <td>1</td>\n",
       "    </tr>\n",
       "    <tr>\n",
       "      <th>2</th>\n",
       "      <td>H10001</td>\n",
       "      <td>1</td>\n",
       "    </tr>\n",
       "    <tr>\n",
       "      <th>3</th>\n",
       "      <td>H10002</td>\n",
       "      <td>1</td>\n",
       "    </tr>\n",
       "    <tr>\n",
       "      <th>4</th>\n",
       "      <td>H10003</td>\n",
       "      <td>1</td>\n",
       "    </tr>\n",
       "  </tbody>\n",
       "</table>\n",
       "</div>"
      ],
      "text/plain": [
       "  Customer Id  Claim\n",
       "0          H0      1\n",
       "1      H10000      1\n",
       "2      H10001      1\n",
       "3      H10002      1\n",
       "4      H10003      1"
      ]
     },
     "execution_count": 31,
     "metadata": {},
     "output_type": "execute_result"
    }
   ],
   "source": [
    "sample_submission.head()"
   ]
  },
  {
   "attachments": {},
   "cell_type": "markdown",
   "metadata": {},
   "source": [
    "Création de notre fichier de soumission"
   ]
  },
  {
   "cell_type": "code",
   "execution_count": 58,
   "metadata": {},
   "outputs": [],
   "source": [
    "submissions = pd.DataFrame({users_id: test[users_id], target: test[target].astype(int)})\n",
    "today = dt.now().strftime(format=\"%Y-%m-%d_%Hh%M\")\n",
    "submissions.to_csv(f'submissions/submission_{today}.csv', index=False)"
   ]
  },
  {
   "cell_type": "code",
   "execution_count": 59,
   "metadata": {},
   "outputs": [
    {
     "data": {
      "text/html": [
       "<div>\n",
       "<style scoped>\n",
       "    .dataframe tbody tr th:only-of-type {\n",
       "        vertical-align: middle;\n",
       "    }\n",
       "\n",
       "    .dataframe tbody tr th {\n",
       "        vertical-align: top;\n",
       "    }\n",
       "\n",
       "    .dataframe thead th {\n",
       "        text-align: right;\n",
       "    }\n",
       "</style>\n",
       "<table border=\"1\" class=\"dataframe\">\n",
       "  <thead>\n",
       "    <tr style=\"text-align: right;\">\n",
       "      <th></th>\n",
       "      <th>Customer Id</th>\n",
       "      <th>Claim</th>\n",
       "    </tr>\n",
       "  </thead>\n",
       "  <tbody>\n",
       "    <tr>\n",
       "      <th>0</th>\n",
       "      <td>H11920</td>\n",
       "      <td>0</td>\n",
       "    </tr>\n",
       "    <tr>\n",
       "      <th>1</th>\n",
       "      <td>H11921</td>\n",
       "      <td>0</td>\n",
       "    </tr>\n",
       "    <tr>\n",
       "      <th>2</th>\n",
       "      <td>H9805</td>\n",
       "      <td>0</td>\n",
       "    </tr>\n",
       "    <tr>\n",
       "      <th>3</th>\n",
       "      <td>H7493</td>\n",
       "      <td>0</td>\n",
       "    </tr>\n",
       "    <tr>\n",
       "      <th>4</th>\n",
       "      <td>H7494</td>\n",
       "      <td>0</td>\n",
       "    </tr>\n",
       "    <tr>\n",
       "      <th>...</th>\n",
       "      <td>...</td>\n",
       "      <td>...</td>\n",
       "    </tr>\n",
       "    <tr>\n",
       "      <th>3064</th>\n",
       "      <td>H11583</td>\n",
       "      <td>0</td>\n",
       "    </tr>\n",
       "    <tr>\n",
       "      <th>3065</th>\n",
       "      <td>H11720</td>\n",
       "      <td>0</td>\n",
       "    </tr>\n",
       "    <tr>\n",
       "      <th>3066</th>\n",
       "      <td>H11721</td>\n",
       "      <td>0</td>\n",
       "    </tr>\n",
       "    <tr>\n",
       "      <th>3067</th>\n",
       "      <td>H12408</td>\n",
       "      <td>0</td>\n",
       "    </tr>\n",
       "    <tr>\n",
       "      <th>3068</th>\n",
       "      <td>H9021</td>\n",
       "      <td>0</td>\n",
       "    </tr>\n",
       "  </tbody>\n",
       "</table>\n",
       "<p>3069 rows × 2 columns</p>\n",
       "</div>"
      ],
      "text/plain": [
       "     Customer Id  Claim\n",
       "0         H11920      0\n",
       "1         H11921      0\n",
       "2          H9805      0\n",
       "3          H7493      0\n",
       "4          H7494      0\n",
       "...          ...    ...\n",
       "3064      H11583      0\n",
       "3065      H11720      0\n",
       "3066      H11721      0\n",
       "3067      H12408      0\n",
       "3068       H9021      0\n",
       "\n",
       "[3069 rows x 2 columns]"
      ]
     },
     "execution_count": 59,
     "metadata": {},
     "output_type": "execute_result"
    }
   ],
   "source": [
    "submissions"
   ]
  },
  {
   "attachments": {},
   "cell_type": "markdown",
   "metadata": {},
   "source": [
    "## Model saving"
   ]
  },
  {
   "cell_type": "code",
   "execution_count": 61,
   "metadata": {},
   "outputs": [
    {
     "data": {
      "text/plain": [
       "['models/basique_0.553050188.pkl']"
      ]
     },
     "execution_count": 61,
     "metadata": {},
     "output_type": "execute_result"
    }
   ],
   "source": [
    "# Save the model as a pickle in a file\n",
    "file_name = 'basique_0.553050188'\n",
    "joblib.dump(model, f'models/{file_name}.pkl')"
   ]
  }
 ],
 "metadata": {
  "kernelspec": {
   "display_name": "Python 3",
   "language": "python",
   "name": "python3"
  },
  "language_info": {
   "codemirror_mode": {
    "name": "ipython",
    "version": 3
   },
   "file_extension": ".py",
   "mimetype": "text/x-python",
   "name": "python",
   "nbconvert_exporter": "python",
   "pygments_lexer": "ipython3",
   "version": "3.10.10"
  },
  "orig_nbformat": 4
 },
 "nbformat": 4,
 "nbformat_minor": 2
}
