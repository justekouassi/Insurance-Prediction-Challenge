{
 "cells": [
  {
   "attachments": {},
   "cell_type": "markdown",
   "metadata": {},
   "source": [
    "# Insurance Prediction Challenge"
   ]
  },
  {
   "attachments": {},
   "cell_type": "markdown",
   "metadata": {},
   "source": [
    "## Context"
   ]
  },
  {
   "attachments": {},
   "cell_type": "markdown",
   "metadata": {},
   "source": [
    "https://zindi.africa/competitions/insurance-prediction-challenge"
   ]
  },
  {
   "attachments": {},
   "cell_type": "markdown",
   "metadata": {},
   "source": [
    "## Importation des modules"
   ]
  },
  {
   "cell_type": "code",
   "execution_count": 10,
   "metadata": {},
   "outputs": [],
   "source": [
    "import numpy as np\n",
    "import pandas as pd\n",
    "import matplotlib.pyplot as plt\n",
    "import seaborn as sns\n",
    "# models\n",
    "from sklearn.ensemble import GradientBoostingClassifier\n",
    "from sklearn.ensemble import RandomForestClassifier\n",
    "from sklearn.tree import DecisionTreeClassifier\n",
    "from sklearn.linear_model import LogisticRegression\n",
    "from xgboost import XGBClassifier\n",
    "from lightgbm import LGBMClassifier\n",
    "from catboost import CatBoostClassifier\n",
    "# tuning\n",
    "from sklearn.model_selection import train_test_split\n",
    "from sklearn.model_selection import cross_val_score\n",
    "from sklearn.model_selection import GridSearchCV\n",
    "from sklearn.model_selection import StratifiedKFold\n",
    "# encoding\n",
    "from sklearn.preprocessing import OrdinalEncoder\n",
    "# scaling\n",
    "from sklearn.preprocessing import MinMaxScaler, StandardScaler, RobustScaler, MaxAbsScaler\n",
    "# metrics\n",
    "from sklearn.metrics import auc, roc_curve\n",
    "from sklearn.metrics import ConfusionMatrixDisplay\n",
    "# utils\n",
    "import random\n",
    "from datetime import datetime as dt\n",
    "import joblib"
   ]
  },
  {
   "cell_type": "code",
   "execution_count": 2,
   "metadata": {},
   "outputs": [],
   "source": [
    "# Set seed for reproducability\n",
    "SEED = 12\n",
    "random.seed(SEED)\n",
    "np.random.seed(SEED)"
   ]
  },
  {
   "attachments": {},
   "cell_type": "markdown",
   "metadata": {},
   "source": [
    "## Chargement des jeux de données"
   ]
  },
  {
   "cell_type": "code",
   "execution_count": 3,
   "metadata": {},
   "outputs": [],
   "source": [
    "DATA_PATH = 'data/'\n",
    "train = pd.read_csv(DATA_PATH + 'train_data.csv')\n",
    "test = pd.read_csv(DATA_PATH + 'test_data.csv')\n",
    "sample_submission = pd.read_csv(DATA_PATH + 'SampleSubmission.csv')\n",
    "variable_description = pd.read_csv(DATA_PATH + 'VariableDescription.csv')"
   ]
  },
  {
   "cell_type": "code",
   "execution_count": 4,
   "metadata": {},
   "outputs": [
    {
     "data": {
      "text/html": [
       "<div>\n",
       "<style scoped>\n",
       "    .dataframe tbody tr th:only-of-type {\n",
       "        vertical-align: middle;\n",
       "    }\n",
       "\n",
       "    .dataframe tbody tr th {\n",
       "        vertical-align: top;\n",
       "    }\n",
       "\n",
       "    .dataframe thead th {\n",
       "        text-align: right;\n",
       "    }\n",
       "</style>\n",
       "<table border=\"1\" class=\"dataframe\">\n",
       "  <thead>\n",
       "    <tr style=\"text-align: right;\">\n",
       "      <th></th>\n",
       "      <th>Customer Id</th>\n",
       "      <th>YearOfObservation</th>\n",
       "      <th>Insured_Period</th>\n",
       "      <th>Residential</th>\n",
       "      <th>Building_Painted</th>\n",
       "      <th>Building_Fenced</th>\n",
       "      <th>Garden</th>\n",
       "      <th>Settlement</th>\n",
       "      <th>Building Dimension</th>\n",
       "      <th>Building_Type</th>\n",
       "      <th>Date_of_Occupancy</th>\n",
       "      <th>NumberOfWindows</th>\n",
       "      <th>Geo_Code</th>\n",
       "      <th>Claim</th>\n",
       "    </tr>\n",
       "  </thead>\n",
       "  <tbody>\n",
       "    <tr>\n",
       "      <th>0</th>\n",
       "      <td>H14663</td>\n",
       "      <td>2013</td>\n",
       "      <td>1.0</td>\n",
       "      <td>0</td>\n",
       "      <td>N</td>\n",
       "      <td>V</td>\n",
       "      <td>V</td>\n",
       "      <td>U</td>\n",
       "      <td>290.0</td>\n",
       "      <td>1</td>\n",
       "      <td>1960.0</td>\n",
       "      <td>.</td>\n",
       "      <td>1053</td>\n",
       "      <td>0</td>\n",
       "    </tr>\n",
       "    <tr>\n",
       "      <th>1</th>\n",
       "      <td>H2037</td>\n",
       "      <td>2015</td>\n",
       "      <td>1.0</td>\n",
       "      <td>0</td>\n",
       "      <td>V</td>\n",
       "      <td>N</td>\n",
       "      <td>O</td>\n",
       "      <td>R</td>\n",
       "      <td>490.0</td>\n",
       "      <td>1</td>\n",
       "      <td>1850.0</td>\n",
       "      <td>4</td>\n",
       "      <td>1053</td>\n",
       "      <td>0</td>\n",
       "    </tr>\n",
       "    <tr>\n",
       "      <th>2</th>\n",
       "      <td>H3802</td>\n",
       "      <td>2014</td>\n",
       "      <td>1.0</td>\n",
       "      <td>0</td>\n",
       "      <td>N</td>\n",
       "      <td>V</td>\n",
       "      <td>V</td>\n",
       "      <td>U</td>\n",
       "      <td>595.0</td>\n",
       "      <td>1</td>\n",
       "      <td>1960.0</td>\n",
       "      <td>.</td>\n",
       "      <td>1053</td>\n",
       "      <td>0</td>\n",
       "    </tr>\n",
       "  </tbody>\n",
       "</table>\n",
       "</div>"
      ],
      "text/plain": [
       "  Customer Id  YearOfObservation  Insured_Period  Residential  \\\n",
       "0      H14663               2013             1.0            0   \n",
       "1       H2037               2015             1.0            0   \n",
       "2       H3802               2014             1.0            0   \n",
       "\n",
       "  Building_Painted Building_Fenced Garden Settlement  Building Dimension  \\\n",
       "0                N               V      V          U               290.0   \n",
       "1                V               N      O          R               490.0   \n",
       "2                N               V      V          U               595.0   \n",
       "\n",
       "   Building_Type  Date_of_Occupancy NumberOfWindows Geo_Code  Claim  \n",
       "0              1             1960.0               .     1053      0  \n",
       "1              1             1850.0               4     1053      0  \n",
       "2              1             1960.0               .     1053      0  "
      ]
     },
     "execution_count": 4,
     "metadata": {},
     "output_type": "execute_result"
    }
   ],
   "source": [
    "train.head(3)"
   ]
  },
  {
   "cell_type": "code",
   "execution_count": 5,
   "metadata": {},
   "outputs": [
    {
     "data": {
      "text/html": [
       "<div>\n",
       "<style scoped>\n",
       "    .dataframe tbody tr th:only-of-type {\n",
       "        vertical-align: middle;\n",
       "    }\n",
       "\n",
       "    .dataframe tbody tr th {\n",
       "        vertical-align: top;\n",
       "    }\n",
       "\n",
       "    .dataframe thead th {\n",
       "        text-align: right;\n",
       "    }\n",
       "</style>\n",
       "<table border=\"1\" class=\"dataframe\">\n",
       "  <thead>\n",
       "    <tr style=\"text-align: right;\">\n",
       "      <th></th>\n",
       "      <th>Customer Id</th>\n",
       "      <th>YearOfObservation</th>\n",
       "      <th>Insured_Period</th>\n",
       "      <th>Residential</th>\n",
       "      <th>Building_Painted</th>\n",
       "      <th>Building_Fenced</th>\n",
       "      <th>Garden</th>\n",
       "      <th>Settlement</th>\n",
       "      <th>Building Dimension</th>\n",
       "      <th>Building_Type</th>\n",
       "      <th>Date_of_Occupancy</th>\n",
       "      <th>NumberOfWindows</th>\n",
       "      <th>Geo_Code</th>\n",
       "    </tr>\n",
       "  </thead>\n",
       "  <tbody>\n",
       "    <tr>\n",
       "      <th>0</th>\n",
       "      <td>H11920</td>\n",
       "      <td>2013</td>\n",
       "      <td>1.000000</td>\n",
       "      <td>0</td>\n",
       "      <td>V</td>\n",
       "      <td>N</td>\n",
       "      <td>O</td>\n",
       "      <td>R</td>\n",
       "      <td>300.0</td>\n",
       "      <td>1</td>\n",
       "      <td>1960.0</td>\n",
       "      <td>3</td>\n",
       "      <td>3310</td>\n",
       "    </tr>\n",
       "    <tr>\n",
       "      <th>1</th>\n",
       "      <td>H11921</td>\n",
       "      <td>2016</td>\n",
       "      <td>0.997268</td>\n",
       "      <td>0</td>\n",
       "      <td>V</td>\n",
       "      <td>N</td>\n",
       "      <td>O</td>\n",
       "      <td>R</td>\n",
       "      <td>300.0</td>\n",
       "      <td>1</td>\n",
       "      <td>1960.0</td>\n",
       "      <td>3</td>\n",
       "      <td>3310</td>\n",
       "    </tr>\n",
       "    <tr>\n",
       "      <th>2</th>\n",
       "      <td>H9805</td>\n",
       "      <td>2013</td>\n",
       "      <td>0.369863</td>\n",
       "      <td>0</td>\n",
       "      <td>V</td>\n",
       "      <td>V</td>\n",
       "      <td>V</td>\n",
       "      <td>U</td>\n",
       "      <td>790.0</td>\n",
       "      <td>1</td>\n",
       "      <td>1960.0</td>\n",
       "      <td>.</td>\n",
       "      <td>3310</td>\n",
       "    </tr>\n",
       "  </tbody>\n",
       "</table>\n",
       "</div>"
      ],
      "text/plain": [
       "  Customer Id  YearOfObservation  Insured_Period  Residential  \\\n",
       "0      H11920               2013        1.000000            0   \n",
       "1      H11921               2016        0.997268            0   \n",
       "2       H9805               2013        0.369863            0   \n",
       "\n",
       "  Building_Painted Building_Fenced Garden Settlement  Building Dimension  \\\n",
       "0                V               N      O          R               300.0   \n",
       "1                V               N      O          R               300.0   \n",
       "2                V               V      V          U               790.0   \n",
       "\n",
       "   Building_Type  Date_of_Occupancy NumberOfWindows Geo_Code  \n",
       "0              1             1960.0               3     3310  \n",
       "1              1             1960.0               3     3310  \n",
       "2              1             1960.0               .     3310  "
      ]
     },
     "execution_count": 5,
     "metadata": {},
     "output_type": "execute_result"
    }
   ],
   "source": [
    "test.head(3)"
   ]
  },
  {
   "cell_type": "code",
   "execution_count": 6,
   "metadata": {},
   "outputs": [],
   "source": [
    "ID = 'Customer Id'\n",
    "TARGET = 'Claim'"
   ]
  },
  {
   "attachments": {},
   "cell_type": "markdown",
   "metadata": {},
   "source": [
    "## EDA"
   ]
  },
  {
   "attachments": {},
   "cell_type": "markdown",
   "metadata": {},
   "source": [
    "Features description"
   ]
  },
  {
   "cell_type": "code",
   "execution_count": 8,
   "metadata": {},
   "outputs": [
    {
     "name": "stdout",
     "output_type": "stream",
     "text": [
      "<class 'pandas.core.frame.DataFrame'>\n",
      "RangeIndex: 7160 entries, 0 to 7159\n",
      "Data columns (total 14 columns):\n",
      " #   Column              Non-Null Count  Dtype  \n",
      "---  ------              --------------  -----  \n",
      " 0   Customer Id         7160 non-null   object \n",
      " 1   YearOfObservation   7160 non-null   int64  \n",
      " 2   Insured_Period      7160 non-null   float64\n",
      " 3   Residential         7160 non-null   int64  \n",
      " 4   Building_Painted    7160 non-null   object \n",
      " 5   Building_Fenced     7160 non-null   object \n",
      " 6   Garden              7153 non-null   object \n",
      " 7   Settlement          7160 non-null   object \n",
      " 8   Building Dimension  7054 non-null   float64\n",
      " 9   Building_Type       7160 non-null   int64  \n",
      " 10  Date_of_Occupancy   6652 non-null   float64\n",
      " 11  NumberOfWindows     7160 non-null   object \n",
      " 12  Geo_Code            7058 non-null   object \n",
      " 13  Claim               7160 non-null   int64  \n",
      "dtypes: float64(3), int64(4), object(7)\n",
      "memory usage: 783.2+ KB\n"
     ]
    }
   ],
   "source": [
    "train.info()"
   ]
  },
  {
   "cell_type": "code",
   "execution_count": 9,
   "metadata": {},
   "outputs": [
    {
     "name": "stdout",
     "output_type": "stream",
     "text": [
      "<class 'pandas.core.frame.DataFrame'>\n",
      "RangeIndex: 3069 entries, 0 to 3068\n",
      "Data columns (total 13 columns):\n",
      " #   Column              Non-Null Count  Dtype  \n",
      "---  ------              --------------  -----  \n",
      " 0   Customer Id         3069 non-null   object \n",
      " 1   YearOfObservation   3069 non-null   int64  \n",
      " 2   Insured_Period      3069 non-null   float64\n",
      " 3   Residential         3069 non-null   int64  \n",
      " 4   Building_Painted    3069 non-null   object \n",
      " 5   Building_Fenced     3069 non-null   object \n",
      " 6   Garden              3065 non-null   object \n",
      " 7   Settlement          3069 non-null   object \n",
      " 8   Building Dimension  3056 non-null   float64\n",
      " 9   Building_Type       3069 non-null   int64  \n",
      " 10  Date_of_Occupancy   2341 non-null   float64\n",
      " 11  NumberOfWindows     3069 non-null   object \n",
      " 12  Geo_Code            3056 non-null   object \n",
      "dtypes: float64(3), int64(3), object(7)\n",
      "memory usage: 311.8+ KB\n"
     ]
    }
   ],
   "source": [
    "test.info()"
   ]
  },
  {
   "attachments": {},
   "cell_type": "markdown",
   "metadata": {},
   "source": [
    "Train and test set ratio"
   ]
  },
  {
   "cell_type": "code",
   "execution_count": 11,
   "metadata": {},
   "outputs": [
    {
     "data": {
      "text/plain": [
       "30.00293283800958"
      ]
     },
     "execution_count": 11,
     "metadata": {},
     "output_type": "execute_result"
    }
   ],
   "source": [
    "# proportion de l'ensemble de test par rapport à l'ensemble d'apprentissage \n",
    "test.shape[0] * 100 / (train.shape[0] + test.shape[0])"
   ]
  },
  {
   "cell_type": "code",
   "execution_count": 12,
   "metadata": {},
   "outputs": [
    {
     "name": "stdout",
     "output_type": "stream",
     "text": [
      "Customer Id\n",
      "H14663    1\n",
      "H19182    1\n",
      "H1571     1\n",
      "H15027    1\n",
      "H15026    1\n",
      "         ..\n",
      "H5025     1\n",
      "H19098    1\n",
      "H16571    1\n",
      "H16570    1\n",
      "H7470     1\n",
      "Name: Customer Id, Length: 7160, dtype: int64 \n",
      "\n",
      "YearOfObservation\n",
      "2012    1858\n",
      "2013    1811\n",
      "2014    1373\n",
      "2015    1075\n",
      "2016    1043\n",
      "Name: YearOfObservation, dtype: int64 \n",
      "\n",
      "Insured_Period\n",
      "1.000000    5325\n",
      "0.997268     547\n",
      "0.000000     165\n",
      "0.747945      60\n",
      "0.495890      49\n",
      "            ... \n",
      "0.435616       1\n",
      "0.308743       1\n",
      "0.437158       1\n",
      "0.578082       1\n",
      "0.030137       1\n",
      "Name: Insured_Period, Length: 401, dtype: int64 \n",
      "\n",
      "Residential\n",
      "0    4973\n",
      "1    2187\n",
      "Name: Residential, dtype: int64 \n",
      "\n",
      "Building_Painted\n",
      "V    5382\n",
      "N    1778\n",
      "Name: Building_Painted, dtype: int64 \n",
      "\n",
      "Building_Fenced\n",
      "N    3608\n",
      "V    3552\n",
      "Name: Building_Fenced, dtype: int64 \n",
      "\n",
      "Garden\n",
      "O    3602\n",
      "V    3551\n",
      "Name: Garden, dtype: int64 \n",
      "\n",
      "Settlement\n",
      "R    3610\n",
      "U    3550\n",
      "Name: Settlement, dtype: int64 \n",
      "\n",
      "Building Dimension\n",
      "400.0     150\n",
      "500.0     120\n",
      "300.0     118\n",
      "450.0     117\n",
      "600.0     114\n",
      "         ... \n",
      "1046.0      1\n",
      "763.0       1\n",
      "5464.0      1\n",
      "843.0       1\n",
      "1067.0      1\n",
      "Name: Building Dimension, Length: 2043, dtype: int64 \n",
      "\n",
      "Building_Type\n",
      "2    3305\n",
      "1    1716\n",
      "3    1230\n",
      "4     909\n",
      "Name: Building_Type, dtype: int64 \n",
      "\n",
      "Date_of_Occupancy\n",
      "1960.0    1818\n",
      "1980.0    1155\n",
      "1988.0     530\n",
      "1900.0     371\n",
      "1970.0     285\n",
      "          ... \n",
      "1931.0       1\n",
      "1824.0       1\n",
      "1914.0       1\n",
      "1846.0       1\n",
      "1929.0       1\n",
      "Name: Date_of_Occupancy, Length: 134, dtype: int64 \n",
      "\n",
      "NumberOfWindows\n",
      "   .    3551\n",
      "4        939\n",
      "3        844\n",
      "5        639\n",
      "2        363\n",
      "6        306\n",
      "7        211\n",
      "8        116\n",
      "1         75\n",
      ">=10      67\n",
      "9         49\n",
      "Name: NumberOfWindows, dtype: int64 \n",
      "\n",
      "Geo_Code\n",
      "6088     143\n",
      "33063    137\n",
      "6083     113\n",
      "13206     98\n",
      "31555     87\n",
      "        ... \n",
      "59650      1\n",
      "59656      1\n",
      "60057      1\n",
      "60172      1\n",
      "2B353      1\n",
      "Name: Geo_Code, Length: 1307, dtype: int64 \n",
      "\n",
      "Claim\n",
      "0    5526\n",
      "1    1634\n",
      "Name: Claim, dtype: int64 \n",
      "\n"
     ]
    }
   ],
   "source": [
    "for colonne in list(train.columns):\n",
    "    print(colonne)\n",
    "    print(train[colonne].value_counts(), '\\n')"
   ]
  },
  {
   "attachments": {},
   "cell_type": "markdown",
   "metadata": {},
   "source": [
    "Analyse des variables qualitatives"
   ]
  },
  {
   "cell_type": "code",
   "execution_count": 13,
   "metadata": {},
   "outputs": [
    {
     "data": {
      "text/html": [
       "<div>\n",
       "<style scoped>\n",
       "    .dataframe tbody tr th:only-of-type {\n",
       "        vertical-align: middle;\n",
       "    }\n",
       "\n",
       "    .dataframe tbody tr th {\n",
       "        vertical-align: top;\n",
       "    }\n",
       "\n",
       "    .dataframe thead th {\n",
       "        text-align: right;\n",
       "    }\n",
       "</style>\n",
       "<table border=\"1\" class=\"dataframe\">\n",
       "  <thead>\n",
       "    <tr style=\"text-align: right;\">\n",
       "      <th></th>\n",
       "      <th>Customer Id</th>\n",
       "      <th>Building_Painted</th>\n",
       "      <th>Building_Fenced</th>\n",
       "      <th>Garden</th>\n",
       "      <th>Settlement</th>\n",
       "      <th>NumberOfWindows</th>\n",
       "      <th>Geo_Code</th>\n",
       "    </tr>\n",
       "  </thead>\n",
       "  <tbody>\n",
       "    <tr>\n",
       "      <th>count</th>\n",
       "      <td>7160</td>\n",
       "      <td>7160</td>\n",
       "      <td>7160</td>\n",
       "      <td>7153</td>\n",
       "      <td>7160</td>\n",
       "      <td>7160</td>\n",
       "      <td>7058</td>\n",
       "    </tr>\n",
       "    <tr>\n",
       "      <th>unique</th>\n",
       "      <td>7160</td>\n",
       "      <td>2</td>\n",
       "      <td>2</td>\n",
       "      <td>2</td>\n",
       "      <td>2</td>\n",
       "      <td>11</td>\n",
       "      <td>1307</td>\n",
       "    </tr>\n",
       "    <tr>\n",
       "      <th>top</th>\n",
       "      <td>H14663</td>\n",
       "      <td>V</td>\n",
       "      <td>N</td>\n",
       "      <td>O</td>\n",
       "      <td>R</td>\n",
       "      <td>.</td>\n",
       "      <td>6088</td>\n",
       "    </tr>\n",
       "    <tr>\n",
       "      <th>freq</th>\n",
       "      <td>1</td>\n",
       "      <td>5382</td>\n",
       "      <td>3608</td>\n",
       "      <td>3602</td>\n",
       "      <td>3610</td>\n",
       "      <td>3551</td>\n",
       "      <td>143</td>\n",
       "    </tr>\n",
       "  </tbody>\n",
       "</table>\n",
       "</div>"
      ],
      "text/plain": [
       "       Customer Id Building_Painted Building_Fenced Garden Settlement  \\\n",
       "count         7160             7160            7160   7153       7160   \n",
       "unique        7160                2               2      2          2   \n",
       "top         H14663                V               N      O          R   \n",
       "freq             1             5382            3608   3602       3610   \n",
       "\n",
       "       NumberOfWindows Geo_Code  \n",
       "count             7160     7058  \n",
       "unique              11     1307  \n",
       "top                  .     6088  \n",
       "freq              3551      143  "
      ]
     },
     "execution_count": 13,
     "metadata": {},
     "output_type": "execute_result"
    }
   ],
   "source": [
    "train.select_dtypes(include='object').describe()"
   ]
  },
  {
   "attachments": {},
   "cell_type": "markdown",
   "metadata": {},
   "source": [
    "Analyse des variables quantitatives"
   ]
  },
  {
   "cell_type": "code",
   "execution_count": 14,
   "metadata": {},
   "outputs": [
    {
     "data": {
      "text/html": [
       "<div>\n",
       "<style scoped>\n",
       "    .dataframe tbody tr th:only-of-type {\n",
       "        vertical-align: middle;\n",
       "    }\n",
       "\n",
       "    .dataframe tbody tr th {\n",
       "        vertical-align: top;\n",
       "    }\n",
       "\n",
       "    .dataframe thead th {\n",
       "        text-align: right;\n",
       "    }\n",
       "</style>\n",
       "<table border=\"1\" class=\"dataframe\">\n",
       "  <thead>\n",
       "    <tr style=\"text-align: right;\">\n",
       "      <th></th>\n",
       "      <th>YearOfObservation</th>\n",
       "      <th>Insured_Period</th>\n",
       "      <th>Residential</th>\n",
       "      <th>Building Dimension</th>\n",
       "      <th>Building_Type</th>\n",
       "      <th>Date_of_Occupancy</th>\n",
       "      <th>Claim</th>\n",
       "    </tr>\n",
       "  </thead>\n",
       "  <tbody>\n",
       "    <tr>\n",
       "      <th>count</th>\n",
       "      <td>7160.00</td>\n",
       "      <td>7160.00</td>\n",
       "      <td>7160.00</td>\n",
       "      <td>7054.00</td>\n",
       "      <td>7160.00</td>\n",
       "      <td>6652.00</td>\n",
       "      <td>7160.00</td>\n",
       "    </tr>\n",
       "    <tr>\n",
       "      <th>mean</th>\n",
       "      <td>2013.67</td>\n",
       "      <td>0.91</td>\n",
       "      <td>0.31</td>\n",
       "      <td>1883.73</td>\n",
       "      <td>2.19</td>\n",
       "      <td>1964.46</td>\n",
       "      <td>0.23</td>\n",
       "    </tr>\n",
       "    <tr>\n",
       "      <th>std</th>\n",
       "      <td>1.38</td>\n",
       "      <td>0.24</td>\n",
       "      <td>0.46</td>\n",
       "      <td>2278.16</td>\n",
       "      <td>0.94</td>\n",
       "      <td>36.00</td>\n",
       "      <td>0.42</td>\n",
       "    </tr>\n",
       "    <tr>\n",
       "      <th>min</th>\n",
       "      <td>2012.00</td>\n",
       "      <td>0.00</td>\n",
       "      <td>0.00</td>\n",
       "      <td>1.00</td>\n",
       "      <td>1.00</td>\n",
       "      <td>1545.00</td>\n",
       "      <td>0.00</td>\n",
       "    </tr>\n",
       "    <tr>\n",
       "      <th>25%</th>\n",
       "      <td>2012.00</td>\n",
       "      <td>1.00</td>\n",
       "      <td>0.00</td>\n",
       "      <td>528.00</td>\n",
       "      <td>2.00</td>\n",
       "      <td>1960.00</td>\n",
       "      <td>0.00</td>\n",
       "    </tr>\n",
       "    <tr>\n",
       "      <th>50%</th>\n",
       "      <td>2013.00</td>\n",
       "      <td>1.00</td>\n",
       "      <td>0.00</td>\n",
       "      <td>1083.00</td>\n",
       "      <td>2.00</td>\n",
       "      <td>1970.00</td>\n",
       "      <td>0.00</td>\n",
       "    </tr>\n",
       "    <tr>\n",
       "      <th>75%</th>\n",
       "      <td>2015.00</td>\n",
       "      <td>1.00</td>\n",
       "      <td>1.00</td>\n",
       "      <td>2289.75</td>\n",
       "      <td>3.00</td>\n",
       "      <td>1980.00</td>\n",
       "      <td>0.00</td>\n",
       "    </tr>\n",
       "    <tr>\n",
       "      <th>max</th>\n",
       "      <td>2016.00</td>\n",
       "      <td>1.00</td>\n",
       "      <td>1.00</td>\n",
       "      <td>20940.00</td>\n",
       "      <td>4.00</td>\n",
       "      <td>2016.00</td>\n",
       "      <td>1.00</td>\n",
       "    </tr>\n",
       "  </tbody>\n",
       "</table>\n",
       "</div>"
      ],
      "text/plain": [
       "       YearOfObservation  Insured_Period  Residential  Building Dimension  \\\n",
       "count            7160.00         7160.00      7160.00             7054.00   \n",
       "mean             2013.67            0.91         0.31             1883.73   \n",
       "std                 1.38            0.24         0.46             2278.16   \n",
       "min              2012.00            0.00         0.00                1.00   \n",
       "25%              2012.00            1.00         0.00              528.00   \n",
       "50%              2013.00            1.00         0.00             1083.00   \n",
       "75%              2015.00            1.00         1.00             2289.75   \n",
       "max              2016.00            1.00         1.00            20940.00   \n",
       "\n",
       "       Building_Type  Date_of_Occupancy    Claim  \n",
       "count        7160.00            6652.00  7160.00  \n",
       "mean            2.19            1964.46     0.23  \n",
       "std             0.94              36.00     0.42  \n",
       "min             1.00            1545.00     0.00  \n",
       "25%             2.00            1960.00     0.00  \n",
       "50%             2.00            1970.00     0.00  \n",
       "75%             3.00            1980.00     0.00  \n",
       "max             4.00            2016.00     1.00  "
      ]
     },
     "execution_count": 14,
     "metadata": {},
     "output_type": "execute_result"
    }
   ],
   "source": [
    "train.select_dtypes(include='number').describe().round(2)"
   ]
  },
  {
   "attachments": {},
   "cell_type": "markdown",
   "metadata": {},
   "source": [
    "> - La colonne `Customer Id` ne contient que des éléments uniques. Elle ne sera pas utile à notre apprentissage. <br>\n",
    "> - La colonne `NumberOfWindows` contient des chiffres de 1 à 9 et deux valeurs spéciales : un point (.) et une description mathématique (>=10). Ce qui a fait de cette colonne une variable _object_. Pour un apprentissage correct, nous transformerons ces deux valeurs spéciales en chiffres, soit 0 et 10 respectivement. <br>\n",
    "> - La colonne `Geo_Code` a l'air de ne contenir que des nombres mais il s'avère qu'elle est de type _object_."
   ]
  },
  {
   "attachments": {},
   "cell_type": "markdown",
   "metadata": {},
   "source": [
    "Analyse des données manquantes"
   ]
  },
  {
   "cell_type": "code",
   "execution_count": 15,
   "metadata": {},
   "outputs": [
    {
     "data": {
      "text/plain": [
       "Customer Id           0.000000\n",
       "YearOfObservation     0.000000\n",
       "Insured_Period        0.000000\n",
       "Residential           0.000000\n",
       "Building_Painted      0.000000\n",
       "Building_Fenced       0.000000\n",
       "Garden                0.097765\n",
       "Settlement            0.000000\n",
       "Building Dimension    1.480447\n",
       "Building_Type         0.000000\n",
       "Date_of_Occupancy     7.094972\n",
       "NumberOfWindows       0.000000\n",
       "Geo_Code              1.424581\n",
       "Claim                 0.000000\n",
       "dtype: float64"
      ]
     },
     "execution_count": 15,
     "metadata": {},
     "output_type": "execute_result"
    }
   ],
   "source": [
    "train.isnull().sum() / train.shape[0] * 100"
   ]
  },
  {
   "cell_type": "code",
   "execution_count": 16,
   "metadata": {},
   "outputs": [
    {
     "data": {
      "text/plain": [
       "<Axes: xlabel='Building Dimension'>"
      ]
     },
     "execution_count": 16,
     "metadata": {},
     "output_type": "execute_result"
    },
    {
     "data": {
      "image/png": "[encoded data removed]",
      "text/plain": [
       "<Figure size 640x480 with 1 Axes>"
      ]
     },
     "metadata": {},
     "output_type": "display_data"
    }
   ],
   "source": [
    "# Checking distribution to help decide the imputation method to use for the continous variables\n",
    "sns.boxplot(x=train['Building Dimension'])"
   ]
  },
  {
   "cell_type": "code",
   "execution_count": 17,
   "metadata": {},
   "outputs": [
    {
     "data": {
      "text/plain": [
       "<Axes: xlabel='Date_of_Occupancy'>"
      ]
     },
     "execution_count": 17,
     "metadata": {},
     "output_type": "execute_result"
    },
    {
     "data": {
      "image/png": "[encoded data removed]",
      "text/plain": [
       "<Figure size 640x480 with 1 Axes>"
      ]
     },
     "metadata": {},
     "output_type": "display_data"
    }
   ],
   "source": [
    "sns.boxplot(x=train['Date_of_Occupancy'])"
   ]
  },
  {
   "attachments": {},
   "cell_type": "markdown",
   "metadata": {},
   "source": [
    "Analyse et visualisation de la target"
   ]
  },
  {
   "cell_type": "code",
   "execution_count": 18,
   "metadata": {},
   "outputs": [
    {
     "data": {
      "image/png": "[encoded data removed]",
      "text/plain": [
       "<Figure size 500x500 with 1 Axes>"
      ]
     },
     "metadata": {},
     "output_type": "display_data"
    }
   ],
   "source": [
    "# explorons la distribution de la target\n",
    "sns.catplot(data=train, x=TARGET, kind='count')\n",
    "plt.show()"
   ]
  },
  {
   "cell_type": "code",
   "execution_count": 19,
   "metadata": {},
   "outputs": [],
   "source": [
    "# Separating the dataset as per the two types of claims\n",
    "train_0 = train[train['Claim'] == 0]\n",
    "train_1 = train[train['Claim'] == 1]"
   ]
  },
  {
   "attachments": {},
   "cell_type": "markdown",
   "metadata": {},
   "source": [
    "### Compréhension des variables"
   ]
  },
  {
   "cell_type": "code",
   "execution_count": 21,
   "metadata": {},
   "outputs": [
    {
     "data": {
      "text/html": [
       "<div>\n",
       "<style scoped>\n",
       "    .dataframe tbody tr th:only-of-type {\n",
       "        vertical-align: middle;\n",
       "    }\n",
       "\n",
       "    .dataframe tbody tr th {\n",
       "        vertical-align: top;\n",
       "    }\n",
       "\n",
       "    .dataframe thead th {\n",
       "        text-align: right;\n",
       "    }\n",
       "</style>\n",
       "<table border=\"1\" class=\"dataframe\">\n",
       "  <thead>\n",
       "    <tr style=\"text-align: right;\">\n",
       "      <th></th>\n",
       "      <th>Variable</th>\n",
       "      <th>Description</th>\n",
       "    </tr>\n",
       "  </thead>\n",
       "  <tbody>\n",
       "    <tr>\n",
       "      <th>0</th>\n",
       "      <td>Customer Id</td>\n",
       "      <td>Identification number for the Policy holder</td>\n",
       "    </tr>\n",
       "    <tr>\n",
       "      <th>1</th>\n",
       "      <td>YearOfObservation</td>\n",
       "      <td>year of observation for the insured policy</td>\n",
       "    </tr>\n",
       "    <tr>\n",
       "      <th>2</th>\n",
       "      <td>Insured_Period</td>\n",
       "      <td>duration of insurance policy in Olusola Insura...</td>\n",
       "    </tr>\n",
       "    <tr>\n",
       "      <th>3</th>\n",
       "      <td>Residential</td>\n",
       "      <td>is the building a residential building or not</td>\n",
       "    </tr>\n",
       "    <tr>\n",
       "      <th>4</th>\n",
       "      <td>Building_Painted</td>\n",
       "      <td>is the building painted or not (N-Painted, V-N...</td>\n",
       "    </tr>\n",
       "    <tr>\n",
       "      <th>5</th>\n",
       "      <td>Building_Fenced</td>\n",
       "      <td>is the building fence or not (N-Fenced, V-Not ...</td>\n",
       "    </tr>\n",
       "    <tr>\n",
       "      <th>6</th>\n",
       "      <td>Garden</td>\n",
       "      <td>building has garden or not (V-has garden; O-no...</td>\n",
       "    </tr>\n",
       "    <tr>\n",
       "      <th>7</th>\n",
       "      <td>Settlement</td>\n",
       "      <td>Area where the building is located. (R- rural ...</td>\n",
       "    </tr>\n",
       "    <tr>\n",
       "      <th>8</th>\n",
       "      <td>Building Dimension</td>\n",
       "      <td>Size of the insured building in m2</td>\n",
       "    </tr>\n",
       "    <tr>\n",
       "      <th>9</th>\n",
       "      <td>Building_Type</td>\n",
       "      <td>The type of building (Type 1, 2, 3, 4)</td>\n",
       "    </tr>\n",
       "    <tr>\n",
       "      <th>10</th>\n",
       "      <td>Date_of_Occupancy</td>\n",
       "      <td>date building was first occupied</td>\n",
       "    </tr>\n",
       "    <tr>\n",
       "      <th>11</th>\n",
       "      <td>NumberOfWindows</td>\n",
       "      <td>number of windows in the building</td>\n",
       "    </tr>\n",
       "    <tr>\n",
       "      <th>12</th>\n",
       "      <td>Geo Code</td>\n",
       "      <td>Geographical Code of the Insured building</td>\n",
       "    </tr>\n",
       "    <tr>\n",
       "      <th>13</th>\n",
       "      <td>Claim</td>\n",
       "      <td>target variable. (0: no claim, 1: at least one...</td>\n",
       "    </tr>\n",
       "  </tbody>\n",
       "</table>\n",
       "</div>"
      ],
      "text/plain": [
       "              Variable                                        Description\n",
       "0          Customer Id        Identification number for the Policy holder\n",
       "1    YearOfObservation         year of observation for the insured policy\n",
       "2       Insured_Period  duration of insurance policy in Olusola Insura...\n",
       "3          Residential      is the building a residential building or not\n",
       "4     Building_Painted  is the building painted or not (N-Painted, V-N...\n",
       "5      Building_Fenced  is the building fence or not (N-Fenced, V-Not ...\n",
       "6               Garden  building has garden or not (V-has garden; O-no...\n",
       "7           Settlement  Area where the building is located. (R- rural ...\n",
       "8   Building Dimension                 Size of the insured building in m2\n",
       "9        Building_Type             The type of building (Type 1, 2, 3, 4)\n",
       "10   Date_of_Occupancy                   date building was first occupied\n",
       "11     NumberOfWindows                  number of windows in the building\n",
       "12            Geo Code          Geographical Code of the Insured building\n",
       "13               Claim  target variable. (0: no claim, 1: at least one..."
      ]
     },
     "execution_count": 21,
     "metadata": {},
     "output_type": "execute_result"
    }
   ],
   "source": [
    "variable_description"
   ]
  },
  {
   "attachments": {},
   "cell_type": "markdown",
   "metadata": {},
   "source": [
    "Matrice de corrélation entre les variables"
   ]
  },
  {
   "cell_type": "code",
   "execution_count": 20,
   "metadata": {},
   "outputs": [
    {
     "data": {
      "text/plain": [
       "<Axes: title={'center': 'Corrélation des features'}>"
      ]
     },
     "execution_count": 20,
     "metadata": {},
     "output_type": "execute_result"
    },
    {
     "data": {
      "image/png": "[encoded data removed]",
      "text/plain": [
       "<Figure size 640x480 with 2 Axes>"
      ]
     },
     "metadata": {},
     "output_type": "display_data"
    }
   ],
   "source": [
    "plt.title('Corrélation des features')\n",
    "sns.heatmap(train.corr(numeric_only=True), linewidths=0.05, annot=True)"
   ]
  },
  {
   "attachments": {},
   "cell_type": "markdown",
   "metadata": {},
   "source": [
    "> 00 corrélation entre les variables du dataset"
   ]
  },
  {
   "attachments": {},
   "cell_type": "markdown",
   "metadata": {},
   "source": [
    "## Preprocessing"
   ]
  },
  {
   "attachments": {},
   "cell_type": "markdown",
   "metadata": {},
   "source": [
    "### Deleting missing values "
   ]
  },
  {
   "cell_type": "code",
   "execution_count": 22,
   "metadata": {},
   "outputs": [],
   "source": [
    "#We replace missing values for the building dimension and date of occupancy with Median since\n",
    "#Both are highly skewed\n",
    "train_full = train.copy()\n",
    "train_full['Date_of_Occupancy'] = train_full['Date_of_Occupancy'].fillna(train_full['Date_of_Occupancy'].median())\n",
    "train_full['Building Dimension'] = train_full['Building Dimension'].fillna(train_full['Building Dimension'].median())\n",
    "\n",
    "#We replace the categorical variables with the mode\n",
    "train_full['Garden'] = train_full['Garden'].fillna(train_full['Garden'].mode()[0])\n",
    "train_full['Geo_Code'] = train_full['Geo_Code'].fillna(train_full['Geo_Code'].mode()[0])"
   ]
  },
  {
   "cell_type": "code",
   "execution_count": 23,
   "metadata": {},
   "outputs": [],
   "source": [
    "#We replace missing values for the building dimension and date of occupancy with Median since\n",
    "#Both are highly skewed\n",
    "test_full = test.copy()\n",
    "test_full['Date_of_Occupancy'] = test_full['Date_of_Occupancy'].fillna(test_full['Date_of_Occupancy'].median())\n",
    "test_full['Building Dimension'] = test_full['Building Dimension'].fillna(test_full['Building Dimension'].median())\n",
    "\n",
    "#We replace the categorical variables with the mode\n",
    "test_full['Garden'] = test_full['Garden'].fillna(test_full['Garden'].mode()[0])\n",
    "test_full['Geo_Code'] = test_full['Geo_Code'].fillna(test_full['Geo_Code'].mode()[0])"
   ]
  },
  {
   "cell_type": "code",
   "execution_count": 24,
   "metadata": {},
   "outputs": [
    {
     "data": {
      "text/plain": [
       "Customer Id           0\n",
       "YearOfObservation     0\n",
       "Insured_Period        0\n",
       "Residential           0\n",
       "Building_Painted      0\n",
       "Building_Fenced       0\n",
       "Garden                0\n",
       "Settlement            0\n",
       "Building Dimension    0\n",
       "Building_Type         0\n",
       "Date_of_Occupancy     0\n",
       "NumberOfWindows       0\n",
       "Geo_Code              0\n",
       "dtype: int64"
      ]
     },
     "execution_count": 24,
     "metadata": {},
     "output_type": "execute_result"
    }
   ],
   "source": [
    "test_full.isnull().sum()"
   ]
  },
  {
   "attachments": {},
   "cell_type": "markdown",
   "metadata": {},
   "source": [
    "### Dummification"
   ]
  },
  {
   "cell_type": "code",
   "execution_count": 38,
   "metadata": {},
   "outputs": [],
   "source": [
    "def preprocessing_data_1(data: pd.DataFrame, scaler) -> pd.DataFrame:\n",
    "    ''' arrange un dataset\n",
    "    '''\n",
    "    # copie du dataset\n",
    "    data1 = data.copy()\n",
    "    # # arrangement de la colonne du nombre de fenêtres\n",
    "    # data1['NumberOfWindows'] = data1['NumberOfWindows'].map(\n",
    "    #     {'   .': 0, '>=10': 10}).fillna(data1['NumberOfWindows'])\n",
    "    # data1['NumberOfWindows'] = data1['NumberOfWindows'].astype(int)\n",
    "    # suppression de la variable d'identifiants uniques\n",
    "    data1.drop(ID, axis=1, inplace=True)\n",
    "    # la liste des colonnes discrètes\n",
    "    object_columns = list(data1.select_dtypes(include='object').columns)\n",
    "    # encodage des variables discrètes\n",
    "    encoder = OrdinalEncoder()\n",
    "    data1[object_columns] = encoder.fit_transform(data1[object_columns])\n",
    "    # normalisation\n",
    "    data1[data1.columns] = scaler.fit_transform(data1)\n",
    "    return data1\n",
    "\n",
    "\n",
    "def preprocessing_data_2(data: pd.DataFrame, scaler) -> pd.DataFrame:\n",
    "    ''' Réalise la phase de pré-traitement d'un dataset à savoir l'encodage \n",
    "    des variables discrètes et la normalisation de toutes les variables \n",
    "    '''\n",
    "    # copie du dataset\n",
    "    data1 = data.copy()\n",
    "    # arrangement de la colonne du nombre de fenêtres\n",
    "    data1['NumberOfWindows'] = data1['NumberOfWindows'].map(\n",
    "        {'   .': 0, '>=10': 10}).fillna(data1['NumberOfWindows'])\n",
    "    data1['NumberOfWindows'] = data1['NumberOfWindows'].astype(int)\n",
    "    # arrangement de la colonne du nombre de fenêtres\n",
    "    data1['Geo_Code'] = data1['Geo_Code'].map(\n",
    "        {'2A004': 20004, '2A090': 20090, '2A247': 20247, '2B033': 20033, '2B042': 20042, '2B050': 20050, '2B096': 20096, '2B353': 20353, '2B353': 20353}).fillna(data1['Geo_Code'])\n",
    "    data1['Geo_Code'] = data1['Geo_Code'].astype(int)\n",
    "    # suppression de la variable d'identifiants uniques\n",
    "    data1.drop(ID, axis=1, inplace=True)\n",
    "    data1 = pd.get_dummies(data1)\n",
    "    # normalisation\n",
    "    data1[data1.columns] = scaler.fit_transform(data1)\n",
    "    return data1\n",
    "\n",
    "\n",
    "def preprocessing_data_3(data: pd.DataFrame, scaler) -> pd.DataFrame:\n",
    "    ''' Réalise la phase de pré-traitement d'un dataset à savoir l'encodage \n",
    "    des variables discrètes et la normalisation de toutes les variables \n",
    "    '''\n",
    "    # copie du dataset\n",
    "    data1 = data.copy()\n",
    "    # suppression de la variable d'identifiants uniques\n",
    "    data1.drop(ID, axis=1, inplace=True)\n",
    "    # la liste des colonnes discrètes\n",
    "    object_columns = list(data1.select_dtypes(include='object').columns)\n",
    "    # encodage des variables discrètes\n",
    "    encoder = OrdinalEncoder()\n",
    "    data1[object_columns] = encoder.fit_transform(data1[object_columns])\n",
    "    # normalisation\n",
    "    data1[data1.columns] = scaler.fit_transform(data1)\n",
    "    return data1\n"
   ]
  },
  {
   "attachments": {},
   "cell_type": "markdown",
   "metadata": {},
   "source": [
    "Instantiating the scalers"
   ]
  },
  {
   "cell_type": "code",
   "execution_count": 21,
   "metadata": {},
   "outputs": [],
   "source": [
    "# Instantiating the scalers\n",
    "MMS = MinMaxScaler()\n",
    "MAS = MaxAbsScaler()\n",
    "SS = StandardScaler()\n",
    "RS = RobustScaler()"
   ]
  },
  {
   "cell_type": "code",
   "execution_count": 39,
   "metadata": {},
   "outputs": [
    {
     "data": {
      "text/html": [
       "<div>\n",
       "<style scoped>\n",
       "    .dataframe tbody tr th:only-of-type {\n",
       "        vertical-align: middle;\n",
       "    }\n",
       "\n",
       "    .dataframe tbody tr th {\n",
       "        vertical-align: top;\n",
       "    }\n",
       "\n",
       "    .dataframe thead th {\n",
       "        text-align: right;\n",
       "    }\n",
       "</style>\n",
       "<table border=\"1\" class=\"dataframe\">\n",
       "  <thead>\n",
       "    <tr style=\"text-align: right;\">\n",
       "      <th></th>\n",
       "      <th>YearOfObservation</th>\n",
       "      <th>Insured_Period</th>\n",
       "      <th>Residential</th>\n",
       "      <th>Building_Painted</th>\n",
       "      <th>Building_Fenced</th>\n",
       "      <th>Garden</th>\n",
       "      <th>Settlement</th>\n",
       "      <th>Building Dimension</th>\n",
       "      <th>Building_Type</th>\n",
       "      <th>Date_of_Occupancy</th>\n",
       "      <th>NumberOfWindows</th>\n",
       "      <th>Geo_Code</th>\n",
       "      <th>Claim</th>\n",
       "    </tr>\n",
       "  </thead>\n",
       "  <tbody>\n",
       "    <tr>\n",
       "      <th>0</th>\n",
       "      <td>0.25</td>\n",
       "      <td>1.0</td>\n",
       "      <td>0.0</td>\n",
       "      <td>0.0</td>\n",
       "      <td>1.0</td>\n",
       "      <td>1.0</td>\n",
       "      <td>1.0</td>\n",
       "      <td>0.013802</td>\n",
       "      <td>0.0</td>\n",
       "      <td>0.881104</td>\n",
       "      <td>0.0</td>\n",
       "      <td>0.00536</td>\n",
       "      <td>0.0</td>\n",
       "    </tr>\n",
       "    <tr>\n",
       "      <th>1</th>\n",
       "      <td>0.75</td>\n",
       "      <td>1.0</td>\n",
       "      <td>0.0</td>\n",
       "      <td>1.0</td>\n",
       "      <td>0.0</td>\n",
       "      <td>0.0</td>\n",
       "      <td>0.0</td>\n",
       "      <td>0.023354</td>\n",
       "      <td>0.0</td>\n",
       "      <td>0.647558</td>\n",
       "      <td>0.4</td>\n",
       "      <td>0.00536</td>\n",
       "      <td>0.0</td>\n",
       "    </tr>\n",
       "    <tr>\n",
       "      <th>2</th>\n",
       "      <td>0.50</td>\n",
       "      <td>1.0</td>\n",
       "      <td>0.0</td>\n",
       "      <td>0.0</td>\n",
       "      <td>1.0</td>\n",
       "      <td>1.0</td>\n",
       "      <td>1.0</td>\n",
       "      <td>0.028368</td>\n",
       "      <td>0.0</td>\n",
       "      <td>0.881104</td>\n",
       "      <td>0.0</td>\n",
       "      <td>0.00536</td>\n",
       "      <td>0.0</td>\n",
       "    </tr>\n",
       "  </tbody>\n",
       "</table>\n",
       "</div>"
      ],
      "text/plain": [
       "   YearOfObservation  Insured_Period  Residential  Building_Painted  \\\n",
       "0               0.25             1.0          0.0               0.0   \n",
       "1               0.75             1.0          0.0               1.0   \n",
       "2               0.50             1.0          0.0               0.0   \n",
       "\n",
       "   Building_Fenced  Garden  Settlement  Building Dimension  Building_Type  \\\n",
       "0              1.0     1.0         1.0            0.013802            0.0   \n",
       "1              0.0     0.0         0.0            0.023354            0.0   \n",
       "2              1.0     1.0         1.0            0.028368            0.0   \n",
       "\n",
       "   Date_of_Occupancy  NumberOfWindows  Geo_Code  Claim  \n",
       "0           0.881104              0.0   0.00536    0.0  \n",
       "1           0.647558              0.4   0.00536    0.0  \n",
       "2           0.881104              0.0   0.00536    0.0  "
      ]
     },
     "execution_count": 39,
     "metadata": {},
     "output_type": "execute_result"
    }
   ],
   "source": [
    "scaler = MMS\n",
    "\n",
    "train_pp = preprocessing_data_3(train, scaler)\n",
    "test_pp = preprocessing_data_3(test, scaler)\n",
    "\n",
    "# train_full = preprocessing_data_1(train_full, scaler)\n",
    "# test_full = preprocessing_data_1(test_full, scaler)\n",
    "\n",
    "train_pp.head(3)"
   ]
  },
  {
   "cell_type": "code",
   "execution_count": 40,
   "metadata": {},
   "outputs": [
    {
     "data": {
      "text/html": [
       "<div>\n",
       "<style scoped>\n",
       "    .dataframe tbody tr th:only-of-type {\n",
       "        vertical-align: middle;\n",
       "    }\n",
       "\n",
       "    .dataframe tbody tr th {\n",
       "        vertical-align: top;\n",
       "    }\n",
       "\n",
       "    .dataframe thead th {\n",
       "        text-align: right;\n",
       "    }\n",
       "</style>\n",
       "<table border=\"1\" class=\"dataframe\">\n",
       "  <thead>\n",
       "    <tr style=\"text-align: right;\">\n",
       "      <th></th>\n",
       "      <th>YearOfObservation</th>\n",
       "      <th>Insured_Period</th>\n",
       "      <th>Residential</th>\n",
       "      <th>Building_Painted</th>\n",
       "      <th>Building_Fenced</th>\n",
       "      <th>Garden</th>\n",
       "      <th>Settlement</th>\n",
       "      <th>Building Dimension</th>\n",
       "      <th>Building_Type</th>\n",
       "      <th>Date_of_Occupancy</th>\n",
       "      <th>NumberOfWindows</th>\n",
       "      <th>Geo_Code</th>\n",
       "      <th>Claim</th>\n",
       "    </tr>\n",
       "  </thead>\n",
       "  <tbody>\n",
       "    <tr>\n",
       "      <th>0</th>\n",
       "      <td>0.25</td>\n",
       "      <td>1.000000</td>\n",
       "      <td>0.0</td>\n",
       "      <td>1.0</td>\n",
       "      <td>0.0</td>\n",
       "      <td>0.0</td>\n",
       "      <td>0.0</td>\n",
       "      <td>0.009725</td>\n",
       "      <td>0.0</td>\n",
       "      <td>0.801527</td>\n",
       "      <td>0.3</td>\n",
       "      <td>0.204023</td>\n",
       "      <td>0.0</td>\n",
       "    </tr>\n",
       "    <tr>\n",
       "      <th>1</th>\n",
       "      <td>1.00</td>\n",
       "      <td>0.997268</td>\n",
       "      <td>0.0</td>\n",
       "      <td>1.0</td>\n",
       "      <td>0.0</td>\n",
       "      <td>0.0</td>\n",
       "      <td>0.0</td>\n",
       "      <td>0.009725</td>\n",
       "      <td>0.0</td>\n",
       "      <td>0.801527</td>\n",
       "      <td>0.3</td>\n",
       "      <td>0.204023</td>\n",
       "      <td>0.0</td>\n",
       "    </tr>\n",
       "    <tr>\n",
       "      <th>2</th>\n",
       "      <td>0.25</td>\n",
       "      <td>0.369863</td>\n",
       "      <td>0.0</td>\n",
       "      <td>1.0</td>\n",
       "      <td>1.0</td>\n",
       "      <td>1.0</td>\n",
       "      <td>1.0</td>\n",
       "      <td>0.025664</td>\n",
       "      <td>0.0</td>\n",
       "      <td>0.801527</td>\n",
       "      <td>0.0</td>\n",
       "      <td>0.204023</td>\n",
       "      <td>0.0</td>\n",
       "    </tr>\n",
       "  </tbody>\n",
       "</table>\n",
       "</div>"
      ],
      "text/plain": [
       "   YearOfObservation  Insured_Period  Residential  Building_Painted  \\\n",
       "0               0.25        1.000000          0.0               1.0   \n",
       "1               1.00        0.997268          0.0               1.0   \n",
       "2               0.25        0.369863          0.0               1.0   \n",
       "\n",
       "   Building_Fenced  Garden  Settlement  Building Dimension  Building_Type  \\\n",
       "0              0.0     0.0         0.0            0.009725            0.0   \n",
       "1              0.0     0.0         0.0            0.009725            0.0   \n",
       "2              1.0     1.0         1.0            0.025664            0.0   \n",
       "\n",
       "   Date_of_Occupancy  NumberOfWindows  Geo_Code  Claim  \n",
       "0           0.801527              0.3  0.204023    0.0  \n",
       "1           0.801527              0.3  0.204023    0.0  \n",
       "2           0.801527              0.0  0.204023    0.0  "
      ]
     },
     "execution_count": 40,
     "metadata": {},
     "output_type": "execute_result"
    }
   ],
   "source": [
    "test_pp.head(3)"
   ]
  },
  {
   "cell_type": "code",
   "execution_count": 97,
   "metadata": {},
   "outputs": [
    {
     "data": {
      "text/html": [
       "<div>\n",
       "<style scoped>\n",
       "    .dataframe tbody tr th:only-of-type {\n",
       "        vertical-align: middle;\n",
       "    }\n",
       "\n",
       "    .dataframe tbody tr th {\n",
       "        vertical-align: top;\n",
       "    }\n",
       "\n",
       "    .dataframe thead th {\n",
       "        text-align: right;\n",
       "    }\n",
       "</style>\n",
       "<table border=\"1\" class=\"dataframe\">\n",
       "  <thead>\n",
       "    <tr style=\"text-align: right;\">\n",
       "      <th></th>\n",
       "      <th>YearOfObservation</th>\n",
       "      <th>Insured_Period</th>\n",
       "      <th>Residential</th>\n",
       "      <th>Building_Painted</th>\n",
       "      <th>Building_Fenced</th>\n",
       "      <th>Garden</th>\n",
       "      <th>Settlement</th>\n",
       "      <th>Building Dimension</th>\n",
       "      <th>Building_Type</th>\n",
       "      <th>Date_of_Occupancy</th>\n",
       "      <th>NumberOfWindows</th>\n",
       "      <th>Geo_Code</th>\n",
       "      <th>Claim</th>\n",
       "    </tr>\n",
       "  </thead>\n",
       "  <tbody>\n",
       "    <tr>\n",
       "      <th>0</th>\n",
       "      <td>0.25</td>\n",
       "      <td>1.0</td>\n",
       "      <td>0.0</td>\n",
       "      <td>0.0</td>\n",
       "      <td>1.0</td>\n",
       "      <td>1.0</td>\n",
       "      <td>1.0</td>\n",
       "      <td>0.013802</td>\n",
       "      <td>0.0</td>\n",
       "      <td>0.881104</td>\n",
       "      <td>0.0</td>\n",
       "      <td>0.00536</td>\n",
       "      <td>0.0</td>\n",
       "    </tr>\n",
       "    <tr>\n",
       "      <th>1</th>\n",
       "      <td>0.75</td>\n",
       "      <td>1.0</td>\n",
       "      <td>0.0</td>\n",
       "      <td>1.0</td>\n",
       "      <td>0.0</td>\n",
       "      <td>0.0</td>\n",
       "      <td>0.0</td>\n",
       "      <td>0.023354</td>\n",
       "      <td>0.0</td>\n",
       "      <td>0.647558</td>\n",
       "      <td>0.4</td>\n",
       "      <td>0.00536</td>\n",
       "      <td>0.0</td>\n",
       "    </tr>\n",
       "    <tr>\n",
       "      <th>2</th>\n",
       "      <td>0.50</td>\n",
       "      <td>1.0</td>\n",
       "      <td>0.0</td>\n",
       "      <td>0.0</td>\n",
       "      <td>1.0</td>\n",
       "      <td>1.0</td>\n",
       "      <td>1.0</td>\n",
       "      <td>0.028368</td>\n",
       "      <td>0.0</td>\n",
       "      <td>0.881104</td>\n",
       "      <td>0.0</td>\n",
       "      <td>0.00536</td>\n",
       "      <td>0.0</td>\n",
       "    </tr>\n",
       "  </tbody>\n",
       "</table>\n",
       "</div>"
      ],
      "text/plain": [
       "   YearOfObservation  Insured_Period  Residential  Building_Painted  \\\n",
       "0               0.25             1.0          0.0               0.0   \n",
       "1               0.75             1.0          0.0               1.0   \n",
       "2               0.50             1.0          0.0               0.0   \n",
       "\n",
       "   Building_Fenced  Garden  Settlement  Building Dimension  Building_Type  \\\n",
       "0              1.0     1.0         1.0            0.013802            0.0   \n",
       "1              0.0     0.0         0.0            0.023354            0.0   \n",
       "2              1.0     1.0         1.0            0.028368            0.0   \n",
       "\n",
       "   Date_of_Occupancy  NumberOfWindows  Geo_Code  Claim  \n",
       "0           0.881104              0.0   0.00536    0.0  \n",
       "1           0.647558              0.4   0.00536    0.0  \n",
       "2           0.881104              0.0   0.00536    0.0  "
      ]
     },
     "execution_count": 97,
     "metadata": {},
     "output_type": "execute_result"
    }
   ],
   "source": [
    "train_full.head(3)"
   ]
  },
  {
   "attachments": {},
   "cell_type": "markdown",
   "metadata": {},
   "source": [
    "## Modelling"
   ]
  },
  {
   "attachments": {},
   "cell_type": "markdown",
   "metadata": {},
   "source": [
    "### Splitting"
   ]
  },
  {
   "cell_type": "code",
   "execution_count": 41,
   "metadata": {},
   "outputs": [],
   "source": [
    "X_train_pp = train_pp.drop([TARGET], axis=1)\n",
    "y_train_pp = train_pp[TARGET]"
   ]
  },
  {
   "cell_type": "code",
   "execution_count": 42,
   "metadata": {},
   "outputs": [],
   "source": [
    "X_Train, X_Val, y_Train, y_Val = train_test_split(X_train_pp, y_train_pp, test_size = 0.1, random_state=SEED)"
   ]
  },
  {
   "cell_type": "code",
   "execution_count": 116,
   "metadata": {},
   "outputs": [
    {
     "data": {
      "text/html": [
       "<div>\n",
       "<style scoped>\n",
       "    .dataframe tbody tr th:only-of-type {\n",
       "        vertical-align: middle;\n",
       "    }\n",
       "\n",
       "    .dataframe tbody tr th {\n",
       "        vertical-align: top;\n",
       "    }\n",
       "\n",
       "    .dataframe thead th {\n",
       "        text-align: right;\n",
       "    }\n",
       "</style>\n",
       "<table border=\"1\" class=\"dataframe\">\n",
       "  <thead>\n",
       "    <tr style=\"text-align: right;\">\n",
       "      <th></th>\n",
       "      <th>YearOfObservation</th>\n",
       "      <th>Insured_Period</th>\n",
       "      <th>Residential</th>\n",
       "      <th>Building_Painted</th>\n",
       "      <th>Building_Fenced</th>\n",
       "      <th>Garden</th>\n",
       "      <th>Settlement</th>\n",
       "      <th>Building Dimension</th>\n",
       "      <th>Building_Type</th>\n",
       "      <th>Date_of_Occupancy</th>\n",
       "      <th>NumberOfWindows</th>\n",
       "      <th>Geo_Code</th>\n",
       "    </tr>\n",
       "  </thead>\n",
       "  <tbody>\n",
       "    <tr>\n",
       "      <th>0</th>\n",
       "      <td>0.25</td>\n",
       "      <td>1.0</td>\n",
       "      <td>0.0</td>\n",
       "      <td>0.0</td>\n",
       "      <td>1.0</td>\n",
       "      <td>1.0</td>\n",
       "      <td>1.0</td>\n",
       "      <td>0.013802</td>\n",
       "      <td>0.0</td>\n",
       "      <td>0.881104</td>\n",
       "      <td>0.0</td>\n",
       "      <td>0.00536</td>\n",
       "    </tr>\n",
       "    <tr>\n",
       "      <th>1</th>\n",
       "      <td>0.75</td>\n",
       "      <td>1.0</td>\n",
       "      <td>0.0</td>\n",
       "      <td>1.0</td>\n",
       "      <td>0.0</td>\n",
       "      <td>0.0</td>\n",
       "      <td>0.0</td>\n",
       "      <td>0.023354</td>\n",
       "      <td>0.0</td>\n",
       "      <td>0.647558</td>\n",
       "      <td>0.4</td>\n",
       "      <td>0.00536</td>\n",
       "    </tr>\n",
       "    <tr>\n",
       "      <th>2</th>\n",
       "      <td>0.50</td>\n",
       "      <td>1.0</td>\n",
       "      <td>0.0</td>\n",
       "      <td>0.0</td>\n",
       "      <td>1.0</td>\n",
       "      <td>1.0</td>\n",
       "      <td>1.0</td>\n",
       "      <td>0.028368</td>\n",
       "      <td>0.0</td>\n",
       "      <td>0.881104</td>\n",
       "      <td>0.0</td>\n",
       "      <td>0.00536</td>\n",
       "    </tr>\n",
       "    <tr>\n",
       "      <th>3</th>\n",
       "      <td>0.25</td>\n",
       "      <td>1.0</td>\n",
       "      <td>0.0</td>\n",
       "      <td>1.0</td>\n",
       "      <td>1.0</td>\n",
       "      <td>1.0</td>\n",
       "      <td>1.0</td>\n",
       "      <td>0.135584</td>\n",
       "      <td>0.0</td>\n",
       "      <td>0.881104</td>\n",
       "      <td>0.0</td>\n",
       "      <td>0.00536</td>\n",
       "    </tr>\n",
       "    <tr>\n",
       "      <th>4</th>\n",
       "      <td>0.50</td>\n",
       "      <td>1.0</td>\n",
       "      <td>0.0</td>\n",
       "      <td>1.0</td>\n",
       "      <td>0.0</td>\n",
       "      <td>0.0</td>\n",
       "      <td>0.0</td>\n",
       "      <td>0.032428</td>\n",
       "      <td>0.0</td>\n",
       "      <td>0.541401</td>\n",
       "      <td>0.3</td>\n",
       "      <td>0.00536</td>\n",
       "    </tr>\n",
       "  </tbody>\n",
       "</table>\n",
       "</div>"
      ],
      "text/plain": [
       "   YearOfObservation  Insured_Period  Residential  Building_Painted  \\\n",
       "0               0.25             1.0          0.0               0.0   \n",
       "1               0.75             1.0          0.0               1.0   \n",
       "2               0.50             1.0          0.0               0.0   \n",
       "3               0.25             1.0          0.0               1.0   \n",
       "4               0.50             1.0          0.0               1.0   \n",
       "\n",
       "   Building_Fenced  Garden  Settlement  Building Dimension  Building_Type  \\\n",
       "0              1.0     1.0         1.0            0.013802            0.0   \n",
       "1              0.0     0.0         0.0            0.023354            0.0   \n",
       "2              1.0     1.0         1.0            0.028368            0.0   \n",
       "3              1.0     1.0         1.0            0.135584            0.0   \n",
       "4              0.0     0.0         0.0            0.032428            0.0   \n",
       "\n",
       "   Date_of_Occupancy  NumberOfWindows  Geo_Code  \n",
       "0           0.881104              0.0   0.00536  \n",
       "1           0.647558              0.4   0.00536  \n",
       "2           0.881104              0.0   0.00536  \n",
       "3           0.881104              0.0   0.00536  \n",
       "4           0.541401              0.3   0.00536  "
      ]
     },
     "execution_count": 116,
     "metadata": {},
     "output_type": "execute_result"
    }
   ],
   "source": [
    "X_train_full = train_full.drop([TARGET], axis=1)\n",
    "y_train_full = train_full[TARGET]\n",
    "\n",
    "X_train_full.head()"
   ]
  },
  {
   "cell_type": "code",
   "execution_count": null,
   "metadata": {},
   "outputs": [],
   "source": [
    "X_Train_full, X_Val_full, y_Train_full, y_Val_full = train_test_split(X_train_full, y_train_full, test_size = 0.1, random_state=SEED)"
   ]
  },
  {
   "attachments": {},
   "cell_type": "markdown",
   "metadata": {},
   "source": [
    "### Entrainement du modèle avec CatBoost"
   ]
  },
  {
   "cell_type": "code",
   "execution_count": 43,
   "metadata": {},
   "outputs": [],
   "source": [
    "params = {\n",
    "    'n_estimators': 3000,\n",
    "    'learning_rate': 0.1,\n",
    "    'objective': 'Logloss',\n",
    "    'eval_metric': 'AUC',\n",
    "    'rsm': 0.7,\n",
    "    'random_seed': SEED,\n",
    "    'early_stopping_rounds': 300,\n",
    "    'use_best_model': True,\n",
    "}"
   ]
  },
  {
   "cell_type": "code",
   "execution_count": 101,
   "metadata": {},
   "outputs": [
    {
     "name": "stdout",
     "output_type": "stream",
     "text": [
      "Taux d'erreur du LogisticRegression() : 0.5752068216481028\n"
     ]
    }
   ],
   "source": [
    "model_lr = LogisticRegression()\n",
    "model_lr.fit(X_Train_full, y_Train_full)\n",
    "\n",
    "y_model_lr = model_lr.predict(X_Val_full)\n",
    "fpr, tpr, thresholds = roc_curve(y_Val_full, y_model_lr, pos_label=1)\n",
    "metrique = auc(fpr, tpr)\n",
    "\n",
    "print(f\"Taux d'erreur du {str(model_lr)} : {metrique}\")"
   ]
  },
  {
   "cell_type": "code",
   "execution_count": 102,
   "metadata": {},
   "outputs": [
    {
     "name": "stdout",
     "output_type": "stream",
     "text": [
      "Taux d'erreur du XGBClassifier(base_score=None, booster=None, callbacks=None,\n",
      "              colsample_bylevel=None, colsample_bynode=None,\n",
      "              colsample_bytree=None, early_stopping_rounds=None,\n",
      "              enable_categorical=False, eval_metric=None, feature_types=None,\n",
      "              gamma=None, gpu_id=None, grow_policy=None, importance_type=None,\n",
      "              interaction_constraints=None, learning_rate=None, max_bin=None,\n",
      "              max_cat_threshold=None, max_cat_to_onehot=None,\n",
      "              max_delta_step=None, max_depth=None, max_leaves=None,\n",
      "              min_child_weight=None, missing=nan, monotone_constraints=None,\n",
      "              n_estimators=100, n_jobs=None, num_parallel_tree=None,\n",
      "              predictor=None, random_state=None, ...) : 0.6361787678513657\n"
     ]
    }
   ],
   "source": [
    "model_xgb = XGBClassifier()\n",
    "model_xgb.fit(X_Train_full, y_Train_full)\n",
    "\n",
    "y_model_xgb = model_xgb.predict(X_Val_full)\n",
    "# metrique = 1 - accuracy_score(y_Val, y_model_xgb)\n",
    "fpr, tpr, thresholds = roc_curve(y_Val_full, y_model_xgb, pos_label=1)\n",
    "metrique = auc(fpr, tpr)\n",
    "\n",
    "print(f\"Taux d'erreur du {str(model_xgb)} : {metrique}\")"
   ]
  },
  {
   "cell_type": "code",
   "execution_count": 103,
   "metadata": {},
   "outputs": [
    {
     "name": "stdout",
     "output_type": "stream",
     "text": [
      "Taux d'erreur du LGBMClassifier() : 0.6058487775569626\n"
     ]
    }
   ],
   "source": [
    "model_lgbm = LGBMClassifier()\n",
    "model_lgbm.fit(X_Train_full, y_Train_full)\n",
    "\n",
    "y_model_lgbm = model_lgbm.predict(X_Val_full)\n",
    "fpr, tpr, thresholds = roc_curve(y_Val_full, y_model_lgbm, pos_label=1)\n",
    "metrique = auc(fpr, tpr)\n",
    "\n",
    "print(f\"Taux d'erreur du {str(model_lgbm)} : {metrique}\")"
   ]
  },
  {
   "cell_type": "code",
   "execution_count": 44,
   "metadata": {},
   "outputs": [
    {
     "name": "stdout",
     "output_type": "stream",
     "text": [
      "0:\ttest: 0.7306235\tbest: 0.7306235 (0)\ttotal: 5.77ms\tremaining: 17.3s\n",
      "50:\ttest: 0.7481340\tbest: 0.7573716 (2)\ttotal: 173ms\tremaining: 10s\n",
      "100:\ttest: 0.7447255\tbest: 0.7573716 (2)\ttotal: 341ms\tremaining: 9.79s\n",
      "150:\ttest: 0.7393238\tbest: 0.7573716 (2)\ttotal: 506ms\tremaining: 9.55s\n",
      "200:\ttest: 0.7333387\tbest: 0.7573716 (2)\ttotal: 693ms\tremaining: 9.64s\n",
      "250:\ttest: 0.7302537\tbest: 0.7573716 (2)\ttotal: 864ms\tremaining: 9.46s\n",
      "300:\ttest: 0.7299995\tbest: 0.7573716 (2)\ttotal: 1.04s\tremaining: 9.35s\n",
      "Stopped by overfitting detector  (300 iterations wait)\n",
      "\n",
      "bestTest = 0.7573716319\n",
      "bestIteration = 2\n",
      "\n",
      "Shrink model to first 3 iterations.\n",
      "Taux d'erreur du <catboost.core.CatBoostClassifier object at 0x000001E3E06A6860> : 0.5023570735314508\n"
     ]
    }
   ],
   "source": [
    "model_cb = CatBoostClassifier(**params)\n",
    "model_cb.fit(X_Train, y_Train, eval_set=[(X_Val, y_Val)], verbose=50)\n",
    "\n",
    "y_model_cb = model_cb.predict(X_Val)\n",
    "fpr, tpr, thresholds = roc_curve(y_Val, y_model_cb, pos_label=1)\n",
    "metrique = auc(fpr, tpr)\n",
    "\n",
    "print(f\"Taux d'erreur du {str(model_cb)} : {metrique}\")"
   ]
  },
  {
   "cell_type": "code",
   "execution_count": 105,
   "metadata": {},
   "outputs": [
    {
     "name": "stdout",
     "output_type": "stream",
     "text": [
      "0:\ttest: 0.7050365\tbest: 0.7050365 (0)\ttotal: 3.9ms\tremaining: 11.7s\n",
      "50:\ttest: 0.7475216\tbest: 0.7492894 (24)\ttotal: 228ms\tremaining: 13.2s\n",
      "100:\ttest: 0.7428826\tbest: 0.7492894 (24)\ttotal: 437ms\tremaining: 12.5s\n",
      "150:\ttest: 0.7476429\tbest: 0.7492894 (24)\ttotal: 666ms\tremaining: 12.6s\n",
      "200:\ttest: 0.7473541\tbest: 0.7492894 (24)\ttotal: 895ms\tremaining: 12.5s\n",
      "Stopped by overfitting detector  (200 iterations wait)\n",
      "\n",
      "bestTest = 0.7492894117\n",
      "bestIteration = 24\n",
      "\n",
      "Shrink model to first 25 iterations.\n",
      "Taux d'erreur du <catboost.core.CatBoostClassifier object at 0x000001F37D35AA40> : 0.578453574894856\n"
     ]
    }
   ],
   "source": [
    "model_full = CatBoostClassifier(**params)\n",
    "model_full.fit(X_Train_full, y_Train_full, eval_set=[(X_Val_full, y_Val_full)], verbose=50)\n",
    "\n",
    "y_model_full = model_full.predict(X_Val_full)\n",
    "fpr, tpr, thresholds = roc_curve(y_Val_full, y_model_full, pos_label=1)\n",
    "metrique = auc(fpr, tpr)\n",
    "\n",
    "print(f\"Taux d'erreur du {str(model_full)} : {metrique}\")"
   ]
  },
  {
   "attachments": {},
   "cell_type": "markdown",
   "metadata": {},
   "source": [
    "Matrice de confusion"
   ]
  },
  {
   "cell_type": "code",
   "execution_count": 31,
   "metadata": {},
   "outputs": [
    {
     "data": {
      "image/png": "[encoded data removed]",
      "text/plain": [
       "<Figure size 640x480 with 2 Axes>"
      ]
     },
     "metadata": {},
     "output_type": "display_data"
    }
   ],
   "source": [
    "# traçons la matrice de confusion pour le modèle\n",
    "ConfusionMatrixDisplay.from_estimator(model_cb, X_Val, y_Val, normalize='true')\n",
    "plt.show()"
   ]
  },
  {
   "cell_type": "code",
   "execution_count": 112,
   "metadata": {},
   "outputs": [
    {
     "data": {
      "image/png": "[encoded data removed]",
      "text/plain": [
       "<Figure size 640x480 with 2 Axes>"
      ]
     },
     "metadata": {},
     "output_type": "display_data"
    }
   ],
   "source": [
    "# traçons la matrice de confusion pour le modèle\n",
    "ConfusionMatrixDisplay.from_estimator(model_xgb, X_Val_full, y_Val_full, normalize='true')\n",
    "plt.show()"
   ]
  },
  {
   "attachments": {},
   "cell_type": "markdown",
   "metadata": {},
   "source": [
    "## Prediction"
   ]
  },
  {
   "cell_type": "code",
   "execution_count": 32,
   "metadata": {},
   "outputs": [],
   "source": [
    "model = model_cb\n",
    "# model = model_xgb\n",
    "# model = model_lr\n",
    "# model = model_lgbm"
   ]
  },
  {
   "cell_type": "code",
   "execution_count": 33,
   "metadata": {},
   "outputs": [],
   "source": [
    "try:\n",
    "\ttest_pp.drop(['Claim'], axis=1, inplace=True)\n",
    "\t# test_full.drop(['Claim'], axis=1, inplace=True)\n",
    "except: pass"
   ]
  },
  {
   "cell_type": "code",
   "execution_count": 34,
   "metadata": {},
   "outputs": [
    {
     "data": {
      "text/html": [
       "<div>\n",
       "<style scoped>\n",
       "    .dataframe tbody tr th:only-of-type {\n",
       "        vertical-align: middle;\n",
       "    }\n",
       "\n",
       "    .dataframe tbody tr th {\n",
       "        vertical-align: top;\n",
       "    }\n",
       "\n",
       "    .dataframe thead th {\n",
       "        text-align: right;\n",
       "    }\n",
       "</style>\n",
       "<table border=\"1\" class=\"dataframe\">\n",
       "  <thead>\n",
       "    <tr style=\"text-align: right;\">\n",
       "      <th></th>\n",
       "      <th>Customer Id</th>\n",
       "      <th>YearOfObservation</th>\n",
       "      <th>Insured_Period</th>\n",
       "      <th>Residential</th>\n",
       "      <th>Building_Painted</th>\n",
       "      <th>Building_Fenced</th>\n",
       "      <th>Garden</th>\n",
       "      <th>Settlement</th>\n",
       "      <th>Building Dimension</th>\n",
       "      <th>Building_Type</th>\n",
       "      <th>Date_of_Occupancy</th>\n",
       "      <th>NumberOfWindows</th>\n",
       "      <th>Geo_Code</th>\n",
       "      <th>Claim</th>\n",
       "    </tr>\n",
       "  </thead>\n",
       "  <tbody>\n",
       "    <tr>\n",
       "      <th>0</th>\n",
       "      <td>H11920</td>\n",
       "      <td>2013</td>\n",
       "      <td>1.000000</td>\n",
       "      <td>0</td>\n",
       "      <td>V</td>\n",
       "      <td>N</td>\n",
       "      <td>O</td>\n",
       "      <td>R</td>\n",
       "      <td>300.0</td>\n",
       "      <td>1</td>\n",
       "      <td>1960.0</td>\n",
       "      <td>3</td>\n",
       "      <td>3310</td>\n",
       "      <td>0.0</td>\n",
       "    </tr>\n",
       "    <tr>\n",
       "      <th>1</th>\n",
       "      <td>H11921</td>\n",
       "      <td>2016</td>\n",
       "      <td>0.997268</td>\n",
       "      <td>0</td>\n",
       "      <td>V</td>\n",
       "      <td>N</td>\n",
       "      <td>O</td>\n",
       "      <td>R</td>\n",
       "      <td>300.0</td>\n",
       "      <td>1</td>\n",
       "      <td>1960.0</td>\n",
       "      <td>3</td>\n",
       "      <td>3310</td>\n",
       "      <td>0.0</td>\n",
       "    </tr>\n",
       "    <tr>\n",
       "      <th>2</th>\n",
       "      <td>H9805</td>\n",
       "      <td>2013</td>\n",
       "      <td>0.369863</td>\n",
       "      <td>0</td>\n",
       "      <td>V</td>\n",
       "      <td>V</td>\n",
       "      <td>V</td>\n",
       "      <td>U</td>\n",
       "      <td>790.0</td>\n",
       "      <td>1</td>\n",
       "      <td>1960.0</td>\n",
       "      <td>.</td>\n",
       "      <td>3310</td>\n",
       "      <td>0.0</td>\n",
       "    </tr>\n",
       "    <tr>\n",
       "      <th>3</th>\n",
       "      <td>H7493</td>\n",
       "      <td>2014</td>\n",
       "      <td>1.000000</td>\n",
       "      <td>0</td>\n",
       "      <td>V</td>\n",
       "      <td>N</td>\n",
       "      <td>O</td>\n",
       "      <td>R</td>\n",
       "      <td>1405.0</td>\n",
       "      <td>1</td>\n",
       "      <td>2004.0</td>\n",
       "      <td>3</td>\n",
       "      <td>3321</td>\n",
       "      <td>0.0</td>\n",
       "    </tr>\n",
       "    <tr>\n",
       "      <th>4</th>\n",
       "      <td>H7494</td>\n",
       "      <td>2016</td>\n",
       "      <td>1.000000</td>\n",
       "      <td>0</td>\n",
       "      <td>V</td>\n",
       "      <td>N</td>\n",
       "      <td>O</td>\n",
       "      <td>R</td>\n",
       "      <td>1405.0</td>\n",
       "      <td>1</td>\n",
       "      <td>2004.0</td>\n",
       "      <td>3</td>\n",
       "      <td>3321</td>\n",
       "      <td>0.0</td>\n",
       "    </tr>\n",
       "  </tbody>\n",
       "</table>\n",
       "</div>"
      ],
      "text/plain": [
       "  Customer Id  YearOfObservation  Insured_Period  Residential  \\\n",
       "0      H11920               2013        1.000000            0   \n",
       "1      H11921               2016        0.997268            0   \n",
       "2       H9805               2013        0.369863            0   \n",
       "3       H7493               2014        1.000000            0   \n",
       "4       H7494               2016        1.000000            0   \n",
       "\n",
       "  Building_Painted Building_Fenced Garden Settlement  Building Dimension  \\\n",
       "0                V               N      O          R               300.0   \n",
       "1                V               N      O          R               300.0   \n",
       "2                V               V      V          U               790.0   \n",
       "3                V               N      O          R              1405.0   \n",
       "4                V               N      O          R              1405.0   \n",
       "\n",
       "   Building_Type  Date_of_Occupancy NumberOfWindows Geo_Code  Claim  \n",
       "0              1             1960.0               3     3310    0.0  \n",
       "1              1             1960.0               3     3310    0.0  \n",
       "2              1             1960.0               .     3310    0.0  \n",
       "3              1             2004.0               3     3321    0.0  \n",
       "4              1             2004.0               3     3321    0.0  "
      ]
     },
     "execution_count": 34,
     "metadata": {},
     "output_type": "execute_result"
    }
   ],
   "source": [
    "test[TARGET] = model.predict(test_pp)\n",
    "# test[TARGET] = model.predict(test_full)\n",
    "test.head(5)"
   ]
  },
  {
   "attachments": {},
   "cell_type": "markdown",
   "metadata": {},
   "source": [
    "## Submission"
   ]
  },
  {
   "attachments": {},
   "cell_type": "markdown",
   "metadata": {},
   "source": [
    "Visualisation du fichier d'exemple de soumission"
   ]
  },
  {
   "cell_type": "code",
   "execution_count": 35,
   "metadata": {},
   "outputs": [
    {
     "data": {
      "text/html": [
       "<div>\n",
       "<style scoped>\n",
       "    .dataframe tbody tr th:only-of-type {\n",
       "        vertical-align: middle;\n",
       "    }\n",
       "\n",
       "    .dataframe tbody tr th {\n",
       "        vertical-align: top;\n",
       "    }\n",
       "\n",
       "    .dataframe thead th {\n",
       "        text-align: right;\n",
       "    }\n",
       "</style>\n",
       "<table border=\"1\" class=\"dataframe\">\n",
       "  <thead>\n",
       "    <tr style=\"text-align: right;\">\n",
       "      <th></th>\n",
       "      <th>Customer Id</th>\n",
       "      <th>Claim</th>\n",
       "    </tr>\n",
       "  </thead>\n",
       "  <tbody>\n",
       "    <tr>\n",
       "      <th>0</th>\n",
       "      <td>H0</td>\n",
       "      <td>1</td>\n",
       "    </tr>\n",
       "    <tr>\n",
       "      <th>1</th>\n",
       "      <td>H10000</td>\n",
       "      <td>1</td>\n",
       "    </tr>\n",
       "    <tr>\n",
       "      <th>2</th>\n",
       "      <td>H10001</td>\n",
       "      <td>1</td>\n",
       "    </tr>\n",
       "    <tr>\n",
       "      <th>3</th>\n",
       "      <td>H10002</td>\n",
       "      <td>1</td>\n",
       "    </tr>\n",
       "    <tr>\n",
       "      <th>4</th>\n",
       "      <td>H10003</td>\n",
       "      <td>1</td>\n",
       "    </tr>\n",
       "  </tbody>\n",
       "</table>\n",
       "</div>"
      ],
      "text/plain": [
       "  Customer Id  Claim\n",
       "0          H0      1\n",
       "1      H10000      1\n",
       "2      H10001      1\n",
       "3      H10002      1\n",
       "4      H10003      1"
      ]
     },
     "execution_count": 35,
     "metadata": {},
     "output_type": "execute_result"
    }
   ],
   "source": [
    "sample_submission.head()"
   ]
  },
  {
   "attachments": {},
   "cell_type": "markdown",
   "metadata": {},
   "source": [
    "Création de notre fichier de soumission"
   ]
  },
  {
   "cell_type": "code",
   "execution_count": 36,
   "metadata": {},
   "outputs": [],
   "source": [
    "submissions = pd.DataFrame({ID: test[ID], TARGET: test[TARGET].astype(int)})\n",
    "today = dt.now().strftime(format=\"%Y-%m-%d_%Hh%M\")\n",
    "submissions.to_csv(f'submissions/submission_{today}.csv', index=False)"
   ]
  },
  {
   "cell_type": "code",
   "execution_count": 37,
   "metadata": {},
   "outputs": [
    {
     "data": {
      "image/png": "[encoded data removed]",
      "text/plain": [
       "<Figure size 500x500 with 1 Axes>"
      ]
     },
     "metadata": {},
     "output_type": "display_data"
    }
   ],
   "source": [
    "# explorons la distribution de la target\n",
    "sns.catplot(data=submissions, x=TARGET, kind='count')\n",
    "plt.show()"
   ]
  },
  {
   "attachments": {},
   "cell_type": "markdown",
   "metadata": {},
   "source": [
    "## Model saving"
   ]
  },
  {
   "cell_type": "code",
   "execution_count": null,
   "metadata": {},
   "outputs": [
    {
     "data": {
      "text/plain": [
       "['models/basique_0.553050188.pkl']"
      ]
     },
     "execution_count": 61,
     "metadata": {},
     "output_type": "execute_result"
    }
   ],
   "source": [
    "# Save the model as a pickle in a file\n",
    "file_name = 'basique_0.553050188'\n",
    "joblib.dump(model, f'models/{file_name}.pkl')"
   ]
  }
 ],
 "metadata": {
  "kernelspec": {
   "display_name": "Python 3",
   "language": "python",
   "name": "python3"
  },
  "language_info": {
   "codemirror_mode": {
    "name": "ipython",
    "version": 3
   },
   "file_extension": ".py",
   "mimetype": "text/x-python",
   "name": "python",
   "nbconvert_exporter": "python",
   "pygments_lexer": "ipython3",
   "version": "3.10.10"
  },
  "orig_nbformat": 4
 },
 "nbformat": 4,
 "nbformat_minor": 2
}
